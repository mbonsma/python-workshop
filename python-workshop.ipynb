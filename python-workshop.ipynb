{
 "cells": [
  {
   "cell_type": "markdown",
   "metadata": {},
   "source": [
    "# Working with data in Python"
   ]
  },
  {
   "cell_type": "markdown",
   "metadata": {},
   "source": [
    "\n",
    "## Lesson preamble\n",
    "\n",
    "This 5-hour workshop takes learners through the basics of programming in Python via the Jupyter Lab interface and culminates with exploration and visualization of real-world bicycle count data from the City of Toronto. \n",
    "\n",
    "### Lesson objectives\n",
    "\n",
    "#### Part 1: introduction to programming in Python\n",
    "- Overview of the capabilities of Python and how to use\n",
    "  JupyterLab for exploratory data analyses.\n",
    "- Learn about some differences between Python and Excel.\n",
    "- Learn basic Python commands.\n",
    "- Learn about the Markdown syntax and how to use it within the Jupyter Notebook.\n",
    "\n",
    "#### Part 2: working with data in Python\n",
    "- Describe what a data frame is\n",
    "- Load external data from a .csv file into a data frame with `pandas`\n",
    "- Summarize the contents of a data frame with `pandas`.\n",
    "- Learn to use data frame attributes `loc[]`, `head()`, `info()`, `describe()`, `shape`, `columns`, `index`.\n",
    "- Understand the split-apply-combine concept for data analysis.\n",
    "- Use `groupby()`, `mean()`, `agg()` and `size()` to apply this technique.\n",
    "\n",
    "#### Part 3: visualizing data\n",
    "- Produce scatter plots, line plots, and histograms using `seaborn` and `matplotlib`.\n",
    "- Understand how to graphically explore relationships between variables.\n",
    "- Apply grids for faceting in `seaborn`.\n",
    "- Set universal plot settings.\n",
    "- Use `seaborn` grids with `matplotlib` functions\n",
    "\n",
    "### Lesson outline\n",
    "\n",
    "- Communicating with computers (5 min)\n",
    "    - Advantages of text-based communication (10 min)\n",
    "    - Speaking Python (5 min)\n",
    "    - Natural and formal languages (10 min)\n",
    "- The Jupyter Notebook (10 min)\n",
    "- Data analysis in Python (5 min)\n",
    "    - Packages (5 min)\n",
    "    - How to get help (5 min)\n",
    "    - Exploring data with `pandas` (10 min)\n",
    "    - Visualizing data with `seaborn` (10 min)\n",
    "- Manipulating and analyzing data with pandas\n",
    "    - Data set background (10 min)\n",
    "    - What are data frames (15 min)\n",
    "    - Data wrangling with pandas (40 min)\n",
    "- Split-apply-combine techniques in `pandas`\n",
    "    - Using `mean()` to summarize categorical data (20 min)\n",
    "    - Using `size()` to summarize categorical data (15 min)\n",
    "- Combining data frames (15 min, time permitting)\n",
    "- Data visualization with `matplotlib` and `seaborn` (10 min)\n",
    "    - Visualizing one quantitative variable with multiple categorical variables (40 min)\n",
    "    - Visualizing the relationship of two quantitative variable with multiple categorical variables (40min)\n",
    "    - Using any plotting function with `seaborn` grids (20 min)\n"
   ]
  },
  {
   "cell_type": "markdown",
   "metadata": {},
   "source": [
    "## Setup\n",
    "\n",
    "- Install Python 3 via [Anaconda](https://www.anaconda.com/download/). Anaconda is a distribution of Python that also includes the most commonly used packages as well as some nice tools for working with code. The one we will use today is called [JupyterLab](http://jupyterlab.readthedocs.io/en/stable/index.html) and comes with newer downloads of Anaconda. (Before February 2018, Anaconda came with Jupyter notebook, an older version.)\n",
    "- **Important:** If you downloaded Anaconda before July 2018, make sure to update the package `seaborn` before beginning:\n",
    "   - Open a terminal window or `anaconda prompt` and type `conda update seaborn` and hit enter. If that doesn't work, try `conda install seaborn`.\n",
    "- Open **JupyterLab**: \n",
    "   - Open **Anaconda Navigator** and select **JupyterLab**, *or*\n",
    "   - Open a terminal window or `anaconda prompt` and type `jupyter-lab` \n",
    "   "
   ]
  },
  {
   "cell_type": "markdown",
   "metadata": {},
   "source": [
    "# Introduction"
   ]
  },
  {
   "cell_type": "markdown",
   "metadata": {},
   "source": [
    "The aim of this workshop is to teach you basic concepts, skills, and tools for working with data so that you can get more done in less time, while having more fun. We will show you how to use the programming language Python to replace many of the tasks you would normally do in spreadsheet software such as Excel, and also do more advanced analysis.\n",
    "\n",
    "How many here have worked with a programming language before?\n",
    "\n",
    "## Communicating with computers\n",
    "\n",
    "- Computing is about humans communicating with the computer to modulate flows of current in the hardware, in order to get the computer to carry out advanced calculations that we are unable to efficiently compute ourselves. \n",
    "- Early examples of human-computer communication included actually disconnecting a wire and connecting it again in a different spot. \n",
    "- Today we usually use graphical user interfaces with menus and buttons. These graphical interfaces can be thought of as a layer or shell around the internal components of your operating system making it easier for us to express our thoughts and for computers to interpret them.\n",
    "- An example of a graphical user interface is spreadsheet software such as Microsoft Excel or LibreOffice Calc. Here, all the functionality of the program is accessible via hierarchical menus, and clicking buttons sends instructions to the computer, which then responds and sends the results back to your screen.\n",
    "- Spreadsheet software is great for viewing and entering small data sets and creating simple visualizations fast. However, it can be tricky to design publication-ready figures, create automatic reproducible analysis workflows, perform advanced calculations, and reliably clean data sets. Even when using a spreadsheet program to record data, it is often beneficial to have some some basic programming skills to facilitate the analyses of those data."
   ]
  },
  {
   "cell_type": "markdown",
   "metadata": {},
   "source": [
    "### Advantages of text-based communication\n",
    "\n",
    "Today we will communicate with our computers via text rather than graphical point and click. Typing instructions to the computer might at first seem counterintuitive and unnecessarily difficult. While graphical user interfaces can be nice when you are new to something, text-based interfaces are more powerful, faster and actually also easier to use once you get comfortable with them.\n",
    "\n",
    "Think about learning a language: in the beginning it's nice to look things up in a dictionary (or a menu in a graphical program), and slowly string together sentences one word at a time. But once we become more proficient in the language and know what we want to say, it is easier to say or type it directly, instead of having to look up every word in the dictionary first.\n",
    "\n",
    "Text interfaces are also less resource-intensive than their graphical counterparts and easier to develop programs for since you don't have to code the graphical components. It is also much easier to automate and repeat any task once you have all the instructions written down. This facilitates reproducibility of analysis, not only between studies from different labs, but also between researchers in the same lab: compare being shown how to perform a certain analysis in spreadsheet software, where the instruction will essentially be \"first you click here, then here, then here...\", with being handed the same workflow written down in several lines of codes which you can analyse and understand at your own pace. \n",
    "\n",
    "Since text is the easiest way for people who are fluent in computer languages to interact with computers, many powerful programs are written without a graphical user interface (which makes it faster to create these programs) and to use these programs you often need to know how to use a text interface. For example, many of the best data analysis and machine learning packages are written in Python or R, and you need to know these languages to use them. Even if the program or package you want to use is not written in Python, much of the knowledge you gain from understanding one programming language can be transferred to others. In addition, most powerful computers that you can log into remotely might only give you a text interface to work with and there is no way to launch a graphical user interface."
   ]
  },
  {
   "cell_type": "markdown",
   "metadata": {},
   "source": [
    "### Speaking Python\n",
    "\n",
    "To communicate with the computer via Python, we first need an environment that knows how to interpret Python code. We want commands we type to be *interpreted* into machine language so that the computer can understand it. For the entire workshop today, we will use the **JupyterLab** environment to work in. \n",
    "\n",
    "#### Launch JupyterLab\n",
    "\n",
    "**Method 1**\n",
    "On Windows open the `Anaconda Prompt`, on MacOS open `terminal.app`, and on Linux open whichever terminal you prefer (e.g. `gnome-terminal` or `konsole`). Then type in `jupyter-lab` and hit <kbd>Enter</kbd>. \n",
    "\n",
    "**Method 2**\n",
    "Open `Anaconda Navigator`, then select `JupyterLab` from the menu.\n",
    "\n",
    "You should see something like this:\n",
    "\n",
    "![](img/jupyter-start-screen.bmp)\n",
    " "
   ]
  },
  {
   "cell_type": "markdown",
   "metadata": {},
   "source": [
    "## The Jupyter Notebook\n",
    "\n",
    "Jupyter originates from a project called IPython, an effort to make Python development more interactive. Since its inception, the scope of the project expanded to include additional programming languages, such as Julia, Python, and R, so the name was changed to \"Jupyter\" as a reference to these core languages. Today, Jupyter supports many more languages, but we will be using it only for Python code. Specifically, we will be using the notebook from Jupyter, which allows us to easily take notes about our analysis and view plots within the same document where we code. This facilitates sharing and reproducibility of analyses, and the notebook interface is easily accessible through any web browser as well as exportable as a PDF or HTML page.\n",
    "\n",
    "In the new browser tab, click the plus sign to the left and select to create a new notebook in the Python language (also `File --> New --> Notebook`).\n",
    "\n",
    "Initially the notebook has no name other than \"Untitled\". If you click on \"Untitled\" you will be given the option of changing the name to whatever you want.\n",
    "\n",
    "The notebook is divided into cells. Initially there will be a single input cell. You can type Python code directly into the cell. To run the output, press <kbd>Shift</kbd> + <kbd>Enter</kbd> or click the play button in the toolbar."
   ]
  },
  {
   "cell_type": "code",
   "execution_count": 2,
   "metadata": {
    "collapsed": false
   },
   "outputs": [
    {
     "data": {
      "text/plain": [
       "9"
      ]
     },
     "execution_count": 2,
     "metadata": {},
     "output_type": "execute_result"
    }
   ],
   "source": [
    "4 + 5"
   ]
  },
  {
   "cell_type": "markdown",
   "metadata": {},
   "source": [
    "The sparseness in the input `4 + 5` is much more efficient than typing \"Hello computer, could you please add 4 and 5 for me?\". Formal computer languages also avoid the ambiguity present in natural languages such as English. You can think of Python as a combination of math and a formal, succinct version of English. Since it is designed to reduce ambiguity, Python lacks the edge cases and special rules that can make English so difficult to learn, and there is almost always a logical reason for how the Python language is designed, not only a historical one.\n",
    "\n",
    "The syntax for assigning a value to a variable is also similar to how this is written in math."
   ]
  },
  {
   "cell_type": "code",
   "execution_count": 3,
   "metadata": {
    "collapsed": true
   },
   "outputs": [],
   "source": [
    "a = 4"
   ]
  },
  {
   "cell_type": "code",
   "execution_count": 4,
   "metadata": {
    "collapsed": false
   },
   "outputs": [
    {
     "data": {
      "text/plain": [
       "8"
      ]
     },
     "execution_count": 4,
     "metadata": {},
     "output_type": "execute_result"
    }
   ],
   "source": [
    "a * 2"
   ]
  },
  {
   "cell_type": "markdown",
   "metadata": {},
   "source": [
    "Learning programming really is similar to learning a foreign language - you will often learn the most from just trying to do something and receiving feedback (from the computer or another person)! When there is something you can't wrap your head around, or if you are actively trying to find a new way of expressing a thought, then look it up, just as you would with a natural language."
   ]
  },
  {
   "cell_type": "code",
   "execution_count": 5,
   "metadata": {
    "collapsed": false
   },
   "outputs": [
    {
     "data": {
      "text/plain": [
       "9"
      ]
     },
     "execution_count": 5,
     "metadata": {},
     "output_type": "execute_result"
    }
   ],
   "source": [
    "4 + 5"
   ]
  },
  {
   "cell_type": "markdown",
   "metadata": {},
   "source": [
    "By default, the code in the current cell is interpreted and the next existing cell is selected or a new empty one is created (you can press <kbd>Ctrl</kbd> + <kbd>Enter</kbd> to stay on the current cell). You can split the code across several lines as needed. "
   ]
  },
  {
   "cell_type": "markdown",
   "metadata": {},
   "source": [
    "The little counter on the left of each cell keeps track of in which order the cells were executed, and changing to an `*` when the computer is processing the computation (only noticeable for computation that takes longer time). \n",
    "\n",
    "The notebook is saved automatically, but it can also be done manually from the toolbar or by hitting <kbd>Ctrl</kbd> + <kbd>s</kbd>. Both the input and the output cells are saved so any plots that you make will be present in the notebook next time you open it up without the need to rerun any code. This allows you to create complete documents with both your code and the output of the code in a single place instead of spread across text files for your codes and separate image files for each of your graphs.\n",
    "\n",
    "You can also change the cell type from Python code to Markdown using the Cell | Cell Type option. Markdown is a simple formatting system which allows you to create documentation for your code, again all within the same notebook structure. You might already be famliar with markdown if you have typed comments in online forums or use use a chat app like slack or whatsapp. A short example of the syntax:\n",
    "\n",
    "```markdown\n",
    "# Heading level one\n",
    "\n",
    "- A bullet point\n",
    "- *Emphasis in italics*\n",
    "- **Strong emphasis in bold**\n",
    "\n",
    "This is a [link to learn more about markdown](https://guides.github.com/features/mastering-markdown/)\n",
    "```\n",
    "\n",
    "The Notebook itself is stored as a JSON file with an .ipynb extension. These are specially formatted text files, which can be exported and imported into another Jupyter system. This allows you to share your code, results, and documentation with others. You can also export the notebook to HTML, PDF, and many other formats to make sharing even easier! This is done via `File --> Export Notebook As...`\n",
    "\n",
    "The data analysis environment provided by the Jupyter Notebook is very powerful and facilitates reproducible analysis. It is possible to write an entire paper in this environment, and it is very handy for reports such as progress updates since you can share your comments on the analysis together with the analysis itself.\n",
    "\n",
    "It is also possible to open up other document types in the JupyterLab interface, e.g. text documents and terminals. These can be placed side by side with the notebook through drag and drop, and all running programs can be viewed in the \"Running\" tab to the left. To search among all available commands for the notebook, the \"Commands\" tab can be used. Existing documents can be opened from the \"Files\" tab.\n"
   ]
  },
  {
   "cell_type": "markdown",
   "metadata": {},
   "source": [
    "### Does JupyterLab require the internet?\n",
    "\n",
    "Jupyter runs in your browser, but you can use it without internet access: it's all running offline, on your computer. Notice that the address bar will say something like `localhost:8888/lab`, which means it's being \"served\" from your computer. \n",
    "\n",
    "Browsers are programs that display text files that are formatted with HTML. It just so happens that most of the files you want to view are on other computers and so you need internet, but you can also open any old HTML file from your computer in your browser, without the internet."
   ]
  },
  {
   "cell_type": "markdown",
   "metadata": {},
   "source": [
    "## Data analysis in Python\n",
    "\n",
    "To access additional functionality in a spreadsheet program, you need to click the menu and select the tool you want to use. All charts are in one menu, text layout tools in another, data analyses tools in a third, and so on. Programming languages such as Python have so many tools and functions so that they would not fit in a menu. Instead of clicking `File -> Open` and chose the file, you would type something similar to `file.open('<filename>')` in a programming language. Don't worry if you forget the exact expression, it is often enough to just type the few first letters and then hit <kbd>Tab</kbd>, to show the available options, more on that later.\n",
    "\n",
    "### Packages\n",
    "\n",
    "Since there are so many functions available in Python, it is unnecessary to include all of them with the default installation of the programming language (it would be as if your new phone came with every single app preinstalled). Instead, more advanced functionality is grouped into separate packages, which can be accessed by typing `import <package_name>` in Python. You can think of this as that you are telling the program which menu items you want to activate (similar to how Excel hides the `Developer menu` by default since most people rarely use it and you need activate it in the settings if you want to access its functionality). The Anaconda Python distribution essentially bundles the core Python language with many of the most effective Python packages for data analysis, but some packages need to be downloaded before they can be used, just like downloading an addon to a browser or mobile phone.\n",
    "\n",
    "Just like in spreadsheet software menus, there are lots of different tools within each Python package. For example, if I want to use numerical Python functions, I can import the **num**erical **py**thon module, `numpy`. I can then access any function by writing `numpy.<function_name>`."
   ]
  },
  {
   "cell_type": "code",
   "execution_count": 6,
   "metadata": {
    "collapsed": false
   },
   "outputs": [
    {
     "data": {
      "text/plain": [
       "3.0"
      ]
     },
     "execution_count": 6,
     "metadata": {},
     "output_type": "execute_result"
    }
   ],
   "source": [
    "import numpy\n",
    "\n",
    "numpy.mean([1, 2, 3, 4, 5])"
   ]
  },
  {
   "cell_type": "markdown",
   "metadata": {},
   "source": [
    "### How to get help\n",
    "\n",
    "Once you start out using Python, you don't know what functions are availble within each package. Luckily, in the Jupyter Notebook, you can type `numpy.`<kbd>Tab</kbd> (that is numpy + period + tab-key) and a small menu will pop up that shows you all the available functions in that module. This is analogous to clicking a 'numpy-menu' and then going through the list of functions. As I mentioned earlier, there are plenty of available functions and it can be helpful to filter the menu by typing the initial letters of the function name.\n",
    "\n",
    "To get more info on the function you want to use, you can type out the full name and then press <kbd>Shift + Tab</kbd> once to bring up a help dialogue and again to expand that dialogue. We can see that to use this function, we need to supply it with the argument `a`, which should be 'array-like'. An array is essentially just a sequence of numbers. We just saw that one way of doing this was to enclose numbers in brackets `[]`, which in Python means that these numbers are in a list, something you will hear more about later. Instead of manually activating the menu every time, the JupyterLab  offers a tool called the \"Inspector\" which displays help information automatically. I find this very useful and always have it open next to my Notebook. More help is available via the \"Help\" menu, which links to useful online resources (for example `Help --> Numpy Reference`).\n",
    "\n",
    "When you start getting familiar with typing function names, you will notice that this is often faster than looking for functions in menus. However, sometimes you forget and it is useful to get hints via the help system described above.\n",
    "\n",
    "It is common to give packages nicknames, so that it is faster to type. This is not necessary, but can save some work in long files and make code less verbose so that it is easier to read:"
   ]
  },
  {
   "cell_type": "markdown",
   "metadata": {},
   "source": [
    "- Possibly include pandas and seaborn overview here?"
   ]
  },
  {
   "cell_type": "markdown",
   "metadata": {},
   "source": [
    "- include a bit from the spreadsheets lesson - show original bike counts file"
   ]
  },
  {
   "cell_type": "markdown",
   "metadata": {},
   "source": [
    "# Introduction to programming in Python\n",
    "\n",
    "## Lesson preamble\n",
    "\n",
    "### Learning objectives\n",
    "\n",
    "- Perform mathematical operations in Python using basic operators.\n",
    "- Define the following data types in Python: strings, integers, and floats.\n",
    "- Define the following as it relates to Python: lists, tuples, and dictionaries.\n",
    "\n",
    "### Lesson outline\n",
    "\n",
    "- Introduction to programming in Python (50 min)\n",
    "\n",
    "---"
   ]
  },
  {
   "cell_type": "markdown",
   "metadata": {},
   "source": [
    "### Operators\n",
    "\n",
    "Python can be used as a calculator and mathematical calculations use familiar operators such as `+`, `-`, `/`, and `*`."
   ]
  },
  {
   "cell_type": "code",
   "execution_count": 20,
   "metadata": {},
   "outputs": [
    {
     "data": {
      "text/plain": [
       "4"
      ]
     },
     "execution_count": 20,
     "metadata": {},
     "output_type": "execute_result"
    }
   ],
   "source": [
    "2 + 2 "
   ]
  },
  {
   "cell_type": "code",
   "execution_count": 21,
   "metadata": {},
   "outputs": [
    {
     "data": {
      "text/plain": [
       "42"
      ]
     },
     "execution_count": 21,
     "metadata": {},
     "output_type": "execute_result"
    }
   ],
   "source": [
    "6 * 7"
   ]
  },
  {
   "cell_type": "code",
   "execution_count": 22,
   "metadata": {},
   "outputs": [
    {
     "data": {
      "text/plain": [
       "1.3333333333333333"
      ]
     },
     "execution_count": 22,
     "metadata": {},
     "output_type": "execute_result"
    }
   ],
   "source": [
    "4 / 3"
   ]
  },
  {
   "cell_type": "markdown",
   "metadata": {},
   "source": [
    "Text prefaced with a `#` is called a \"comment\". These are notes to people reading the code, so they will be ignored by the Python interpreter."
   ]
  },
  {
   "cell_type": "code",
   "execution_count": 23,
   "metadata": {},
   "outputs": [
    {
     "data": {
      "text/plain": [
       "8"
      ]
     },
     "execution_count": 23,
     "metadata": {},
     "output_type": "execute_result"
    }
   ],
   "source": [
    "# `**` means \"to the power of\"\n",
    "2 ** 3"
   ]
  },
  {
   "cell_type": "markdown",
   "metadata": {},
   "source": [
    "Values can be given a nickname, this is called assigning values to variables and is handy when the same value will be used multiple times. The assignment operator in Python is `=`."
   ]
  },
  {
   "cell_type": "code",
   "execution_count": 24,
   "metadata": {},
   "outputs": [
    {
     "data": {
      "text/plain": [
       "10"
      ]
     },
     "execution_count": 24,
     "metadata": {},
     "output_type": "execute_result"
    }
   ],
   "source": [
    "a = 5\n",
    "a * 2"
   ]
  },
  {
   "cell_type": "markdown",
   "metadata": {},
   "source": [
    "A variable can be named almost anything. It is recommended to separate multiple words with underscores and start the variable name with a letter, not a number or symbol."
   ]
  },
  {
   "cell_type": "code",
   "execution_count": 25,
   "metadata": {},
   "outputs": [
    {
     "data": {
      "text/plain": [
       "1"
      ]
     },
     "execution_count": 25,
     "metadata": {},
     "output_type": "execute_result"
    }
   ],
   "source": [
    "new_variable = 4\n",
    "a - new_variable"
   ]
  },
  {
   "cell_type": "markdown",
   "metadata": {},
   "source": [
    "Variables can hold different types of data, not just numbers. For example, a sequence of characters surrounded by single or double quotation marks (called a string). In Python, it is intuitive to append string by adding them together:"
   ]
  },
  {
   "cell_type": "code",
   "execution_count": 26,
   "metadata": {},
   "outputs": [
    {
     "data": {
      "text/plain": [
       "'Hellouniverse'"
      ]
     },
     "execution_count": 26,
     "metadata": {},
     "output_type": "execute_result"
    }
   ],
   "source": [
    "b = 'Hello'\n",
    "c = 'universe'\n",
    "b + c"
   ]
  },
  {
   "cell_type": "markdown",
   "metadata": {},
   "source": [
    "A space can be added to separate the words."
   ]
  },
  {
   "cell_type": "code",
   "execution_count": 27,
   "metadata": {},
   "outputs": [
    {
     "data": {
      "text/plain": [
       "'Hello universe'"
      ]
     },
     "execution_count": 27,
     "metadata": {},
     "output_type": "execute_result"
    }
   ],
   "source": [
    "b + ' ' + c"
   ]
  },
  {
   "cell_type": "markdown",
   "metadata": {},
   "source": [
    "To find out what type a variable is, the built-in function `type()` can be used. In essence, a function can be passed input values, follows a set of instructions with how to operate on the input, and then outputs the result. This is analogous to following a recipe: the ingredients are the input, the recipe specifies the set of instructions, and the output is the finished dish."
   ]
  },
  {
   "cell_type": "code",
   "execution_count": 28,
   "metadata": {},
   "outputs": [
    {
     "data": {
      "text/plain": [
       "int"
      ]
     },
     "execution_count": 28,
     "metadata": {},
     "output_type": "execute_result"
    }
   ],
   "source": [
    "type(a)"
   ]
  },
  {
   "cell_type": "markdown",
   "metadata": {},
   "source": [
    "`int` stands for \"integer\", which is the type of any number without a decimal component.\n",
    "\n",
    "To be reminded of the value of `a`, the variable name can be typed into an empty code cell."
   ]
  },
  {
   "cell_type": "code",
   "execution_count": 29,
   "metadata": {},
   "outputs": [
    {
     "data": {
      "text/plain": [
       "5"
      ]
     },
     "execution_count": 29,
     "metadata": {},
     "output_type": "execute_result"
    }
   ],
   "source": [
    "a"
   ]
  },
  {
   "cell_type": "markdown",
   "metadata": {},
   "source": [
    "A code cell will only output its last value. To see more than one value per code cell, the built-in function `print()` can be used. When using Python from an interface that is not interactive like the JupyterLab Notebook, such as when executing a set of Python instructions together as a script, the function `print()` is often the preferred way of displaying output."
   ]
  },
  {
   "cell_type": "code",
   "execution_count": 30,
   "metadata": {},
   "outputs": [
    {
     "name": "stdout",
     "output_type": "stream",
     "text": [
      "5\n"
     ]
    },
    {
     "data": {
      "text/plain": [
       "int"
      ]
     },
     "execution_count": 30,
     "metadata": {},
     "output_type": "execute_result"
    }
   ],
   "source": [
    "print(a)\n",
    "type(a)"
   ]
  },
  {
   "cell_type": "markdown",
   "metadata": {},
   "source": [
    "Numbers with a decimal component are referred to as floats"
   ]
  },
  {
   "cell_type": "code",
   "execution_count": 31,
   "metadata": {},
   "outputs": [
    {
     "data": {
      "text/plain": [
       "float"
      ]
     },
     "execution_count": 31,
     "metadata": {},
     "output_type": "execute_result"
    }
   ],
   "source": [
    "type(3.14)"
   ]
  },
  {
   "cell_type": "markdown",
   "metadata": {},
   "source": [
    "Text is of the type `str`, which stands for \"string\". Strings hold sequences of characters, which can be letters, numbers, punctuation or more exotic forms of text (even emoji!)."
   ]
  },
  {
   "cell_type": "code",
   "execution_count": 32,
   "metadata": {},
   "outputs": [
    {
     "name": "stdout",
     "output_type": "stream",
     "text": [
      "<class 'str'>\n"
     ]
    },
    {
     "data": {
      "text/plain": [
       "'Hello'"
      ]
     },
     "execution_count": 32,
     "metadata": {},
     "output_type": "execute_result"
    }
   ],
   "source": [
    "print(type(b))\n",
    "b"
   ]
  },
  {
   "cell_type": "markdown",
   "metadata": {},
   "source": [
    "The output from `type()` is formatted slightly differently when it is printed."
   ]
  },
  {
   "cell_type": "markdown",
   "metadata": {},
   "source": [
    "Python also allows to use comparison and logic operators (`<`, `>`, `==`, `!=`, `<=`, `>=`, `and`, `or`, `not`), which will return either `True` or `False`."
   ]
  },
  {
   "cell_type": "code",
   "execution_count": 33,
   "metadata": {},
   "outputs": [
    {
     "data": {
      "text/plain": [
       "False"
      ]
     },
     "execution_count": 33,
     "metadata": {},
     "output_type": "execute_result"
    }
   ],
   "source": [
    "3 > 4"
   ]
  },
  {
   "cell_type": "markdown",
   "metadata": {},
   "source": [
    "`not` reverses the outcome from a comparison."
   ]
  },
  {
   "cell_type": "code",
   "execution_count": 34,
   "metadata": {},
   "outputs": [
    {
     "data": {
      "text/plain": [
       "True"
      ]
     },
     "execution_count": 34,
     "metadata": {},
     "output_type": "execute_result"
    }
   ],
   "source": [
    "not 3 > 4"
   ]
  },
  {
   "cell_type": "markdown",
   "metadata": {},
   "source": [
    "`and` checks if both comparisons are `True`."
   ]
  },
  {
   "cell_type": "code",
   "execution_count": 35,
   "metadata": {},
   "outputs": [
    {
     "data": {
      "text/plain": [
       "False"
      ]
     },
     "execution_count": 35,
     "metadata": {},
     "output_type": "execute_result"
    }
   ],
   "source": [
    "3 > 4 and 5 > 1"
   ]
  },
  {
   "cell_type": "markdown",
   "metadata": {},
   "source": [
    "`or` checks if *at least* one of the comparisons are `True`."
   ]
  },
  {
   "cell_type": "code",
   "execution_count": 36,
   "metadata": {},
   "outputs": [
    {
     "data": {
      "text/plain": [
       "True"
      ]
     },
     "execution_count": 36,
     "metadata": {},
     "output_type": "execute_result"
    }
   ],
   "source": [
    "3 > 4 or 5 > 1"
   ]
  },
  {
   "cell_type": "markdown",
   "metadata": {},
   "source": [
    "The type of the resulting `True` or `False` value is called \"boolean\"."
   ]
  },
  {
   "cell_type": "code",
   "execution_count": 37,
   "metadata": {},
   "outputs": [
    {
     "data": {
      "text/plain": [
       "bool"
      ]
     },
     "execution_count": 37,
     "metadata": {},
     "output_type": "execute_result"
    }
   ],
   "source": [
    "type(True)"
   ]
  },
  {
   "cell_type": "markdown",
   "metadata": {},
   "source": [
    "Boolean comparison like these are important when extracting specific values from a larger set of values. This use case will be explored in detail later in this material.\n",
    "\n",
    "Another common use of boolean comparison is with conditional statement, where the code after the comparison only is executed if the comparison is `True`."
   ]
  },
  {
   "cell_type": "code",
   "execution_count": 38,
   "metadata": {},
   "outputs": [
    {
     "name": "stdout",
     "output_type": "stream",
     "text": [
      "a is not 4\n"
     ]
    }
   ],
   "source": [
    "if a == 4:\n",
    "    print('a is 4')\n",
    "else:\n",
    "    print('a is not 4')"
   ]
  },
  {
   "cell_type": "code",
   "execution_count": 39,
   "metadata": {},
   "outputs": [
    {
     "data": {
      "text/plain": [
       "5"
      ]
     },
     "execution_count": 39,
     "metadata": {},
     "output_type": "execute_result"
    }
   ],
   "source": [
    "a"
   ]
  },
  {
   "cell_type": "markdown",
   "metadata": {},
   "source": [
    "Note that the second line in the example above is indented. Indentation is very important in Python, and  the Python interpreter uses it to understand that the code in the indented block will only be exectuted if the conditional statement above is `True`.\n",
    "\n",
    "> Challenge 1\n",
    "> 1. Assign `a*2` to the variable name `two_a`.\n",
    "> 2. Change the value of `a` to `3`. What is the value of `two_a` now, `6` or `10`?"
   ]
  },
  {
   "cell_type": "markdown",
   "metadata": {},
   "source": [
    "## Array-like Python types\n",
    "\n",
    "### Lists\n",
    "\n",
    " **Lists** are a common data structure to hold an ordered sequence of elements. Each element can be accessed by an index.  Note that Python indexes start with 0 instead of 1."
   ]
  },
  {
   "cell_type": "code",
   "execution_count": 40,
   "metadata": {},
   "outputs": [
    {
     "data": {
      "text/plain": [
       "'Earth'"
      ]
     },
     "execution_count": 40,
     "metadata": {},
     "output_type": "execute_result"
    }
   ],
   "source": [
    "planets = ['Earth', 'Mars', 'Venus']\n",
    "planets[0]"
   ]
  },
  {
   "cell_type": "markdown",
   "metadata": {},
   "source": [
    "You can index from the end of the list by prefixing with a minus sign"
   ]
  },
  {
   "cell_type": "markdown",
   "metadata": {},
   "source": [
    "Multiple elements can be selected via slicing."
   ]
  },
  {
   "cell_type": "code",
   "execution_count": 41,
   "metadata": {},
   "outputs": [
    {
     "data": {
      "text/plain": [
       "['Earth', 'Mars']"
      ]
     },
     "execution_count": 41,
     "metadata": {},
     "output_type": "execute_result"
    }
   ],
   "source": [
    "planets[0:2]"
   ]
  },
  {
   "cell_type": "markdown",
   "metadata": {},
   "source": [
    "Slicing is inclusive of the start of the range and exclusive of the end, so `0:2` returns list elements `0` and `1`.\n",
    "\n",
    "Either the start or the end number of the range can be excluded to include all items to the beginning or end of the list, respectively."
   ]
  },
  {
   "cell_type": "code",
   "execution_count": 42,
   "metadata": {},
   "outputs": [
    {
     "data": {
      "text/plain": [
       "['Earth', 'Mars']"
      ]
     },
     "execution_count": 42,
     "metadata": {},
     "output_type": "execute_result"
    }
   ],
   "source": [
    "planets[:2]"
   ]
  },
  {
   "cell_type": "markdown",
   "metadata": {},
   "source": [
    "To add items to the list, the addition operator can be used together with a list of the items to be added."
   ]
  },
  {
   "cell_type": "code",
   "execution_count": 43,
   "metadata": {},
   "outputs": [
    {
     "data": {
      "text/plain": [
       "['Earth', 'Mars', 'Venus', 'Neptune']"
      ]
     },
     "execution_count": 43,
     "metadata": {},
     "output_type": "execute_result"
    }
   ],
   "source": [
    "planets = planets + ['Neptune']\n",
    "planets"
   ]
  },
  {
   "cell_type": "markdown",
   "metadata": {},
   "source": [
    "A loop can be used to access the elements in a list or other Python data structure one at a time."
   ]
  },
  {
   "cell_type": "code",
   "execution_count": 44,
   "metadata": {},
   "outputs": [
    {
     "name": "stdout",
     "output_type": "stream",
     "text": [
      "Earth\n",
      "Mars\n",
      "Venus\n",
      "Neptune\n"
     ]
    }
   ],
   "source": [
    "for planet in planets:\n",
    "    print(planet)"
   ]
  },
  {
   "cell_type": "markdown",
   "metadata": {},
   "source": [
    "The variable `planet` is recreated for every iteration in the loop until the list `planets` has been exhausted. \n",
    "\n",
    "Operation can be performed on elements inside loops."
   ]
  },
  {
   "cell_type": "code",
   "execution_count": 45,
   "metadata": {},
   "outputs": [
    {
     "name": "stdout",
     "output_type": "stream",
     "text": [
      "I live on Earth\n",
      "I live on Mars\n",
      "I live on Venus\n",
      "I live on Neptune\n"
     ]
    }
   ],
   "source": [
    "for planet in planets:\n",
    "    print('I live on ' + planet)"
   ]
  },
  {
   "cell_type": "markdown",
   "metadata": {},
   "source": [
    "### Tuples\n",
    "\n",
    "A tuple is similar to a list in that it's an ordered sequence of elements. However, tuples can not be changed once created (they are \"immutable\"). Tuples are created by separating values with a comma (and for clarity these are commonly surrounded by parentheses). "
   ]
  },
  {
   "cell_type": "code",
   "execution_count": 46,
   "metadata": {},
   "outputs": [],
   "source": [
    "a_tuple = (1, 2, 3)\n",
    "another_tuple = ('blue', 'green', 'red')"
   ]
  },
  {
   "cell_type": "markdown",
   "metadata": {},
   "source": [
    "> ## Challenge - Tuples\n",
    "> 1. Type `type(a_tuple)` into Python - what is the object type?\n",
    "> 2. What happens when you type `a_tuple[2] = 5` vs `a_list[1] = 5` ?"
   ]
  },
  {
   "cell_type": "markdown",
   "metadata": {},
   "source": [
    "## Dictionaries\n",
    "\n",
    "A **dictionary** is a container that holds pairs of objects - keys and values."
   ]
  },
  {
   "cell_type": "code",
   "execution_count": 47,
   "metadata": {},
   "outputs": [
    {
     "data": {
      "text/plain": [
       "{'banana': 'yellow', 'strawberry': 'red'}"
      ]
     },
     "execution_count": 47,
     "metadata": {},
     "output_type": "execute_result"
    }
   ],
   "source": [
    "fruit_colors = {'banana': 'yellow', 'strawberry': 'red'}\n",
    "fruit_colors"
   ]
  },
  {
   "cell_type": "markdown",
   "metadata": {},
   "source": [
    "Dictionaries work a lot like lists - except that they are indexed with *keys*. Think about a key as a unique identifier for a set of values in the dictionary. Keys can only have particular types - they have to be \"hashable\". Strings and numeric types are acceptable, but lists aren't."
   ]
  },
  {
   "cell_type": "code",
   "execution_count": 48,
   "metadata": {},
   "outputs": [
    {
     "data": {
      "text/plain": [
       "'yellow'"
      ]
     },
     "execution_count": 48,
     "metadata": {},
     "output_type": "execute_result"
    }
   ],
   "source": [
    "fruit_colors['banana']"
   ]
  },
  {
   "cell_type": "markdown",
   "metadata": {},
   "source": [
    "To add an item to the dictionary, a value is assigned to a new dictionary key."
   ]
  },
  {
   "cell_type": "code",
   "execution_count": 49,
   "metadata": {},
   "outputs": [
    {
     "data": {
      "text/plain": [
       "{'banana': 'yellow', 'strawberry': 'red', 'apple': 'green'}"
      ]
     },
     "execution_count": 49,
     "metadata": {},
     "output_type": "execute_result"
    }
   ],
   "source": [
    "fruit_colors['apple'] = 'green'\n",
    "fruit_colors"
   ]
  },
  {
   "cell_type": "markdown",
   "metadata": {},
   "source": [
    "Using loops with dictionaries iterates over the keys by default."
   ]
  },
  {
   "cell_type": "code",
   "execution_count": 50,
   "metadata": {},
   "outputs": [
    {
     "name": "stdout",
     "output_type": "stream",
     "text": [
      "banana yellow\n",
      "strawberry red\n",
      "apple green\n"
     ]
    }
   ],
   "source": [
    "for fruit in fruit_colors:\n",
    "    print(fruit, fruit_colors[fruit])"
   ]
  },
  {
   "cell_type": "markdown",
   "metadata": {},
   "source": [
    "Trying to use a non-existing key, e.g. from typo, throws an error message."
   ]
  },
  {
   "cell_type": "code",
   "execution_count": 51,
   "metadata": {},
   "outputs": [
    {
     "ename": "KeyError",
     "evalue": "'bannana'",
     "output_type": "error",
     "traceback": [
      "\u001b[0;31m---------------------------\u001b[0m",
      "\u001b[0;31mKeyError\u001b[0mTraceback (most recent call last)",
      "\u001b[0;32m<ipython-input-51-84b86acf3267>\u001b[0m in \u001b[0;36m<module>\u001b[0;34m()\u001b[0m\n\u001b[0;32m----> 1\u001b[0;31m \u001b[0mfruit_colors\u001b[0m\u001b[0;34m[\u001b[0m\u001b[0;34m'bannana'\u001b[0m\u001b[0;34m]\u001b[0m\u001b[0;34m\u001b[0m\u001b[0m\n\u001b[0m",
      "\u001b[0;31mKeyError\u001b[0m: 'bannana'"
     ]
    }
   ],
   "source": [
    "fruit_colors['bannana']"
   ]
  },
  {
   "cell_type": "markdown",
   "metadata": {},
   "source": [
    "This an error message is commonly referred to as a \"traceback\". This message pinpoints what line in the code cell resulted in an error when it was executed, by pointing at it with an arrow (`---->`). This is helpful in figuring out what went wrong, especially when many lines of code are executed simultaneously."
   ]
  },
  {
   "cell_type": "markdown",
   "metadata": {},
   "source": [
    "> ## Challenge - Can you do reassignment in a dictionary?\n",
    ">\n",
    "> 1. In the `fruit_colors` dictionary, change the color of `apple` to `'red'`.\n",
    "> 2. Loop through the `fruit_colors` dictionary and print the key only **if** the value of that key points to in the dictionary is `'red'`."
   ]
  },
  {
   "cell_type": "markdown",
   "metadata": {},
   "source": [
    "## Functions\n",
    "\n",
    "Defining a section of code as a function in Python is done using the `def`\n",
    "keyword. For example a function that takes two arguments and returns their sum\n",
    "can be defined as:"
   ]
  },
  {
   "cell_type": "code",
   "execution_count": 52,
   "metadata": {},
   "outputs": [
    {
     "data": {
      "text/plain": [
       "42"
      ]
     },
     "execution_count": 52,
     "metadata": {},
     "output_type": "execute_result"
    }
   ],
   "source": [
    "def add_function(a, b):\n",
    "    \"\"\"This function adds two values together\"\"\"\n",
    "    result = a + b\n",
    "    return result\n",
    "\n",
    "z = add_function(20, 22)\n",
    "z"
   ]
  },
  {
   "cell_type": "markdown",
   "metadata": {},
   "source": [
    "Just previously, the `?` can be used to get help for the function."
   ]
  },
  {
   "cell_type": "code",
   "execution_count": 53,
   "metadata": {},
   "outputs": [
    {
     "data": {
      "text/plain": [
       "\u001b[0;31mSignature:\u001b[0m \u001b[0madd_function\u001b[0m\u001b[0;34m(\u001b[0m\u001b[0ma\u001b[0m\u001b[0;34m,\u001b[0m \u001b[0mb\u001b[0m\u001b[0;34m)\u001b[0m\u001b[0;34m\u001b[0m\u001b[0m\n",
       "\u001b[0;31mDocstring:\u001b[0m This function adds two values together\n",
       "\u001b[0;31mFile:\u001b[0m      ~/proj/uoftcoders/workshops/2018-07-12-utoronto/code/<ipython-input-52-d410f2449e2e>\n",
       "\u001b[0;31mType:\u001b[0m      function\n"
      ]
     },
     "metadata": {},
     "output_type": "display_data"
    }
   ],
   "source": [
    "?add_function"
   ]
  },
  {
   "cell_type": "markdown",
   "metadata": {},
   "source": [
    "The string between the `\"\"\"` is called the docstring and is shown in the help message, so it is important to write a clear description of the function here. It is possible to see the entire source code of the function by using double `?` (this can be quite complex for complicated functions)."
   ]
  },
  {
   "cell_type": "code",
   "execution_count": 54,
   "metadata": {},
   "outputs": [
    {
     "data": {
      "text/plain": [
       "\u001b[0;31mSignature:\u001b[0m \u001b[0madd_function\u001b[0m\u001b[0;34m(\u001b[0m\u001b[0ma\u001b[0m\u001b[0;34m,\u001b[0m \u001b[0mb\u001b[0m\u001b[0;34m)\u001b[0m\u001b[0;34m\u001b[0m\u001b[0m\n",
       "\u001b[0;31mSource:\u001b[0m   \n",
       "\u001b[0;32mdef\u001b[0m \u001b[0madd_function\u001b[0m\u001b[0;34m(\u001b[0m\u001b[0ma\u001b[0m\u001b[0;34m,\u001b[0m \u001b[0mb\u001b[0m\u001b[0;34m)\u001b[0m\u001b[0;34m:\u001b[0m\u001b[0;34m\u001b[0m\n",
       "\u001b[0;34m\u001b[0m    \u001b[0;34m\"\"\"This function adds two values together\"\"\"\u001b[0m\u001b[0;34m\u001b[0m\n",
       "\u001b[0;34m\u001b[0m    \u001b[0mresult\u001b[0m \u001b[0;34m=\u001b[0m \u001b[0ma\u001b[0m \u001b[0;34m+\u001b[0m \u001b[0mb\u001b[0m\u001b[0;34m\u001b[0m\n",
       "\u001b[0;34m\u001b[0m    \u001b[0;32mreturn\u001b[0m \u001b[0mresult\u001b[0m\u001b[0;34m\u001b[0m\u001b[0m\n",
       "\u001b[0;31mFile:\u001b[0m      ~/proj/uoftcoders/workshops/2018-07-12-utoronto/code/<ipython-input-52-d410f2449e2e>\n",
       "\u001b[0;31mType:\u001b[0m      function\n"
      ]
     },
     "metadata": {},
     "output_type": "display_data"
    }
   ],
   "source": [
    "??add_function"
   ]
  },
  {
   "cell_type": "markdown",
   "metadata": {},
   "source": [
    "Much of the power from languages such as Python and R comes from community contributed functions written by talented people and shared openly so that anyone can use them for their own research instead of reinventing the wheel. These community contributions are often package together in so called packages or modules, which often consists of a set or related functions that are helpful to carry out a particular task. Packages will be covered more in detail in the next lecture."
   ]
  },
  {
   "cell_type": "markdown",
   "metadata": {},
   "source": [
    "Text prefaced with a `#` is called a \"comment\". These are notes to people reading the code, so they will be ignored by the Python interpreter."
   ]
  },
  {
   "cell_type": "markdown",
   "metadata": {},
   "source": [
    "# Part 2: working with data\n",
    "\n",
    "Now that we've seen some Python commands and syntax, let's work with some real data. For the rest of the workshop, we'll be going through an example analysis and visualization pipeline with some data on bicycle counts from the City of Toronto."
   ]
  },
  {
   "cell_type": "markdown",
   "metadata": {},
   "source": [
    "### Dataset background\n",
    "\n",
    "We will be using data from the City of Toronto [Open Data Catalogue](https://www.toronto.ca/city-government/data-research-maps/open-data/open-data-catalogue/), a great resource with lots of publicly available data. Specifically, we will be analyzing [counts of bicycles](https://www.toronto.ca/city-government/data-research-maps/open-data/open-data-catalogue/#7e3a3b94-92d8-2932-2c59-2c88a6cc0f3f) using the College St. bikelanes in September 2010 and September 2017. \n",
    "\n",
    "Because the original data looked like this and would have been tricky to analyze in an automated way, I made a [new file](https://bit.ly/2KiOHxV) in which each count observation had its own row.\n",
    "\n",
    "![](img/college_spadina_excel_screenshot.bmp)\n",
    "\n",
    "The data can be downloaded directly at this link: https://bit.ly/2KiOHxV or https://gist.githubusercontent.com/mbonsma/be7482639d7a2d5cfc52505aadb9b53e/raw/ccb19a7b046f3d214ac0ddeeb11ea005816f4858/college_spadina_2010_2017.csv\n",
    "\n",
    "#### Data format\n",
    "\n",
    "We are studying the number of cyclists counted each hour on a series \n",
    "of dates in September 2010 and September 2017. The dataset is stored \n",
    "as a comma separated value (CSV) file. Each row\n",
    "holds information for a single hour of counts, and the columns are described below.\n",
    "\n",
    "| Column           | Description                                                  |\n",
    "|------------------|--------------------------------------------------------------|\n",
    "| date             | date of the count                                            |\n",
    "| day_of_week      | day of the week, i.e. Saturday                               |\n",
    "| temperature      | temperature (C)                                              |\n",
    "| weather          | amount of rain                                               |\n",
    "| direction        | direction of travel of bicycle (Eastbound or Westbound)      |\n",
    "| position         | recording position, if given                                 |\n",
    "| hour             | start time of hour-long counting block                       |\n",
    "| bikes            | number of bicycles counted                                   |\n"
   ]
  },
  {
   "cell_type": "markdown",
   "metadata": {},
   "source": [
    "To read the data into Python, we are going to use a function called `read_csv`. This function is contained in a Python package called [`pandas`](https://pandas.pydata.org/). As mentioned previously, Python packages are a bit like browser extensions, they are not essential, but can provide nifty functionality. To use a package, it first needs to be imported."
   ]
  },
  {
   "cell_type": "code",
   "execution_count": 7,
   "metadata": {
    "collapsed": true
   },
   "outputs": [],
   "source": [
    "# pandas is given the nickname `pd`\n",
    "import pandas as pd"
   ]
  },
  {
   "cell_type": "markdown",
   "metadata": {},
   "source": [
    "`pandas` can read CSV-files saved on the computer or directly from an URL."
   ]
  },
  {
   "cell_type": "code",
   "execution_count": 8,
   "metadata": {
    "collapsed": false
   },
   "outputs": [],
   "source": [
    "# bike_counts = pd.read_csv(\"https://bit.ly/2KiOHxV\")\n",
    "# you can also read a file that's already on your computer: \n",
    "bike_counts = pd.read_csv(\"college_spadina_2010_2017.csv\")"
   ]
  },
  {
   "cell_type": "markdown",
   "metadata": {},
   "source": [
    "To view the result, type `bike_counts` in a cell and run it, just as when viewing the content of any variable in Python."
   ]
  },
  {
   "cell_type": "code",
   "execution_count": 9,
   "metadata": {
    "collapsed": false
   },
   "outputs": [
    {
     "data": {
      "text/html": [
       "<div>\n",
       "<style scoped>\n",
       "    .dataframe tbody tr th:only-of-type {\n",
       "        vertical-align: middle;\n",
       "    }\n",
       "\n",
       "    .dataframe tbody tr th {\n",
       "        vertical-align: top;\n",
       "    }\n",
       "\n",
       "    .dataframe thead th {\n",
       "        text-align: right;\n",
       "    }\n",
       "</style>\n",
       "<table border=\"1\" class=\"dataframe\">\n",
       "  <thead>\n",
       "    <tr style=\"text-align: right;\">\n",
       "      <th></th>\n",
       "      <th>date</th>\n",
       "      <th>day_of_week</th>\n",
       "      <th>temperature</th>\n",
       "      <th>weather</th>\n",
       "      <th>direction</th>\n",
       "      <th>position</th>\n",
       "      <th>hour</th>\n",
       "      <th>bikes</th>\n",
       "    </tr>\n",
       "  </thead>\n",
       "  <tbody>\n",
       "    <tr>\n",
       "      <th>0</th>\n",
       "      <td>9/18/10</td>\n",
       "      <td>Saturday</td>\n",
       "      <td>21</td>\n",
       "      <td>No Rain</td>\n",
       "      <td>Westbound</td>\n",
       "      <td>Bike lane just east of Spadina Ave.</td>\n",
       "      <td>12:00:00 AM</td>\n",
       "      <td>70</td>\n",
       "    </tr>\n",
       "    <tr>\n",
       "      <th>1</th>\n",
       "      <td>9/18/10</td>\n",
       "      <td>Saturday</td>\n",
       "      <td>21</td>\n",
       "      <td>No Rain</td>\n",
       "      <td>Westbound</td>\n",
       "      <td>Bike lane just east of Spadina Ave.</td>\n",
       "      <td>1:00:00 AM</td>\n",
       "      <td>27</td>\n",
       "    </tr>\n",
       "    <tr>\n",
       "      <th>2</th>\n",
       "      <td>9/18/10</td>\n",
       "      <td>Saturday</td>\n",
       "      <td>21</td>\n",
       "      <td>No Rain</td>\n",
       "      <td>Westbound</td>\n",
       "      <td>Bike lane just east of Spadina Ave.</td>\n",
       "      <td>2:00:00 AM</td>\n",
       "      <td>23</td>\n",
       "    </tr>\n",
       "    <tr>\n",
       "      <th>3</th>\n",
       "      <td>9/18/10</td>\n",
       "      <td>Saturday</td>\n",
       "      <td>21</td>\n",
       "      <td>No Rain</td>\n",
       "      <td>Westbound</td>\n",
       "      <td>Bike lane just east of Spadina Ave.</td>\n",
       "      <td>3:00:00 AM</td>\n",
       "      <td>8</td>\n",
       "    </tr>\n",
       "    <tr>\n",
       "      <th>4</th>\n",
       "      <td>9/18/10</td>\n",
       "      <td>Saturday</td>\n",
       "      <td>21</td>\n",
       "      <td>No Rain</td>\n",
       "      <td>Westbound</td>\n",
       "      <td>Bike lane just east of Spadina Ave.</td>\n",
       "      <td>4:00:00 AM</td>\n",
       "      <td>10</td>\n",
       "    </tr>\n",
       "    <tr>\n",
       "      <th>5</th>\n",
       "      <td>9/18/10</td>\n",
       "      <td>Saturday</td>\n",
       "      <td>21</td>\n",
       "      <td>No Rain</td>\n",
       "      <td>Westbound</td>\n",
       "      <td>Bike lane just east of Spadina Ave.</td>\n",
       "      <td>5:00:00 AM</td>\n",
       "      <td>3</td>\n",
       "    </tr>\n",
       "    <tr>\n",
       "      <th>6</th>\n",
       "      <td>9/18/10</td>\n",
       "      <td>Saturday</td>\n",
       "      <td>21</td>\n",
       "      <td>No Rain</td>\n",
       "      <td>Westbound</td>\n",
       "      <td>Bike lane just east of Spadina Ave.</td>\n",
       "      <td>6:00:00 AM</td>\n",
       "      <td>3</td>\n",
       "    </tr>\n",
       "    <tr>\n",
       "      <th>7</th>\n",
       "      <td>9/18/10</td>\n",
       "      <td>Saturday</td>\n",
       "      <td>21</td>\n",
       "      <td>No Rain</td>\n",
       "      <td>Westbound</td>\n",
       "      <td>Bike lane just east of Spadina Ave.</td>\n",
       "      <td>7:00:00 AM</td>\n",
       "      <td>16</td>\n",
       "    </tr>\n",
       "    <tr>\n",
       "      <th>8</th>\n",
       "      <td>9/18/10</td>\n",
       "      <td>Saturday</td>\n",
       "      <td>21</td>\n",
       "      <td>No Rain</td>\n",
       "      <td>Westbound</td>\n",
       "      <td>Bike lane just east of Spadina Ave.</td>\n",
       "      <td>8:00:00 AM</td>\n",
       "      <td>28</td>\n",
       "    </tr>\n",
       "    <tr>\n",
       "      <th>9</th>\n",
       "      <td>9/18/10</td>\n",
       "      <td>Saturday</td>\n",
       "      <td>21</td>\n",
       "      <td>No Rain</td>\n",
       "      <td>Westbound</td>\n",
       "      <td>Bike lane just east of Spadina Ave.</td>\n",
       "      <td>9:00:00 AM</td>\n",
       "      <td>28</td>\n",
       "    </tr>\n",
       "    <tr>\n",
       "      <th>10</th>\n",
       "      <td>9/18/10</td>\n",
       "      <td>Saturday</td>\n",
       "      <td>21</td>\n",
       "      <td>No Rain</td>\n",
       "      <td>Westbound</td>\n",
       "      <td>Bike lane just east of Spadina Ave.</td>\n",
       "      <td>10:00:00 AM</td>\n",
       "      <td>43</td>\n",
       "    </tr>\n",
       "    <tr>\n",
       "      <th>11</th>\n",
       "      <td>9/18/10</td>\n",
       "      <td>Saturday</td>\n",
       "      <td>21</td>\n",
       "      <td>No Rain</td>\n",
       "      <td>Westbound</td>\n",
       "      <td>Bike lane just east of Spadina Ave.</td>\n",
       "      <td>11:00:00 AM</td>\n",
       "      <td>75</td>\n",
       "    </tr>\n",
       "    <tr>\n",
       "      <th>12</th>\n",
       "      <td>9/18/10</td>\n",
       "      <td>Saturday</td>\n",
       "      <td>21</td>\n",
       "      <td>No Rain</td>\n",
       "      <td>Westbound</td>\n",
       "      <td>Bike lane just east of Spadina Ave.</td>\n",
       "      <td>12:00:00 PM</td>\n",
       "      <td>77</td>\n",
       "    </tr>\n",
       "    <tr>\n",
       "      <th>13</th>\n",
       "      <td>9/18/10</td>\n",
       "      <td>Saturday</td>\n",
       "      <td>21</td>\n",
       "      <td>No Rain</td>\n",
       "      <td>Westbound</td>\n",
       "      <td>Bike lane just east of Spadina Ave.</td>\n",
       "      <td>1:00:00 PM</td>\n",
       "      <td>105</td>\n",
       "    </tr>\n",
       "    <tr>\n",
       "      <th>14</th>\n",
       "      <td>9/18/10</td>\n",
       "      <td>Saturday</td>\n",
       "      <td>21</td>\n",
       "      <td>No Rain</td>\n",
       "      <td>Westbound</td>\n",
       "      <td>Bike lane just east of Spadina Ave.</td>\n",
       "      <td>2:00:00 PM</td>\n",
       "      <td>85</td>\n",
       "    </tr>\n",
       "    <tr>\n",
       "      <th>15</th>\n",
       "      <td>9/18/10</td>\n",
       "      <td>Saturday</td>\n",
       "      <td>21</td>\n",
       "      <td>No Rain</td>\n",
       "      <td>Westbound</td>\n",
       "      <td>Bike lane just east of Spadina Ave.</td>\n",
       "      <td>3:00:00 PM</td>\n",
       "      <td>109</td>\n",
       "    </tr>\n",
       "    <tr>\n",
       "      <th>16</th>\n",
       "      <td>9/18/10</td>\n",
       "      <td>Saturday</td>\n",
       "      <td>21</td>\n",
       "      <td>No Rain</td>\n",
       "      <td>Westbound</td>\n",
       "      <td>Bike lane just east of Spadina Ave.</td>\n",
       "      <td>4:00:00 PM</td>\n",
       "      <td>106</td>\n",
       "    </tr>\n",
       "    <tr>\n",
       "      <th>17</th>\n",
       "      <td>9/18/10</td>\n",
       "      <td>Saturday</td>\n",
       "      <td>21</td>\n",
       "      <td>No Rain</td>\n",
       "      <td>Westbound</td>\n",
       "      <td>Bike lane just east of Spadina Ave.</td>\n",
       "      <td>5:00:00 PM</td>\n",
       "      <td>123</td>\n",
       "    </tr>\n",
       "    <tr>\n",
       "      <th>18</th>\n",
       "      <td>9/18/10</td>\n",
       "      <td>Saturday</td>\n",
       "      <td>21</td>\n",
       "      <td>No Rain</td>\n",
       "      <td>Westbound</td>\n",
       "      <td>Bike lane just east of Spadina Ave.</td>\n",
       "      <td>6:00:00 PM</td>\n",
       "      <td>103</td>\n",
       "    </tr>\n",
       "    <tr>\n",
       "      <th>19</th>\n",
       "      <td>9/18/10</td>\n",
       "      <td>Saturday</td>\n",
       "      <td>21</td>\n",
       "      <td>No Rain</td>\n",
       "      <td>Westbound</td>\n",
       "      <td>Bike lane just east of Spadina Ave.</td>\n",
       "      <td>7:00:00 PM</td>\n",
       "      <td>74</td>\n",
       "    </tr>\n",
       "    <tr>\n",
       "      <th>20</th>\n",
       "      <td>9/18/10</td>\n",
       "      <td>Saturday</td>\n",
       "      <td>21</td>\n",
       "      <td>No Rain</td>\n",
       "      <td>Westbound</td>\n",
       "      <td>Bike lane just east of Spadina Ave.</td>\n",
       "      <td>8:00:00 PM</td>\n",
       "      <td>78</td>\n",
       "    </tr>\n",
       "    <tr>\n",
       "      <th>21</th>\n",
       "      <td>9/18/10</td>\n",
       "      <td>Saturday</td>\n",
       "      <td>21</td>\n",
       "      <td>No Rain</td>\n",
       "      <td>Westbound</td>\n",
       "      <td>Bike lane just east of Spadina Ave.</td>\n",
       "      <td>9:00:00 PM</td>\n",
       "      <td>43</td>\n",
       "    </tr>\n",
       "    <tr>\n",
       "      <th>22</th>\n",
       "      <td>9/18/10</td>\n",
       "      <td>Saturday</td>\n",
       "      <td>21</td>\n",
       "      <td>No Rain</td>\n",
       "      <td>Westbound</td>\n",
       "      <td>Bike lane just east of Spadina Ave.</td>\n",
       "      <td>10:00:00 PM</td>\n",
       "      <td>37</td>\n",
       "    </tr>\n",
       "    <tr>\n",
       "      <th>23</th>\n",
       "      <td>9/18/10</td>\n",
       "      <td>Saturday</td>\n",
       "      <td>21</td>\n",
       "      <td>No Rain</td>\n",
       "      <td>Westbound</td>\n",
       "      <td>Bike lane just east of Spadina Ave.</td>\n",
       "      <td>11:00:00 PM</td>\n",
       "      <td>64</td>\n",
       "    </tr>\n",
       "    <tr>\n",
       "      <th>24</th>\n",
       "      <td>9/18/10</td>\n",
       "      <td>Saturday</td>\n",
       "      <td>21</td>\n",
       "      <td>No Rain</td>\n",
       "      <td>Eastbound</td>\n",
       "      <td>Bike lane just west of Spadina Ave.</td>\n",
       "      <td>12:00:00 AM</td>\n",
       "      <td>34</td>\n",
       "    </tr>\n",
       "    <tr>\n",
       "      <th>25</th>\n",
       "      <td>9/18/10</td>\n",
       "      <td>Saturday</td>\n",
       "      <td>21</td>\n",
       "      <td>No Rain</td>\n",
       "      <td>Eastbound</td>\n",
       "      <td>Bike lane just west of Spadina Ave.</td>\n",
       "      <td>1:00:00 AM</td>\n",
       "      <td>38</td>\n",
       "    </tr>\n",
       "    <tr>\n",
       "      <th>26</th>\n",
       "      <td>9/18/10</td>\n",
       "      <td>Saturday</td>\n",
       "      <td>21</td>\n",
       "      <td>No Rain</td>\n",
       "      <td>Eastbound</td>\n",
       "      <td>Bike lane just west of Spadina Ave.</td>\n",
       "      <td>2:00:00 AM</td>\n",
       "      <td>16</td>\n",
       "    </tr>\n",
       "    <tr>\n",
       "      <th>27</th>\n",
       "      <td>9/18/10</td>\n",
       "      <td>Saturday</td>\n",
       "      <td>21</td>\n",
       "      <td>No Rain</td>\n",
       "      <td>Eastbound</td>\n",
       "      <td>Bike lane just west of Spadina Ave.</td>\n",
       "      <td>3:00:00 AM</td>\n",
       "      <td>19</td>\n",
       "    </tr>\n",
       "    <tr>\n",
       "      <th>28</th>\n",
       "      <td>9/18/10</td>\n",
       "      <td>Saturday</td>\n",
       "      <td>21</td>\n",
       "      <td>No Rain</td>\n",
       "      <td>Eastbound</td>\n",
       "      <td>Bike lane just west of Spadina Ave.</td>\n",
       "      <td>4:00:00 AM</td>\n",
       "      <td>7</td>\n",
       "    </tr>\n",
       "    <tr>\n",
       "      <th>29</th>\n",
       "      <td>9/18/10</td>\n",
       "      <td>Saturday</td>\n",
       "      <td>21</td>\n",
       "      <td>No Rain</td>\n",
       "      <td>Eastbound</td>\n",
       "      <td>Bike lane just west of Spadina Ave.</td>\n",
       "      <td>5:00:00 AM</td>\n",
       "      <td>6</td>\n",
       "    </tr>\n",
       "    <tr>\n",
       "      <th>...</th>\n",
       "      <td>...</td>\n",
       "      <td>...</td>\n",
       "      <td>...</td>\n",
       "      <td>...</td>\n",
       "      <td>...</td>\n",
       "      <td>...</td>\n",
       "      <td>...</td>\n",
       "      <td>...</td>\n",
       "    </tr>\n",
       "    <tr>\n",
       "      <th>594</th>\n",
       "      <td>2017-09-30</td>\n",
       "      <td>Saturday</td>\n",
       "      <td>15</td>\n",
       "      <td>No Rain</td>\n",
       "      <td>Eastbound</td>\n",
       "      <td>NaN</td>\n",
       "      <td>6:00 PM</td>\n",
       "      <td>90</td>\n",
       "    </tr>\n",
       "    <tr>\n",
       "      <th>595</th>\n",
       "      <td>2017-09-30</td>\n",
       "      <td>Saturday</td>\n",
       "      <td>15</td>\n",
       "      <td>No Rain</td>\n",
       "      <td>Eastbound</td>\n",
       "      <td>NaN</td>\n",
       "      <td>7:00 PM</td>\n",
       "      <td>90</td>\n",
       "    </tr>\n",
       "    <tr>\n",
       "      <th>596</th>\n",
       "      <td>2017-09-30</td>\n",
       "      <td>Saturday</td>\n",
       "      <td>15</td>\n",
       "      <td>No Rain</td>\n",
       "      <td>Eastbound</td>\n",
       "      <td>NaN</td>\n",
       "      <td>8:00 PM</td>\n",
       "      <td>77</td>\n",
       "    </tr>\n",
       "    <tr>\n",
       "      <th>597</th>\n",
       "      <td>2017-09-30</td>\n",
       "      <td>Saturday</td>\n",
       "      <td>15</td>\n",
       "      <td>No Rain</td>\n",
       "      <td>Eastbound</td>\n",
       "      <td>NaN</td>\n",
       "      <td>9:00 PM</td>\n",
       "      <td>79</td>\n",
       "    </tr>\n",
       "    <tr>\n",
       "      <th>598</th>\n",
       "      <td>2017-09-30</td>\n",
       "      <td>Saturday</td>\n",
       "      <td>15</td>\n",
       "      <td>No Rain</td>\n",
       "      <td>Eastbound</td>\n",
       "      <td>NaN</td>\n",
       "      <td>10:00 PM</td>\n",
       "      <td>85</td>\n",
       "    </tr>\n",
       "    <tr>\n",
       "      <th>599</th>\n",
       "      <td>2017-09-30</td>\n",
       "      <td>Saturday</td>\n",
       "      <td>15</td>\n",
       "      <td>No Rain</td>\n",
       "      <td>Eastbound</td>\n",
       "      <td>NaN</td>\n",
       "      <td>11:00 PM</td>\n",
       "      <td>58</td>\n",
       "    </tr>\n",
       "    <tr>\n",
       "      <th>600</th>\n",
       "      <td>2017-09-30</td>\n",
       "      <td>Saturday</td>\n",
       "      <td>15</td>\n",
       "      <td>No Rain</td>\n",
       "      <td>Westbound</td>\n",
       "      <td>NaN</td>\n",
       "      <td>12:00 AM</td>\n",
       "      <td>33</td>\n",
       "    </tr>\n",
       "    <tr>\n",
       "      <th>601</th>\n",
       "      <td>2017-09-30</td>\n",
       "      <td>Saturday</td>\n",
       "      <td>15</td>\n",
       "      <td>No Rain</td>\n",
       "      <td>Westbound</td>\n",
       "      <td>NaN</td>\n",
       "      <td>1:00 AM</td>\n",
       "      <td>13</td>\n",
       "    </tr>\n",
       "    <tr>\n",
       "      <th>602</th>\n",
       "      <td>2017-09-30</td>\n",
       "      <td>Saturday</td>\n",
       "      <td>15</td>\n",
       "      <td>No Rain</td>\n",
       "      <td>Westbound</td>\n",
       "      <td>NaN</td>\n",
       "      <td>2:00 AM</td>\n",
       "      <td>11</td>\n",
       "    </tr>\n",
       "    <tr>\n",
       "      <th>603</th>\n",
       "      <td>2017-09-30</td>\n",
       "      <td>Saturday</td>\n",
       "      <td>15</td>\n",
       "      <td>No Rain</td>\n",
       "      <td>Westbound</td>\n",
       "      <td>NaN</td>\n",
       "      <td>3:00 AM</td>\n",
       "      <td>6</td>\n",
       "    </tr>\n",
       "    <tr>\n",
       "      <th>604</th>\n",
       "      <td>2017-09-30</td>\n",
       "      <td>Saturday</td>\n",
       "      <td>15</td>\n",
       "      <td>No Rain</td>\n",
       "      <td>Westbound</td>\n",
       "      <td>NaN</td>\n",
       "      <td>4:00 AM</td>\n",
       "      <td>4</td>\n",
       "    </tr>\n",
       "    <tr>\n",
       "      <th>605</th>\n",
       "      <td>2017-09-30</td>\n",
       "      <td>Saturday</td>\n",
       "      <td>15</td>\n",
       "      <td>No Rain</td>\n",
       "      <td>Westbound</td>\n",
       "      <td>NaN</td>\n",
       "      <td>5:00 AM</td>\n",
       "      <td>7</td>\n",
       "    </tr>\n",
       "    <tr>\n",
       "      <th>606</th>\n",
       "      <td>2017-09-30</td>\n",
       "      <td>Saturday</td>\n",
       "      <td>15</td>\n",
       "      <td>No Rain</td>\n",
       "      <td>Westbound</td>\n",
       "      <td>NaN</td>\n",
       "      <td>6:00 AM</td>\n",
       "      <td>6</td>\n",
       "    </tr>\n",
       "    <tr>\n",
       "      <th>607</th>\n",
       "      <td>2017-09-30</td>\n",
       "      <td>Saturday</td>\n",
       "      <td>15</td>\n",
       "      <td>No Rain</td>\n",
       "      <td>Westbound</td>\n",
       "      <td>NaN</td>\n",
       "      <td>7:00 AM</td>\n",
       "      <td>14</td>\n",
       "    </tr>\n",
       "    <tr>\n",
       "      <th>608</th>\n",
       "      <td>2017-09-30</td>\n",
       "      <td>Saturday</td>\n",
       "      <td>15</td>\n",
       "      <td>No Rain</td>\n",
       "      <td>Westbound</td>\n",
       "      <td>NaN</td>\n",
       "      <td>8:00 AM</td>\n",
       "      <td>22</td>\n",
       "    </tr>\n",
       "    <tr>\n",
       "      <th>609</th>\n",
       "      <td>2017-09-30</td>\n",
       "      <td>Saturday</td>\n",
       "      <td>15</td>\n",
       "      <td>No Rain</td>\n",
       "      <td>Westbound</td>\n",
       "      <td>NaN</td>\n",
       "      <td>9:00 AM</td>\n",
       "      <td>37</td>\n",
       "    </tr>\n",
       "    <tr>\n",
       "      <th>610</th>\n",
       "      <td>2017-09-30</td>\n",
       "      <td>Saturday</td>\n",
       "      <td>15</td>\n",
       "      <td>No Rain</td>\n",
       "      <td>Westbound</td>\n",
       "      <td>NaN</td>\n",
       "      <td>10:00 AM</td>\n",
       "      <td>48</td>\n",
       "    </tr>\n",
       "    <tr>\n",
       "      <th>611</th>\n",
       "      <td>2017-09-30</td>\n",
       "      <td>Saturday</td>\n",
       "      <td>15</td>\n",
       "      <td>No Rain</td>\n",
       "      <td>Westbound</td>\n",
       "      <td>NaN</td>\n",
       "      <td>11:00 AM</td>\n",
       "      <td>89</td>\n",
       "    </tr>\n",
       "    <tr>\n",
       "      <th>612</th>\n",
       "      <td>2017-09-30</td>\n",
       "      <td>Saturday</td>\n",
       "      <td>15</td>\n",
       "      <td>No Rain</td>\n",
       "      <td>Westbound</td>\n",
       "      <td>NaN</td>\n",
       "      <td>12:00 PM</td>\n",
       "      <td>100</td>\n",
       "    </tr>\n",
       "    <tr>\n",
       "      <th>613</th>\n",
       "      <td>2017-09-30</td>\n",
       "      <td>Saturday</td>\n",
       "      <td>15</td>\n",
       "      <td>No Rain</td>\n",
       "      <td>Westbound</td>\n",
       "      <td>NaN</td>\n",
       "      <td>1:00 PM</td>\n",
       "      <td>96</td>\n",
       "    </tr>\n",
       "    <tr>\n",
       "      <th>614</th>\n",
       "      <td>2017-09-30</td>\n",
       "      <td>Saturday</td>\n",
       "      <td>15</td>\n",
       "      <td>No Rain</td>\n",
       "      <td>Westbound</td>\n",
       "      <td>NaN</td>\n",
       "      <td>2:00 PM</td>\n",
       "      <td>109</td>\n",
       "    </tr>\n",
       "    <tr>\n",
       "      <th>615</th>\n",
       "      <td>2017-09-30</td>\n",
       "      <td>Saturday</td>\n",
       "      <td>15</td>\n",
       "      <td>No Rain</td>\n",
       "      <td>Westbound</td>\n",
       "      <td>NaN</td>\n",
       "      <td>3:00 PM</td>\n",
       "      <td>114</td>\n",
       "    </tr>\n",
       "    <tr>\n",
       "      <th>616</th>\n",
       "      <td>2017-09-30</td>\n",
       "      <td>Saturday</td>\n",
       "      <td>15</td>\n",
       "      <td>No Rain</td>\n",
       "      <td>Westbound</td>\n",
       "      <td>NaN</td>\n",
       "      <td>4:00 PM</td>\n",
       "      <td>132</td>\n",
       "    </tr>\n",
       "    <tr>\n",
       "      <th>617</th>\n",
       "      <td>2017-09-30</td>\n",
       "      <td>Saturday</td>\n",
       "      <td>15</td>\n",
       "      <td>No Rain</td>\n",
       "      <td>Westbound</td>\n",
       "      <td>NaN</td>\n",
       "      <td>5:00 PM</td>\n",
       "      <td>136</td>\n",
       "    </tr>\n",
       "    <tr>\n",
       "      <th>618</th>\n",
       "      <td>2017-09-30</td>\n",
       "      <td>Saturday</td>\n",
       "      <td>15</td>\n",
       "      <td>No Rain</td>\n",
       "      <td>Westbound</td>\n",
       "      <td>NaN</td>\n",
       "      <td>6:00 PM</td>\n",
       "      <td>120</td>\n",
       "    </tr>\n",
       "    <tr>\n",
       "      <th>619</th>\n",
       "      <td>2017-09-30</td>\n",
       "      <td>Saturday</td>\n",
       "      <td>15</td>\n",
       "      <td>No Rain</td>\n",
       "      <td>Westbound</td>\n",
       "      <td>NaN</td>\n",
       "      <td>7:00 PM</td>\n",
       "      <td>98</td>\n",
       "    </tr>\n",
       "    <tr>\n",
       "      <th>620</th>\n",
       "      <td>2017-09-30</td>\n",
       "      <td>Saturday</td>\n",
       "      <td>15</td>\n",
       "      <td>No Rain</td>\n",
       "      <td>Westbound</td>\n",
       "      <td>NaN</td>\n",
       "      <td>8:00 PM</td>\n",
       "      <td>79</td>\n",
       "    </tr>\n",
       "    <tr>\n",
       "      <th>621</th>\n",
       "      <td>2017-09-30</td>\n",
       "      <td>Saturday</td>\n",
       "      <td>15</td>\n",
       "      <td>No Rain</td>\n",
       "      <td>Westbound</td>\n",
       "      <td>NaN</td>\n",
       "      <td>9:00 PM</td>\n",
       "      <td>62</td>\n",
       "    </tr>\n",
       "    <tr>\n",
       "      <th>622</th>\n",
       "      <td>2017-09-30</td>\n",
       "      <td>Saturday</td>\n",
       "      <td>15</td>\n",
       "      <td>No Rain</td>\n",
       "      <td>Westbound</td>\n",
       "      <td>NaN</td>\n",
       "      <td>10:00 PM</td>\n",
       "      <td>80</td>\n",
       "    </tr>\n",
       "    <tr>\n",
       "      <th>623</th>\n",
       "      <td>2017-09-30</td>\n",
       "      <td>Saturday</td>\n",
       "      <td>15</td>\n",
       "      <td>No Rain</td>\n",
       "      <td>Westbound</td>\n",
       "      <td>NaN</td>\n",
       "      <td>11:00 PM</td>\n",
       "      <td>82</td>\n",
       "    </tr>\n",
       "  </tbody>\n",
       "</table>\n",
       "<p>624 rows × 8 columns</p>\n",
       "</div>"
      ],
      "text/plain": [
       "           date day_of_week  temperature   weather  direction  \\\n",
       "0       9/18/10    Saturday           21   No Rain  Westbound   \n",
       "1       9/18/10    Saturday           21   No Rain  Westbound   \n",
       "2       9/18/10    Saturday           21   No Rain  Westbound   \n",
       "3       9/18/10    Saturday           21   No Rain  Westbound   \n",
       "4       9/18/10    Saturday           21   No Rain  Westbound   \n",
       "5       9/18/10    Saturday           21   No Rain  Westbound   \n",
       "6       9/18/10    Saturday           21   No Rain  Westbound   \n",
       "7       9/18/10    Saturday           21   No Rain  Westbound   \n",
       "8       9/18/10    Saturday           21   No Rain  Westbound   \n",
       "9       9/18/10    Saturday           21   No Rain  Westbound   \n",
       "10      9/18/10    Saturday           21   No Rain  Westbound   \n",
       "11      9/18/10    Saturday           21   No Rain  Westbound   \n",
       "12      9/18/10    Saturday           21   No Rain  Westbound   \n",
       "13      9/18/10    Saturday           21   No Rain  Westbound   \n",
       "14      9/18/10    Saturday           21   No Rain  Westbound   \n",
       "15      9/18/10    Saturday           21   No Rain  Westbound   \n",
       "16      9/18/10    Saturday           21   No Rain  Westbound   \n",
       "17      9/18/10    Saturday           21   No Rain  Westbound   \n",
       "18      9/18/10    Saturday           21   No Rain  Westbound   \n",
       "19      9/18/10    Saturday           21   No Rain  Westbound   \n",
       "20      9/18/10    Saturday           21   No Rain  Westbound   \n",
       "21      9/18/10    Saturday           21   No Rain  Westbound   \n",
       "22      9/18/10    Saturday           21   No Rain  Westbound   \n",
       "23      9/18/10    Saturday           21   No Rain  Westbound   \n",
       "24      9/18/10    Saturday           21   No Rain  Eastbound   \n",
       "25      9/18/10    Saturday           21   No Rain  Eastbound   \n",
       "26      9/18/10    Saturday           21   No Rain  Eastbound   \n",
       "27      9/18/10    Saturday           21   No Rain  Eastbound   \n",
       "28      9/18/10    Saturday           21   No Rain  Eastbound   \n",
       "29      9/18/10    Saturday           21   No Rain  Eastbound   \n",
       "..          ...         ...          ...       ...        ...   \n",
       "594  2017-09-30    Saturday           15   No Rain  Eastbound   \n",
       "595  2017-09-30    Saturday           15   No Rain  Eastbound   \n",
       "596  2017-09-30    Saturday           15   No Rain  Eastbound   \n",
       "597  2017-09-30    Saturday           15   No Rain  Eastbound   \n",
       "598  2017-09-30    Saturday           15   No Rain  Eastbound   \n",
       "599  2017-09-30    Saturday           15   No Rain  Eastbound   \n",
       "600  2017-09-30    Saturday           15   No Rain  Westbound   \n",
       "601  2017-09-30    Saturday           15   No Rain  Westbound   \n",
       "602  2017-09-30    Saturday           15   No Rain  Westbound   \n",
       "603  2017-09-30    Saturday           15   No Rain  Westbound   \n",
       "604  2017-09-30    Saturday           15   No Rain  Westbound   \n",
       "605  2017-09-30    Saturday           15   No Rain  Westbound   \n",
       "606  2017-09-30    Saturday           15   No Rain  Westbound   \n",
       "607  2017-09-30    Saturday           15   No Rain  Westbound   \n",
       "608  2017-09-30    Saturday           15   No Rain  Westbound   \n",
       "609  2017-09-30    Saturday           15   No Rain  Westbound   \n",
       "610  2017-09-30    Saturday           15   No Rain  Westbound   \n",
       "611  2017-09-30    Saturday           15   No Rain  Westbound   \n",
       "612  2017-09-30    Saturday           15   No Rain  Westbound   \n",
       "613  2017-09-30    Saturday           15   No Rain  Westbound   \n",
       "614  2017-09-30    Saturday           15   No Rain  Westbound   \n",
       "615  2017-09-30    Saturday           15   No Rain  Westbound   \n",
       "616  2017-09-30    Saturday           15   No Rain  Westbound   \n",
       "617  2017-09-30    Saturday           15   No Rain  Westbound   \n",
       "618  2017-09-30    Saturday           15   No Rain  Westbound   \n",
       "619  2017-09-30    Saturday           15   No Rain  Westbound   \n",
       "620  2017-09-30    Saturday           15   No Rain  Westbound   \n",
       "621  2017-09-30    Saturday           15   No Rain  Westbound   \n",
       "622  2017-09-30    Saturday           15   No Rain  Westbound   \n",
       "623  2017-09-30    Saturday           15   No Rain  Westbound   \n",
       "\n",
       "                                position         hour  bikes  \n",
       "0    Bike lane just east of Spadina Ave.  12:00:00 AM     70  \n",
       "1    Bike lane just east of Spadina Ave.   1:00:00 AM     27  \n",
       "2    Bike lane just east of Spadina Ave.   2:00:00 AM     23  \n",
       "3    Bike lane just east of Spadina Ave.   3:00:00 AM      8  \n",
       "4    Bike lane just east of Spadina Ave.   4:00:00 AM     10  \n",
       "5    Bike lane just east of Spadina Ave.   5:00:00 AM      3  \n",
       "6    Bike lane just east of Spadina Ave.   6:00:00 AM      3  \n",
       "7    Bike lane just east of Spadina Ave.   7:00:00 AM     16  \n",
       "8    Bike lane just east of Spadina Ave.   8:00:00 AM     28  \n",
       "9    Bike lane just east of Spadina Ave.   9:00:00 AM     28  \n",
       "10   Bike lane just east of Spadina Ave.  10:00:00 AM     43  \n",
       "11   Bike lane just east of Spadina Ave.  11:00:00 AM     75  \n",
       "12   Bike lane just east of Spadina Ave.  12:00:00 PM     77  \n",
       "13   Bike lane just east of Spadina Ave.   1:00:00 PM    105  \n",
       "14   Bike lane just east of Spadina Ave.   2:00:00 PM     85  \n",
       "15   Bike lane just east of Spadina Ave.   3:00:00 PM    109  \n",
       "16   Bike lane just east of Spadina Ave.   4:00:00 PM    106  \n",
       "17   Bike lane just east of Spadina Ave.   5:00:00 PM    123  \n",
       "18   Bike lane just east of Spadina Ave.   6:00:00 PM    103  \n",
       "19   Bike lane just east of Spadina Ave.   7:00:00 PM     74  \n",
       "20   Bike lane just east of Spadina Ave.   8:00:00 PM     78  \n",
       "21   Bike lane just east of Spadina Ave.   9:00:00 PM     43  \n",
       "22   Bike lane just east of Spadina Ave.  10:00:00 PM     37  \n",
       "23   Bike lane just east of Spadina Ave.  11:00:00 PM     64  \n",
       "24   Bike lane just west of Spadina Ave.  12:00:00 AM     34  \n",
       "25   Bike lane just west of Spadina Ave.   1:00:00 AM     38  \n",
       "26   Bike lane just west of Spadina Ave.   2:00:00 AM     16  \n",
       "27   Bike lane just west of Spadina Ave.   3:00:00 AM     19  \n",
       "28   Bike lane just west of Spadina Ave.   4:00:00 AM      7  \n",
       "29   Bike lane just west of Spadina Ave.   5:00:00 AM      6  \n",
       "..                                   ...          ...    ...  \n",
       "594                                  NaN      6:00 PM     90  \n",
       "595                                  NaN      7:00 PM     90  \n",
       "596                                  NaN      8:00 PM     77  \n",
       "597                                  NaN      9:00 PM     79  \n",
       "598                                  NaN     10:00 PM     85  \n",
       "599                                  NaN     11:00 PM     58  \n",
       "600                                  NaN     12:00 AM     33  \n",
       "601                                  NaN      1:00 AM     13  \n",
       "602                                  NaN      2:00 AM     11  \n",
       "603                                  NaN      3:00 AM      6  \n",
       "604                                  NaN      4:00 AM      4  \n",
       "605                                  NaN      5:00 AM      7  \n",
       "606                                  NaN      6:00 AM      6  \n",
       "607                                  NaN      7:00 AM     14  \n",
       "608                                  NaN      8:00 AM     22  \n",
       "609                                  NaN      9:00 AM     37  \n",
       "610                                  NaN     10:00 AM     48  \n",
       "611                                  NaN     11:00 AM     89  \n",
       "612                                  NaN     12:00 PM    100  \n",
       "613                                  NaN      1:00 PM     96  \n",
       "614                                  NaN      2:00 PM    109  \n",
       "615                                  NaN      3:00 PM    114  \n",
       "616                                  NaN      4:00 PM    132  \n",
       "617                                  NaN      5:00 PM    136  \n",
       "618                                  NaN      6:00 PM    120  \n",
       "619                                  NaN      7:00 PM     98  \n",
       "620                                  NaN      8:00 PM     79  \n",
       "621                                  NaN      9:00 PM     62  \n",
       "622                                  NaN     10:00 PM     80  \n",
       "623                                  NaN     11:00 PM     82  \n",
       "\n",
       "[624 rows x 8 columns]"
      ]
     },
     "execution_count": 9,
     "metadata": {},
     "output_type": "execute_result"
    }
   ],
   "source": [
    "bike_counts"
   ]
  },
  {
   "cell_type": "markdown",
   "metadata": {},
   "source": [
    "This is how a data frame is displayed in the JupyterLab Notebook. Although the data frame itself just consists of the values, the Notebook knows that this is a data frame and displays it in a nice tabular format (by adding HTML decorators), and adds some cosmetic conveniences such as the bold font type for the column and row names, the alternating grey and white zebra stripes for the rows and highlights the row the mouse pointer moves over. The increasing numbers on the far left is the data frame's index, which was added by `pandas` to easily distinguish between the rows.\n",
    "\n",
    "## What are data frames?\n",
    "\n",
    "A data frame is the representation of data in a tabular format, similar to how data is often arranged in spreadsheets. The data is rectangular, meaning that all rows have the same amount of columns and all columns have the same amount of rows. Data frames are the *de facto* data structure for most tabular data, and what we use for statistics and plotting. A data frame can be created by hand, but most commonly they are generated by an input function, such as `read_csv()`. In other words, when importing spreadsheets from your hard drive (or the web).\n",
    "\n",
    "As can be seen above, the default is to display the first and last 30 rows and truncate everything in between, as indicated by the ellipsis (`...`). Although it is truncated, this output is still quite space consuming. To glance at how the data frame looks, it is sufficient to display only the top (the first 5 lines) using the `head()` method.\n"
   ]
  },
  {
   "cell_type": "code",
   "execution_count": 10,
   "metadata": {
    "collapsed": false
   },
   "outputs": [
    {
     "data": {
      "text/html": [
       "<div>\n",
       "<style scoped>\n",
       "    .dataframe tbody tr th:only-of-type {\n",
       "        vertical-align: middle;\n",
       "    }\n",
       "\n",
       "    .dataframe tbody tr th {\n",
       "        vertical-align: top;\n",
       "    }\n",
       "\n",
       "    .dataframe thead th {\n",
       "        text-align: right;\n",
       "    }\n",
       "</style>\n",
       "<table border=\"1\" class=\"dataframe\">\n",
       "  <thead>\n",
       "    <tr style=\"text-align: right;\">\n",
       "      <th></th>\n",
       "      <th>date</th>\n",
       "      <th>day_of_week</th>\n",
       "      <th>temperature</th>\n",
       "      <th>weather</th>\n",
       "      <th>direction</th>\n",
       "      <th>position</th>\n",
       "      <th>hour</th>\n",
       "      <th>bikes</th>\n",
       "    </tr>\n",
       "  </thead>\n",
       "  <tbody>\n",
       "    <tr>\n",
       "      <th>0</th>\n",
       "      <td>9/18/10</td>\n",
       "      <td>Saturday</td>\n",
       "      <td>21</td>\n",
       "      <td>No Rain</td>\n",
       "      <td>Westbound</td>\n",
       "      <td>Bike lane just east of Spadina Ave.</td>\n",
       "      <td>12:00:00 AM</td>\n",
       "      <td>70</td>\n",
       "    </tr>\n",
       "    <tr>\n",
       "      <th>1</th>\n",
       "      <td>9/18/10</td>\n",
       "      <td>Saturday</td>\n",
       "      <td>21</td>\n",
       "      <td>No Rain</td>\n",
       "      <td>Westbound</td>\n",
       "      <td>Bike lane just east of Spadina Ave.</td>\n",
       "      <td>1:00:00 AM</td>\n",
       "      <td>27</td>\n",
       "    </tr>\n",
       "    <tr>\n",
       "      <th>2</th>\n",
       "      <td>9/18/10</td>\n",
       "      <td>Saturday</td>\n",
       "      <td>21</td>\n",
       "      <td>No Rain</td>\n",
       "      <td>Westbound</td>\n",
       "      <td>Bike lane just east of Spadina Ave.</td>\n",
       "      <td>2:00:00 AM</td>\n",
       "      <td>23</td>\n",
       "    </tr>\n",
       "    <tr>\n",
       "      <th>3</th>\n",
       "      <td>9/18/10</td>\n",
       "      <td>Saturday</td>\n",
       "      <td>21</td>\n",
       "      <td>No Rain</td>\n",
       "      <td>Westbound</td>\n",
       "      <td>Bike lane just east of Spadina Ave.</td>\n",
       "      <td>3:00:00 AM</td>\n",
       "      <td>8</td>\n",
       "    </tr>\n",
       "    <tr>\n",
       "      <th>4</th>\n",
       "      <td>9/18/10</td>\n",
       "      <td>Saturday</td>\n",
       "      <td>21</td>\n",
       "      <td>No Rain</td>\n",
       "      <td>Westbound</td>\n",
       "      <td>Bike lane just east of Spadina Ave.</td>\n",
       "      <td>4:00:00 AM</td>\n",
       "      <td>10</td>\n",
       "    </tr>\n",
       "  </tbody>\n",
       "</table>\n",
       "</div>"
      ],
      "text/plain": [
       "      date day_of_week  temperature   weather  direction  \\\n",
       "0  9/18/10    Saturday           21   No Rain  Westbound   \n",
       "1  9/18/10    Saturday           21   No Rain  Westbound   \n",
       "2  9/18/10    Saturday           21   No Rain  Westbound   \n",
       "3  9/18/10    Saturday           21   No Rain  Westbound   \n",
       "4  9/18/10    Saturday           21   No Rain  Westbound   \n",
       "\n",
       "                              position         hour  bikes  \n",
       "0  Bike lane just east of Spadina Ave.  12:00:00 AM     70  \n",
       "1  Bike lane just east of Spadina Ave.   1:00:00 AM     27  \n",
       "2  Bike lane just east of Spadina Ave.   2:00:00 AM     23  \n",
       "3  Bike lane just east of Spadina Ave.   3:00:00 AM      8  \n",
       "4  Bike lane just east of Spadina Ave.   4:00:00 AM     10  "
      ]
     },
     "execution_count": 10,
     "metadata": {},
     "output_type": "execute_result"
    }
   ],
   "source": [
    "bike_counts.head()"
   ]
  },
  {
   "cell_type": "markdown",
   "metadata": {},
   "source": [
    "Methods are very similar to functions, the main difference is that they belong to an object (above, the method `head()` belongs to the data frame `bike_counts`). Methods operate on the object they belong to, that's why we can call the method with an empty parenthesis without any arguments. Compare this with the function `type()` that was introduced previously."
   ]
  },
  {
   "cell_type": "code",
   "execution_count": 11,
   "metadata": {
    "collapsed": false
   },
   "outputs": [
    {
     "data": {
      "text/plain": [
       "pandas.core.frame.DataFrame"
      ]
     },
     "execution_count": 11,
     "metadata": {},
     "output_type": "execute_result"
    }
   ],
   "source": [
    "type(bike_counts)"
   ]
  },
  {
   "cell_type": "markdown",
   "metadata": {},
   "source": [
    "Here, the `bike_counts` variable is explicitly passed as an argument to `type()`. An immediately tangible advantage with methods is that they simplify tab completion. Just type the name of the dataframe, a period, and then hit tab to see all the relevant methods for that data frame instead of fumbling around with all the available functions in Python (there's quite a few!) and figuring out which ones operate on data frames and which do not. Methods also facilitates readability when chaining many operations together, which will be shown in detail later.\n",
    "\n",
    "The columns in a data frame can contain data of different types, e.g. integers, floats, and objects (which includes strings, lists, dictionaries, and more)). General information about the data frame (including the column data types) can be obtained with the `info()` method."
   ]
  },
  {
   "cell_type": "code",
   "execution_count": 12,
   "metadata": {
    "collapsed": false
   },
   "outputs": [
    {
     "name": "stdout",
     "output_type": "stream",
     "text": [
      "<class 'pandas.core.frame.DataFrame'>\n",
      "RangeIndex: 624 entries, 0 to 623\n",
      "Data columns (total 8 columns):\n",
      "date           624 non-null object\n",
      "day_of_week    624 non-null object\n",
      "temperature    624 non-null int64\n",
      "weather        624 non-null object\n",
      "direction      624 non-null object\n",
      "position       432 non-null object\n",
      "hour           624 non-null object\n",
      "bikes          624 non-null int64\n",
      "dtypes: int64(2), object(6)\n",
      "memory usage: 39.1+ KB\n"
     ]
    }
   ],
   "source": [
    "bike_counts.info()"
   ]
  },
  {
   "cell_type": "markdown",
   "metadata": {},
   "source": [
    "The information includes the total number of rows and columns, the number of non-null observations, the column data types, and the memory (RAM) usage. The number of non-null observation is not the same for all columns, which means that some columns contain null (or NA) values representing that there is missing information. The column data type is often indicative of which type of data is stored in that column, and approximately corresponds to the following\n",
    "\n",
    "- **Qualitative/Categorical**\n",
    "    - Nominal (labels, e.g. 'red', 'green', 'blue')\n",
    "        - `object`, `category`\n",
    "    - Ordinal (labels with order, e.g. 'Jan', 'Feb', 'Mar')\n",
    "        - `object`, `category`, `int`\n",
    "    - Binary (only two outcomes, e.g. True or False)\n",
    "        - `bool`\n",
    "- **Quantitative/Numerical**\n",
    "    - Discrete (whole numbers, often counting, e.g. number of children)\n",
    "        - `int`\n",
    "    - Continuous (measured values with decimals, e.g. weight)\n",
    "        - `float`\n",
    "    \n",
    "Note that an `object` could contain different types, e.g. `str` or `list`. Also note that there can be exceptions to the schema above, but it is still a useful rough guide.\n",
    "\n",
    "After reading in the data into a data frame, `head()` and `info()` are two of the most useful methods to get an idea of the structure of this data frame. There are many additional methods that can facilitate the understanding of what a data frame contains:\n",
    "\n",
    "- Size:\n",
    "    - `bike_counts.shape` - a tuple with the number of rows in the first element\n",
    "      and the number of columns as the second element\n",
    "    - `bike_counts.shape[0]` - the number of rows\n",
    "    - `bike_counts.shape[1]`- the number of columns\n",
    "\n",
    "- Content:\n",
    "    - `bike_counts.head()` - shows the first 5 rows\n",
    "    - `bike_counts.tail()` - shows the last 5 rows\n",
    "\n",
    "- Names:\n",
    "    - `bike_counts.columns` - returns the names of the columns (also called variable names) \n",
    "      objects)\n",
    "    - `bike_counts.index` - returns the names of the rows (referred to as the index in pandas)\n",
    "\n",
    "- Summary:\n",
    "    - `bike_counts.info()` - column names and data types, number of observations, memory consumptions\n",
    "      length, and content of  each column\n",
    "    - `bike_counts.describe()` - summary statistics for each column\n",
    "\n",
    "These belong to a data frame and are commonly referred to as *attributes* of the data frame. All attributes are accessed with the dot-syntax (`.`), which returns the attribute's value. If the attribute is a method, parentheses can be appended to the name to carry out the method's operation on the data frame. Attributes that are not methods often hold a value that has been precomputed because it is commonly accessed and it saves time store the value in an attribute instead of recomputing it every time it is needed. For example, every time `pandas` creates a data frame, the number of rows and columns is computed and stored in the `shape` attribute."
   ]
  },
  {
   "cell_type": "markdown",
   "metadata": {},
   "source": [
    ">#### Challenge\n",
    ">\n",
    ">Based on the output of `bike_counts.info()`, can you answer the following questions?\n",
    ">\n",
    ">* What is the class of the object `bike_counts`?\n",
    ">* How many rows and how many columns are in this object?\n",
    ">* Why is there not the same number of rows (observations) for each column?"
   ]
  },
  {
   "cell_type": "markdown",
   "metadata": {},
   "source": [
    "### Saving data frames locally\n",
    "\n",
    "It is good practice to keep a copy of the data stored locally on your computer in case you want to do offline analyses,  the online version of the file changes, or the file is taken down. For this, the data could be downloaded manually or the current `bike_counts` data frame could be saved to disk as a CSV-file with `to_csv()`."
   ]
  },
  {
   "cell_type": "code",
   "execution_count": 13,
   "metadata": {
    "collapsed": true
   },
   "outputs": [],
   "source": [
    "bike_counts.to_csv('bike_counts.csv', index=False)\n",
    "# `index=False` because the index (the row names) was generated automatically when pandas opened\n",
    "# the file and this information is not needed to be saved"
   ]
  },
  {
   "cell_type": "markdown",
   "metadata": {},
   "source": [
    "Since the data is now saved locally, the next time this Notebook is opened, it could be loaded from the local path instead of downloading it from the URL."
   ]
  },
  {
   "cell_type": "code",
   "execution_count": 14,
   "metadata": {
    "collapsed": false
   },
   "outputs": [
    {
     "data": {
      "text/html": [
       "<div>\n",
       "<style scoped>\n",
       "    .dataframe tbody tr th:only-of-type {\n",
       "        vertical-align: middle;\n",
       "    }\n",
       "\n",
       "    .dataframe tbody tr th {\n",
       "        vertical-align: top;\n",
       "    }\n",
       "\n",
       "    .dataframe thead th {\n",
       "        text-align: right;\n",
       "    }\n",
       "</style>\n",
       "<table border=\"1\" class=\"dataframe\">\n",
       "  <thead>\n",
       "    <tr style=\"text-align: right;\">\n",
       "      <th></th>\n",
       "      <th>date</th>\n",
       "      <th>day_of_week</th>\n",
       "      <th>temperature</th>\n",
       "      <th>weather</th>\n",
       "      <th>direction</th>\n",
       "      <th>position</th>\n",
       "      <th>hour</th>\n",
       "      <th>bikes</th>\n",
       "    </tr>\n",
       "  </thead>\n",
       "  <tbody>\n",
       "    <tr>\n",
       "      <th>0</th>\n",
       "      <td>9/18/10</td>\n",
       "      <td>Saturday</td>\n",
       "      <td>21</td>\n",
       "      <td>No Rain</td>\n",
       "      <td>Westbound</td>\n",
       "      <td>Bike lane just east of Spadina Ave.</td>\n",
       "      <td>12:00:00 AM</td>\n",
       "      <td>70</td>\n",
       "    </tr>\n",
       "    <tr>\n",
       "      <th>1</th>\n",
       "      <td>9/18/10</td>\n",
       "      <td>Saturday</td>\n",
       "      <td>21</td>\n",
       "      <td>No Rain</td>\n",
       "      <td>Westbound</td>\n",
       "      <td>Bike lane just east of Spadina Ave.</td>\n",
       "      <td>1:00:00 AM</td>\n",
       "      <td>27</td>\n",
       "    </tr>\n",
       "    <tr>\n",
       "      <th>2</th>\n",
       "      <td>9/18/10</td>\n",
       "      <td>Saturday</td>\n",
       "      <td>21</td>\n",
       "      <td>No Rain</td>\n",
       "      <td>Westbound</td>\n",
       "      <td>Bike lane just east of Spadina Ave.</td>\n",
       "      <td>2:00:00 AM</td>\n",
       "      <td>23</td>\n",
       "    </tr>\n",
       "    <tr>\n",
       "      <th>3</th>\n",
       "      <td>9/18/10</td>\n",
       "      <td>Saturday</td>\n",
       "      <td>21</td>\n",
       "      <td>No Rain</td>\n",
       "      <td>Westbound</td>\n",
       "      <td>Bike lane just east of Spadina Ave.</td>\n",
       "      <td>3:00:00 AM</td>\n",
       "      <td>8</td>\n",
       "    </tr>\n",
       "    <tr>\n",
       "      <th>4</th>\n",
       "      <td>9/18/10</td>\n",
       "      <td>Saturday</td>\n",
       "      <td>21</td>\n",
       "      <td>No Rain</td>\n",
       "      <td>Westbound</td>\n",
       "      <td>Bike lane just east of Spadina Ave.</td>\n",
       "      <td>4:00:00 AM</td>\n",
       "      <td>10</td>\n",
       "    </tr>\n",
       "  </tbody>\n",
       "</table>\n",
       "</div>"
      ],
      "text/plain": [
       "      date day_of_week  temperature   weather  direction  \\\n",
       "0  9/18/10    Saturday           21   No Rain  Westbound   \n",
       "1  9/18/10    Saturday           21   No Rain  Westbound   \n",
       "2  9/18/10    Saturday           21   No Rain  Westbound   \n",
       "3  9/18/10    Saturday           21   No Rain  Westbound   \n",
       "4  9/18/10    Saturday           21   No Rain  Westbound   \n",
       "\n",
       "                              position         hour  bikes  \n",
       "0  Bike lane just east of Spadina Ave.  12:00:00 AM     70  \n",
       "1  Bike lane just east of Spadina Ave.   1:00:00 AM     27  \n",
       "2  Bike lane just east of Spadina Ave.   2:00:00 AM     23  \n",
       "3  Bike lane just east of Spadina Ave.   3:00:00 AM      8  \n",
       "4  Bike lane just east of Spadina Ave.   4:00:00 AM     10  "
      ]
     },
     "execution_count": 14,
     "metadata": {},
     "output_type": "execute_result"
    }
   ],
   "source": [
    "bike_counts = pd.read_csv('bike_counts.csv')\n",
    "bike_counts.head()"
   ]
  },
  {
   "cell_type": "markdown",
   "metadata": {},
   "source": [
    "### Indexing and subsetting data frames\n",
    "\n",
    "The bike counts data frame has rows and columns (it has 2 dimensions). To extract specific data from it (also referred to as \"subsetting\"), columns can be selected by their name.The JupyterLab Notebook (technically, the underlying IPython interpreter) knows about the columns in the data frame, so tab autocompletion can be used to get the correct column name. "
   ]
  },
  {
   "cell_type": "code",
   "execution_count": 15,
   "metadata": {
    "collapsed": false
   },
   "outputs": [
    {
     "data": {
      "text/plain": [
       "0     No Rain\n",
       "1     No Rain\n",
       "2     No Rain\n",
       "3     No Rain\n",
       "4     No Rain\n",
       "Name: weather, dtype: object"
      ]
     },
     "execution_count": 15,
     "metadata": {},
     "output_type": "execute_result"
    }
   ],
   "source": [
    "bike_counts['weather'].head()"
   ]
  },
  {
   "cell_type": "markdown",
   "metadata": {},
   "source": [
    "The name of the column is not shown, since there is only one. Remember that the numbers on the left is just the index of the data frame, which was added by `pandas` upon importing the data.\n",
    "\n",
    "Another syntax that is often used to specify column names is `.<column_name>`."
   ]
  },
  {
   "cell_type": "code",
   "execution_count": 16,
   "metadata": {
    "collapsed": false
   },
   "outputs": [
    {
     "data": {
      "text/plain": [
       "0     No Rain\n",
       "1     No Rain\n",
       "2     No Rain\n",
       "3     No Rain\n",
       "4     No Rain\n",
       "Name: weather, dtype: object"
      ]
     },
     "execution_count": 16,
     "metadata": {},
     "output_type": "execute_result"
    }
   ],
   "source": [
    "bike_counts.weather.head()"
   ]
  },
  {
   "cell_type": "markdown",
   "metadata": {},
   "source": [
    "Using brackets is clearer and also alows for passing multiple columns as a list, so this tutorial will stick to that."
   ]
  },
  {
   "cell_type": "code",
   "execution_count": 17,
   "metadata": {
    "collapsed": false
   },
   "outputs": [
    {
     "data": {
      "text/html": [
       "<div>\n",
       "<style scoped>\n",
       "    .dataframe tbody tr th:only-of-type {\n",
       "        vertical-align: middle;\n",
       "    }\n",
       "\n",
       "    .dataframe tbody tr th {\n",
       "        vertical-align: top;\n",
       "    }\n",
       "\n",
       "    .dataframe thead th {\n",
       "        text-align: right;\n",
       "    }\n",
       "</style>\n",
       "<table border=\"1\" class=\"dataframe\">\n",
       "  <thead>\n",
       "    <tr style=\"text-align: right;\">\n",
       "      <th></th>\n",
       "      <th>date</th>\n",
       "      <th>weather</th>\n",
       "    </tr>\n",
       "  </thead>\n",
       "  <tbody>\n",
       "    <tr>\n",
       "      <th>0</th>\n",
       "      <td>9/18/10</td>\n",
       "      <td>No Rain</td>\n",
       "    </tr>\n",
       "    <tr>\n",
       "      <th>1</th>\n",
       "      <td>9/18/10</td>\n",
       "      <td>No Rain</td>\n",
       "    </tr>\n",
       "    <tr>\n",
       "      <th>2</th>\n",
       "      <td>9/18/10</td>\n",
       "      <td>No Rain</td>\n",
       "    </tr>\n",
       "    <tr>\n",
       "      <th>3</th>\n",
       "      <td>9/18/10</td>\n",
       "      <td>No Rain</td>\n",
       "    </tr>\n",
       "    <tr>\n",
       "      <th>4</th>\n",
       "      <td>9/18/10</td>\n",
       "      <td>No Rain</td>\n",
       "    </tr>\n",
       "  </tbody>\n",
       "</table>\n",
       "</div>"
      ],
      "text/plain": [
       "      date   weather\n",
       "0  9/18/10   No Rain\n",
       "1  9/18/10   No Rain\n",
       "2  9/18/10   No Rain\n",
       "3  9/18/10   No Rain\n",
       "4  9/18/10   No Rain"
      ]
     },
     "execution_count": 17,
     "metadata": {},
     "output_type": "execute_result"
    }
   ],
   "source": [
    "bike_counts[['date', 'weather']].head()"
   ]
  },
  {
   "cell_type": "markdown",
   "metadata": {},
   "source": [
    "The output is displayed a bit differently this time. The reason is that in the last cell where the returned data frame only had one column (\"species\") `pandas` technically returned a `Series`, not a `Dataframe`. This can be confirmed by using `type` as previously."
   ]
  },
  {
   "cell_type": "code",
   "execution_count": 18,
   "metadata": {
    "collapsed": false
   },
   "outputs": [
    {
     "data": {
      "text/plain": [
       "pandas.core.series.Series"
      ]
     },
     "execution_count": 18,
     "metadata": {},
     "output_type": "execute_result"
    }
   ],
   "source": [
    "type(bike_counts['weather'].head())"
   ]
  },
  {
   "cell_type": "code",
   "execution_count": 19,
   "metadata": {
    "collapsed": false
   },
   "outputs": [
    {
     "data": {
      "text/plain": [
       "pandas.core.frame.DataFrame"
      ]
     },
     "execution_count": 19,
     "metadata": {},
     "output_type": "execute_result"
    }
   ],
   "source": [
    "type(bike_counts[['date', 'weather']].head())"
   ]
  },
  {
   "cell_type": "markdown",
   "metadata": {},
   "source": [
    "So, every individual column is actually a `Series` and together they constitue a `Dataframe`. This introductory tutorial will not make any further distinction between a `Series` and a `Dataframe`, and many of the analysis techniques used here will apply to both series and data frames."
   ]
  },
  {
   "cell_type": "markdown",
   "metadata": {},
   "source": [
    "Selecting with single brackets (`[]`) is a shortcut to common operations, such as selecting columns by labels as above. For more flexible and robust row and column selection the more verbose `loc[<rows>, <columns>]` (location) syntax is used."
   ]
  },
  {
   "cell_type": "code",
   "execution_count": 20,
   "metadata": {
    "collapsed": false
   },
   "outputs": [
    {
     "data": {
      "text/html": [
       "<div>\n",
       "<style scoped>\n",
       "    .dataframe tbody tr th:only-of-type {\n",
       "        vertical-align: middle;\n",
       "    }\n",
       "\n",
       "    .dataframe tbody tr th {\n",
       "        vertical-align: top;\n",
       "    }\n",
       "\n",
       "    .dataframe thead th {\n",
       "        text-align: right;\n",
       "    }\n",
       "</style>\n",
       "<table border=\"1\" class=\"dataframe\">\n",
       "  <thead>\n",
       "    <tr style=\"text-align: right;\">\n",
       "      <th></th>\n",
       "      <th>date</th>\n",
       "      <th>weather</th>\n",
       "    </tr>\n",
       "  </thead>\n",
       "  <tbody>\n",
       "    <tr>\n",
       "      <th>0</th>\n",
       "      <td>9/18/10</td>\n",
       "      <td>No Rain</td>\n",
       "    </tr>\n",
       "    <tr>\n",
       "      <th>2</th>\n",
       "      <td>9/18/10</td>\n",
       "      <td>No Rain</td>\n",
       "    </tr>\n",
       "    <tr>\n",
       "      <th>4</th>\n",
       "      <td>9/18/10</td>\n",
       "      <td>No Rain</td>\n",
       "    </tr>\n",
       "  </tbody>\n",
       "</table>\n",
       "</div>"
      ],
      "text/plain": [
       "      date   weather\n",
       "0  9/18/10   No Rain\n",
       "2  9/18/10   No Rain\n",
       "4  9/18/10   No Rain"
      ]
     },
     "execution_count": 20,
     "metadata": {},
     "output_type": "execute_result"
    }
   ],
   "source": [
    "bike_counts.loc[[0, 2, 4], ['date', 'weather']]\n",
    "# Although methods usually have trailing parenthesis, square brackets are used with `loc[]` to stay\n",
    "# consistent with the indexing with square brackets in general in Python (e.g. lists and Numpy arrays)"
   ]
  },
  {
   "cell_type": "markdown",
   "metadata": {},
   "source": [
    "A single number can be selected, which returns that value (here, an integer) rather than a data frame or series with just one value."
   ]
  },
  {
   "cell_type": "code",
   "execution_count": 21,
   "metadata": {
    "collapsed": false
   },
   "outputs": [
    {
     "data": {
      "text/plain": [
       "'Saturday'"
      ]
     },
     "execution_count": 21,
     "metadata": {},
     "output_type": "execute_result"
    }
   ],
   "source": [
    "bike_counts.loc[4, 'day_of_week']"
   ]
  },
  {
   "cell_type": "markdown",
   "metadata": {},
   "source": [
    "If the column argument is is left out, all columns are selected."
   ]
  },
  {
   "cell_type": "code",
   "execution_count": 22,
   "metadata": {
    "collapsed": false
   },
   "outputs": [
    {
     "data": {
      "text/html": [
       "<div>\n",
       "<style scoped>\n",
       "    .dataframe tbody tr th:only-of-type {\n",
       "        vertical-align: middle;\n",
       "    }\n",
       "\n",
       "    .dataframe tbody tr th {\n",
       "        vertical-align: top;\n",
       "    }\n",
       "\n",
       "    .dataframe thead th {\n",
       "        text-align: right;\n",
       "    }\n",
       "</style>\n",
       "<table border=\"1\" class=\"dataframe\">\n",
       "  <thead>\n",
       "    <tr style=\"text-align: right;\">\n",
       "      <th></th>\n",
       "      <th>date</th>\n",
       "      <th>day_of_week</th>\n",
       "      <th>temperature</th>\n",
       "      <th>weather</th>\n",
       "      <th>direction</th>\n",
       "      <th>position</th>\n",
       "      <th>hour</th>\n",
       "      <th>bikes</th>\n",
       "    </tr>\n",
       "  </thead>\n",
       "  <tbody>\n",
       "    <tr>\n",
       "      <th>3</th>\n",
       "      <td>9/18/10</td>\n",
       "      <td>Saturday</td>\n",
       "      <td>21</td>\n",
       "      <td>No Rain</td>\n",
       "      <td>Westbound</td>\n",
       "      <td>Bike lane just east of Spadina Ave.</td>\n",
       "      <td>3:00:00 AM</td>\n",
       "      <td>8</td>\n",
       "    </tr>\n",
       "    <tr>\n",
       "      <th>4</th>\n",
       "      <td>9/18/10</td>\n",
       "      <td>Saturday</td>\n",
       "      <td>21</td>\n",
       "      <td>No Rain</td>\n",
       "      <td>Westbound</td>\n",
       "      <td>Bike lane just east of Spadina Ave.</td>\n",
       "      <td>4:00:00 AM</td>\n",
       "      <td>10</td>\n",
       "    </tr>\n",
       "  </tbody>\n",
       "</table>\n",
       "</div>"
      ],
      "text/plain": [
       "      date day_of_week  temperature   weather  direction  \\\n",
       "3  9/18/10    Saturday           21   No Rain  Westbound   \n",
       "4  9/18/10    Saturday           21   No Rain  Westbound   \n",
       "\n",
       "                              position        hour  bikes  \n",
       "3  Bike lane just east of Spadina Ave.  3:00:00 AM      8  \n",
       "4  Bike lane just east of Spadina Ave.  4:00:00 AM     10  "
      ]
     },
     "execution_count": 22,
     "metadata": {},
     "output_type": "execute_result"
    }
   ],
   "source": [
    "bike_counts.loc[[3, 4]]"
   ]
  },
  {
   "cell_type": "markdown",
   "metadata": {},
   "source": [
    "To select all rows, but only a subset of columns, the colon character (`:`) can be used."
   ]
  },
  {
   "cell_type": "code",
   "execution_count": 23,
   "metadata": {
    "collapsed": false
   },
   "outputs": [
    {
     "data": {
      "text/plain": [
       "(624, 2)"
      ]
     },
     "execution_count": 23,
     "metadata": {},
     "output_type": "execute_result"
    }
   ],
   "source": [
    "bike_counts.loc[:, ['date', 'day_of_week']].shape # show the size of the data frame"
   ]
  },
  {
   "cell_type": "markdown",
   "metadata": {},
   "source": [
    "It is also possible to select slices of rows and column labels."
   ]
  },
  {
   "cell_type": "code",
   "execution_count": 24,
   "metadata": {
    "collapsed": false
   },
   "outputs": [
    {
     "data": {
      "text/html": [
       "<div>\n",
       "<style scoped>\n",
       "    .dataframe tbody tr th:only-of-type {\n",
       "        vertical-align: middle;\n",
       "    }\n",
       "\n",
       "    .dataframe tbody tr th {\n",
       "        vertical-align: top;\n",
       "    }\n",
       "\n",
       "    .dataframe thead th {\n",
       "        text-align: right;\n",
       "    }\n",
       "</style>\n",
       "<table border=\"1\" class=\"dataframe\">\n",
       "  <thead>\n",
       "    <tr style=\"text-align: right;\">\n",
       "      <th></th>\n",
       "      <th>day_of_week</th>\n",
       "      <th>temperature</th>\n",
       "      <th>weather</th>\n",
       "      <th>direction</th>\n",
       "      <th>position</th>\n",
       "    </tr>\n",
       "  </thead>\n",
       "  <tbody>\n",
       "    <tr>\n",
       "      <th>2</th>\n",
       "      <td>Saturday</td>\n",
       "      <td>21</td>\n",
       "      <td>No Rain</td>\n",
       "      <td>Westbound</td>\n",
       "      <td>Bike lane just east of Spadina Ave.</td>\n",
       "    </tr>\n",
       "    <tr>\n",
       "      <th>3</th>\n",
       "      <td>Saturday</td>\n",
       "      <td>21</td>\n",
       "      <td>No Rain</td>\n",
       "      <td>Westbound</td>\n",
       "      <td>Bike lane just east of Spadina Ave.</td>\n",
       "    </tr>\n",
       "    <tr>\n",
       "      <th>4</th>\n",
       "      <td>Saturday</td>\n",
       "      <td>21</td>\n",
       "      <td>No Rain</td>\n",
       "      <td>Westbound</td>\n",
       "      <td>Bike lane just east of Spadina Ave.</td>\n",
       "    </tr>\n",
       "  </tbody>\n",
       "</table>\n",
       "</div>"
      ],
      "text/plain": [
       "  day_of_week  temperature   weather  direction  \\\n",
       "2    Saturday           21   No Rain  Westbound   \n",
       "3    Saturday           21   No Rain  Westbound   \n",
       "4    Saturday           21   No Rain  Westbound   \n",
       "\n",
       "                              position  \n",
       "2  Bike lane just east of Spadina Ave.  \n",
       "3  Bike lane just east of Spadina Ave.  \n",
       "4  Bike lane just east of Spadina Ave.  "
      ]
     },
     "execution_count": 24,
     "metadata": {},
     "output_type": "execute_result"
    }
   ],
   "source": [
    "bike_counts.loc[2:4, 'day_of_week':'position']"
   ]
  },
  {
   "cell_type": "markdown",
   "metadata": {},
   "source": [
    "It is important to realize that `loc[]` selects rows and columns by their *labels*. To instead select by row or column *position*, use `iloc[]` (integer location)."
   ]
  },
  {
   "cell_type": "code",
   "execution_count": 25,
   "metadata": {
    "collapsed": false
   },
   "outputs": [
    {
     "data": {
      "text/html": [
       "<div>\n",
       "<style scoped>\n",
       "    .dataframe tbody tr th:only-of-type {\n",
       "        vertical-align: middle;\n",
       "    }\n",
       "\n",
       "    .dataframe tbody tr th {\n",
       "        vertical-align: top;\n",
       "    }\n",
       "\n",
       "    .dataframe thead th {\n",
       "        text-align: right;\n",
       "    }\n",
       "</style>\n",
       "<table border=\"1\" class=\"dataframe\">\n",
       "  <thead>\n",
       "    <tr style=\"text-align: right;\">\n",
       "      <th></th>\n",
       "      <th>date</th>\n",
       "      <th>day_of_week</th>\n",
       "      <th>temperature</th>\n",
       "    </tr>\n",
       "  </thead>\n",
       "  <tbody>\n",
       "    <tr>\n",
       "      <th>2</th>\n",
       "      <td>9/18/10</td>\n",
       "      <td>Saturday</td>\n",
       "      <td>21</td>\n",
       "    </tr>\n",
       "    <tr>\n",
       "      <th>3</th>\n",
       "      <td>9/18/10</td>\n",
       "      <td>Saturday</td>\n",
       "      <td>21</td>\n",
       "    </tr>\n",
       "    <tr>\n",
       "      <th>4</th>\n",
       "      <td>9/18/10</td>\n",
       "      <td>Saturday</td>\n",
       "      <td>21</td>\n",
       "    </tr>\n",
       "  </tbody>\n",
       "</table>\n",
       "</div>"
      ],
      "text/plain": [
       "      date day_of_week  temperature\n",
       "2  9/18/10    Saturday           21\n",
       "3  9/18/10    Saturday           21\n",
       "4  9/18/10    Saturday           21"
      ]
     },
     "execution_count": 25,
     "metadata": {},
     "output_type": "execute_result"
    }
   ],
   "source": [
    "bike_counts.iloc[[2, 3, 4], [0, 1, 2]]"
   ]
  },
  {
   "cell_type": "markdown",
   "metadata": {},
   "source": [
    "The index of `surveys` consists of consecutive integers so in this case selecting from the index by labels or position will look the same. As will be shown later, an index could also consist of text names just like the columns.\n",
    "\n",
    "While selecting a slice by label is inclusive of the start and end, selecting a slice by position is inclusive of the start by exclusive of the end position, just like when slicing in lists."
   ]
  },
  {
   "cell_type": "code",
   "execution_count": 26,
   "metadata": {
    "collapsed": false
   },
   "outputs": [
    {
     "data": {
      "text/html": [
       "<div>\n",
       "<style scoped>\n",
       "    .dataframe tbody tr th:only-of-type {\n",
       "        vertical-align: middle;\n",
       "    }\n",
       "\n",
       "    .dataframe tbody tr th {\n",
       "        vertical-align: top;\n",
       "    }\n",
       "\n",
       "    .dataframe thead th {\n",
       "        text-align: right;\n",
       "    }\n",
       "</style>\n",
       "<table border=\"1\" class=\"dataframe\">\n",
       "  <thead>\n",
       "    <tr style=\"text-align: right;\">\n",
       "      <th></th>\n",
       "      <th>date</th>\n",
       "      <th>day_of_week</th>\n",
       "      <th>temperature</th>\n",
       "    </tr>\n",
       "  </thead>\n",
       "  <tbody>\n",
       "    <tr>\n",
       "      <th>2</th>\n",
       "      <td>9/18/10</td>\n",
       "      <td>Saturday</td>\n",
       "      <td>21</td>\n",
       "    </tr>\n",
       "    <tr>\n",
       "      <th>3</th>\n",
       "      <td>9/18/10</td>\n",
       "      <td>Saturday</td>\n",
       "      <td>21</td>\n",
       "    </tr>\n",
       "    <tr>\n",
       "      <th>4</th>\n",
       "      <td>9/18/10</td>\n",
       "      <td>Saturday</td>\n",
       "      <td>21</td>\n",
       "    </tr>\n",
       "  </tbody>\n",
       "</table>\n",
       "</div>"
      ],
      "text/plain": [
       "      date day_of_week  temperature\n",
       "2  9/18/10    Saturday           21\n",
       "3  9/18/10    Saturday           21\n",
       "4  9/18/10    Saturday           21"
      ]
     },
     "execution_count": 26,
     "metadata": {},
     "output_type": "execute_result"
    }
   ],
   "source": [
    "bike_counts.iloc[2:5, :3]"
   ]
  },
  {
   "cell_type": "markdown",
   "metadata": {},
   "source": [
    "Selecting slices of row positions is a common operation, and has thus been given a shortcut syntax with single brackets."
   ]
  },
  {
   "cell_type": "code",
   "execution_count": 27,
   "metadata": {
    "collapsed": false
   },
   "outputs": [
    {
     "data": {
      "text/html": [
       "<div>\n",
       "<style scoped>\n",
       "    .dataframe tbody tr th:only-of-type {\n",
       "        vertical-align: middle;\n",
       "    }\n",
       "\n",
       "    .dataframe tbody tr th {\n",
       "        vertical-align: top;\n",
       "    }\n",
       "\n",
       "    .dataframe thead th {\n",
       "        text-align: right;\n",
       "    }\n",
       "</style>\n",
       "<table border=\"1\" class=\"dataframe\">\n",
       "  <thead>\n",
       "    <tr style=\"text-align: right;\">\n",
       "      <th></th>\n",
       "      <th>date</th>\n",
       "      <th>day_of_week</th>\n",
       "      <th>temperature</th>\n",
       "      <th>weather</th>\n",
       "      <th>direction</th>\n",
       "      <th>position</th>\n",
       "      <th>hour</th>\n",
       "      <th>bikes</th>\n",
       "    </tr>\n",
       "  </thead>\n",
       "  <tbody>\n",
       "    <tr>\n",
       "      <th>2</th>\n",
       "      <td>9/18/10</td>\n",
       "      <td>Saturday</td>\n",
       "      <td>21</td>\n",
       "      <td>No Rain</td>\n",
       "      <td>Westbound</td>\n",
       "      <td>Bike lane just east of Spadina Ave.</td>\n",
       "      <td>2:00:00 AM</td>\n",
       "      <td>23</td>\n",
       "    </tr>\n",
       "    <tr>\n",
       "      <th>3</th>\n",
       "      <td>9/18/10</td>\n",
       "      <td>Saturday</td>\n",
       "      <td>21</td>\n",
       "      <td>No Rain</td>\n",
       "      <td>Westbound</td>\n",
       "      <td>Bike lane just east of Spadina Ave.</td>\n",
       "      <td>3:00:00 AM</td>\n",
       "      <td>8</td>\n",
       "    </tr>\n",
       "    <tr>\n",
       "      <th>4</th>\n",
       "      <td>9/18/10</td>\n",
       "      <td>Saturday</td>\n",
       "      <td>21</td>\n",
       "      <td>No Rain</td>\n",
       "      <td>Westbound</td>\n",
       "      <td>Bike lane just east of Spadina Ave.</td>\n",
       "      <td>4:00:00 AM</td>\n",
       "      <td>10</td>\n",
       "    </tr>\n",
       "  </tbody>\n",
       "</table>\n",
       "</div>"
      ],
      "text/plain": [
       "      date day_of_week  temperature   weather  direction  \\\n",
       "2  9/18/10    Saturday           21   No Rain  Westbound   \n",
       "3  9/18/10    Saturday           21   No Rain  Westbound   \n",
       "4  9/18/10    Saturday           21   No Rain  Westbound   \n",
       "\n",
       "                              position        hour  bikes  \n",
       "2  Bike lane just east of Spadina Ave.  2:00:00 AM     23  \n",
       "3  Bike lane just east of Spadina Ave.  3:00:00 AM      8  \n",
       "4  Bike lane just east of Spadina Ave.  4:00:00 AM     10  "
      ]
     },
     "execution_count": 27,
     "metadata": {},
     "output_type": "execute_result"
    }
   ],
   "source": [
    "bike_counts[2:5]"
   ]
  },
  {
   "cell_type": "markdown",
   "metadata": {},
   "source": [
    ">#### Challenge\n",
    ">\n",
    ">1. Extract the 200th and 201st row of the `bike_counts` dataset and assign the resulting data frame to a new variable name (`bike_counts_200_201`). Remember that Python indexing starts at 0!\n",
    ">\n",
    ">2. How can you get the same result as from `bike_counts.head()` by using row slices instead of the `head()` method?\n",
    ">\n",
    ">3. There are at least three distinct ways to extract the last row of the data frame. How many can you come up with?"
   ]
  },
  {
   "cell_type": "markdown",
   "metadata": {},
   "source": [
    "The `describe()` method was mentioned above as a way of retrieving summary statistics of a data frame. Together with `info()` and `head()` this is often a good place to start exploratory data analysis as it gives a nice overview of the numeric valuables the data set. It's a good way to check things such as if the max and min values make sense for a particular column."
   ]
  },
  {
   "cell_type": "code",
   "execution_count": 28,
   "metadata": {
    "collapsed": false
   },
   "outputs": [
    {
     "data": {
      "text/html": [
       "<div>\n",
       "<style scoped>\n",
       "    .dataframe tbody tr th:only-of-type {\n",
       "        vertical-align: middle;\n",
       "    }\n",
       "\n",
       "    .dataframe tbody tr th {\n",
       "        vertical-align: top;\n",
       "    }\n",
       "\n",
       "    .dataframe thead th {\n",
       "        text-align: right;\n",
       "    }\n",
       "</style>\n",
       "<table border=\"1\" class=\"dataframe\">\n",
       "  <thead>\n",
       "    <tr style=\"text-align: right;\">\n",
       "      <th></th>\n",
       "      <th>temperature</th>\n",
       "      <th>bikes</th>\n",
       "    </tr>\n",
       "  </thead>\n",
       "  <tbody>\n",
       "    <tr>\n",
       "      <th>count</th>\n",
       "      <td>624.000000</td>\n",
       "      <td>624.000000</td>\n",
       "    </tr>\n",
       "    <tr>\n",
       "      <th>mean</th>\n",
       "      <td>21.076923</td>\n",
       "      <td>81.134615</td>\n",
       "    </tr>\n",
       "    <tr>\n",
       "      <th>std</th>\n",
       "      <td>4.517899</td>\n",
       "      <td>78.900314</td>\n",
       "    </tr>\n",
       "    <tr>\n",
       "      <th>min</th>\n",
       "      <td>15.000000</td>\n",
       "      <td>0.000000</td>\n",
       "    </tr>\n",
       "    <tr>\n",
       "      <th>25%</th>\n",
       "      <td>18.000000</td>\n",
       "      <td>21.000000</td>\n",
       "    </tr>\n",
       "    <tr>\n",
       "      <th>50%</th>\n",
       "      <td>19.000000</td>\n",
       "      <td>66.000000</td>\n",
       "    </tr>\n",
       "    <tr>\n",
       "      <th>75%</th>\n",
       "      <td>23.000000</td>\n",
       "      <td>113.000000</td>\n",
       "    </tr>\n",
       "    <tr>\n",
       "      <th>max</th>\n",
       "      <td>30.000000</td>\n",
       "      <td>511.000000</td>\n",
       "    </tr>\n",
       "  </tbody>\n",
       "</table>\n",
       "</div>"
      ],
      "text/plain": [
       "       temperature       bikes\n",
       "count   624.000000  624.000000\n",
       "mean     21.076923   81.134615\n",
       "std       4.517899   78.900314\n",
       "min      15.000000    0.000000\n",
       "25%      18.000000   21.000000\n",
       "50%      19.000000   66.000000\n",
       "75%      23.000000  113.000000\n",
       "max      30.000000  511.000000"
      ]
     },
     "execution_count": 28,
     "metadata": {},
     "output_type": "execute_result"
    }
   ],
   "source": [
    "bike_counts.describe()"
   ]
  },
  {
   "cell_type": "markdown",
   "metadata": {},
   "source": [
    "A common next step would be to plot the data to explore relationships between different variables, but before getting into plotting, it is beneficial to elaborate on the data frame object and several of its common operations.\n",
    "\n",
    "An often desired outcome is to select a subset of rows matching a criteria, e.g. which observations have a bike count under 5. To do this, the \"less than\" comparison operator that was introduced previously can be used."
   ]
  },
  {
   "cell_type": "code",
   "execution_count": 29,
   "metadata": {
    "collapsed": false
   },
   "outputs": [
    {
     "data": {
      "text/plain": [
       "0      False\n",
       "1      False\n",
       "2      False\n",
       "3      False\n",
       "4      False\n",
       "5       True\n",
       "6       True\n",
       "7      False\n",
       "8      False\n",
       "9      False\n",
       "10     False\n",
       "11     False\n",
       "12     False\n",
       "13     False\n",
       "14     False\n",
       "15     False\n",
       "16     False\n",
       "17     False\n",
       "18     False\n",
       "19     False\n",
       "20     False\n",
       "21     False\n",
       "22     False\n",
       "23     False\n",
       "24     False\n",
       "25     False\n",
       "26     False\n",
       "27     False\n",
       "28     False\n",
       "29     False\n",
       "       ...  \n",
       "594    False\n",
       "595    False\n",
       "596    False\n",
       "597    False\n",
       "598    False\n",
       "599    False\n",
       "600    False\n",
       "601    False\n",
       "602    False\n",
       "603    False\n",
       "604     True\n",
       "605    False\n",
       "606    False\n",
       "607    False\n",
       "608    False\n",
       "609    False\n",
       "610    False\n",
       "611    False\n",
       "612    False\n",
       "613    False\n",
       "614    False\n",
       "615    False\n",
       "616    False\n",
       "617    False\n",
       "618    False\n",
       "619    False\n",
       "620    False\n",
       "621    False\n",
       "622    False\n",
       "623    False\n",
       "Name: bikes, Length: 624, dtype: bool"
      ]
     },
     "execution_count": 29,
     "metadata": {},
     "output_type": "execute_result"
    }
   ],
   "source": [
    "bike_counts['bikes'] < 5"
   ]
  },
  {
   "cell_type": "markdown",
   "metadata": {},
   "source": [
    "The result is a boolean array with one value for every row in the data frame indicating whether it is `True` or `False` that this row has a value below 5 in the bikes column. This boolean array can be used to select only those rows from the data frame that meet the specified condition."
   ]
  },
  {
   "cell_type": "code",
   "execution_count": 30,
   "metadata": {
    "collapsed": false
   },
   "outputs": [
    {
     "data": {
      "text/html": [
       "<div>\n",
       "<style scoped>\n",
       "    .dataframe tbody tr th:only-of-type {\n",
       "        vertical-align: middle;\n",
       "    }\n",
       "\n",
       "    .dataframe tbody tr th {\n",
       "        vertical-align: top;\n",
       "    }\n",
       "\n",
       "    .dataframe thead th {\n",
       "        text-align: right;\n",
       "    }\n",
       "</style>\n",
       "<table border=\"1\" class=\"dataframe\">\n",
       "  <thead>\n",
       "    <tr style=\"text-align: right;\">\n",
       "      <th></th>\n",
       "      <th>date</th>\n",
       "      <th>day_of_week</th>\n",
       "      <th>temperature</th>\n",
       "      <th>weather</th>\n",
       "      <th>direction</th>\n",
       "      <th>position</th>\n",
       "      <th>hour</th>\n",
       "      <th>bikes</th>\n",
       "    </tr>\n",
       "  </thead>\n",
       "  <tbody>\n",
       "    <tr>\n",
       "      <th>5</th>\n",
       "      <td>9/18/10</td>\n",
       "      <td>Saturday</td>\n",
       "      <td>21</td>\n",
       "      <td>No Rain</td>\n",
       "      <td>Westbound</td>\n",
       "      <td>Bike lane just east of Spadina Ave.</td>\n",
       "      <td>5:00:00 AM</td>\n",
       "      <td>3</td>\n",
       "    </tr>\n",
       "    <tr>\n",
       "      <th>6</th>\n",
       "      <td>9/18/10</td>\n",
       "      <td>Saturday</td>\n",
       "      <td>21</td>\n",
       "      <td>No Rain</td>\n",
       "      <td>Westbound</td>\n",
       "      <td>Bike lane just east of Spadina Ave.</td>\n",
       "      <td>6:00:00 AM</td>\n",
       "      <td>3</td>\n",
       "    </tr>\n",
       "    <tr>\n",
       "      <th>53</th>\n",
       "      <td>9/25/10</td>\n",
       "      <td>Saturday</td>\n",
       "      <td>18</td>\n",
       "      <td>No Rain</td>\n",
       "      <td>Westbound</td>\n",
       "      <td>Bike lane just east of Spadina Ave.</td>\n",
       "      <td>5:00:00 AM</td>\n",
       "      <td>3</td>\n",
       "    </tr>\n",
       "    <tr>\n",
       "      <th>54</th>\n",
       "      <td>9/25/10</td>\n",
       "      <td>Saturday</td>\n",
       "      <td>18</td>\n",
       "      <td>No Rain</td>\n",
       "      <td>Westbound</td>\n",
       "      <td>Bike lane just east of Spadina Ave.</td>\n",
       "      <td>6:00:00 AM</td>\n",
       "      <td>3</td>\n",
       "    </tr>\n",
       "    <tr>\n",
       "      <th>101</th>\n",
       "      <td>9/19/10</td>\n",
       "      <td>Sunday</td>\n",
       "      <td>20</td>\n",
       "      <td>No Rain</td>\n",
       "      <td>Westbound</td>\n",
       "      <td>Bike lane just east of Spadina Ave.</td>\n",
       "      <td>5:00:00 AM</td>\n",
       "      <td>4</td>\n",
       "    </tr>\n",
       "    <tr>\n",
       "      <th>125</th>\n",
       "      <td>9/19/10</td>\n",
       "      <td>Sunday</td>\n",
       "      <td>20</td>\n",
       "      <td>No Rain</td>\n",
       "      <td>Eastbound</td>\n",
       "      <td>Bike lane just west of Spadina Ave.</td>\n",
       "      <td>5:00:00 AM</td>\n",
       "      <td>3</td>\n",
       "    </tr>\n",
       "    <tr>\n",
       "      <th>173</th>\n",
       "      <td>9/26/10</td>\n",
       "      <td>Sunday</td>\n",
       "      <td>17</td>\n",
       "      <td>No Rain</td>\n",
       "      <td>Eastbound</td>\n",
       "      <td>Bike lane just west of Spadina Ave.</td>\n",
       "      <td>5:00:00 AM</td>\n",
       "      <td>2</td>\n",
       "    </tr>\n",
       "    <tr>\n",
       "      <th>191</th>\n",
       "      <td>9/26/10</td>\n",
       "      <td>Sunday</td>\n",
       "      <td>17</td>\n",
       "      <td>No Rain</td>\n",
       "      <td>Eastbound</td>\n",
       "      <td>Bike lane just west of Spadina Ave.</td>\n",
       "      <td>11:00:00 PM</td>\n",
       "      <td>4</td>\n",
       "    </tr>\n",
       "    <tr>\n",
       "      <th>194</th>\n",
       "      <td>9/20/10</td>\n",
       "      <td>Monday</td>\n",
       "      <td>19</td>\n",
       "      <td>No Rain</td>\n",
       "      <td>Westbound</td>\n",
       "      <td>Bike lane just east of Spadina Ave.</td>\n",
       "      <td>2:00:00 AM</td>\n",
       "      <td>3</td>\n",
       "    </tr>\n",
       "    <tr>\n",
       "      <th>195</th>\n",
       "      <td>9/20/10</td>\n",
       "      <td>Monday</td>\n",
       "      <td>19</td>\n",
       "      <td>No Rain</td>\n",
       "      <td>Westbound</td>\n",
       "      <td>Bike lane just east of Spadina Ave.</td>\n",
       "      <td>3:00:00 AM</td>\n",
       "      <td>2</td>\n",
       "    </tr>\n",
       "    <tr>\n",
       "      <th>196</th>\n",
       "      <td>9/20/10</td>\n",
       "      <td>Monday</td>\n",
       "      <td>19</td>\n",
       "      <td>No Rain</td>\n",
       "      <td>Westbound</td>\n",
       "      <td>Bike lane just east of Spadina Ave.</td>\n",
       "      <td>4:00:00 AM</td>\n",
       "      <td>3</td>\n",
       "    </tr>\n",
       "    <tr>\n",
       "      <th>197</th>\n",
       "      <td>9/20/10</td>\n",
       "      <td>Monday</td>\n",
       "      <td>19</td>\n",
       "      <td>No Rain</td>\n",
       "      <td>Westbound</td>\n",
       "      <td>Bike lane just east of Spadina Ave.</td>\n",
       "      <td>5:00:00 AM</td>\n",
       "      <td>4</td>\n",
       "    </tr>\n",
       "    <tr>\n",
       "      <th>218</th>\n",
       "      <td>9/20/10</td>\n",
       "      <td>Monday</td>\n",
       "      <td>19</td>\n",
       "      <td>No Rain</td>\n",
       "      <td>Eastbound</td>\n",
       "      <td>Bike lane just west of Spadina Ave.</td>\n",
       "      <td>2:00:00 AM</td>\n",
       "      <td>1</td>\n",
       "    </tr>\n",
       "    <tr>\n",
       "      <th>219</th>\n",
       "      <td>9/20/10</td>\n",
       "      <td>Monday</td>\n",
       "      <td>19</td>\n",
       "      <td>No Rain</td>\n",
       "      <td>Eastbound</td>\n",
       "      <td>Bike lane just west of Spadina Ave.</td>\n",
       "      <td>3:00:00 AM</td>\n",
       "      <td>3</td>\n",
       "    </tr>\n",
       "    <tr>\n",
       "      <th>220</th>\n",
       "      <td>9/20/10</td>\n",
       "      <td>Monday</td>\n",
       "      <td>19</td>\n",
       "      <td>No Rain</td>\n",
       "      <td>Eastbound</td>\n",
       "      <td>Bike lane just west of Spadina Ave.</td>\n",
       "      <td>4:00:00 AM</td>\n",
       "      <td>4</td>\n",
       "    </tr>\n",
       "    <tr>\n",
       "      <th>242</th>\n",
       "      <td>9/21/10</td>\n",
       "      <td>Tuesday</td>\n",
       "      <td>25</td>\n",
       "      <td>No Rain</td>\n",
       "      <td>Westbound</td>\n",
       "      <td>Bike lane just east of Spadina Ave.</td>\n",
       "      <td>2:00:00 AM</td>\n",
       "      <td>3</td>\n",
       "    </tr>\n",
       "    <tr>\n",
       "      <th>243</th>\n",
       "      <td>9/21/10</td>\n",
       "      <td>Tuesday</td>\n",
       "      <td>25</td>\n",
       "      <td>No Rain</td>\n",
       "      <td>Westbound</td>\n",
       "      <td>Bike lane just east of Spadina Ave.</td>\n",
       "      <td>3:00:00 AM</td>\n",
       "      <td>2</td>\n",
       "    </tr>\n",
       "    <tr>\n",
       "      <th>244</th>\n",
       "      <td>9/21/10</td>\n",
       "      <td>Tuesday</td>\n",
       "      <td>25</td>\n",
       "      <td>No Rain</td>\n",
       "      <td>Westbound</td>\n",
       "      <td>Bike lane just east of Spadina Ave.</td>\n",
       "      <td>4:00:00 AM</td>\n",
       "      <td>0</td>\n",
       "    </tr>\n",
       "    <tr>\n",
       "      <th>266</th>\n",
       "      <td>9/21/10</td>\n",
       "      <td>Tuesday</td>\n",
       "      <td>25</td>\n",
       "      <td>No Rain</td>\n",
       "      <td>Eastbound</td>\n",
       "      <td>Bike lane just west of Spadina Ave.</td>\n",
       "      <td>2:00:00 AM</td>\n",
       "      <td>3</td>\n",
       "    </tr>\n",
       "    <tr>\n",
       "      <th>267</th>\n",
       "      <td>9/21/10</td>\n",
       "      <td>Tuesday</td>\n",
       "      <td>25</td>\n",
       "      <td>No Rain</td>\n",
       "      <td>Eastbound</td>\n",
       "      <td>Bike lane just west of Spadina Ave.</td>\n",
       "      <td>3:00:00 AM</td>\n",
       "      <td>2</td>\n",
       "    </tr>\n",
       "    <tr>\n",
       "      <th>268</th>\n",
       "      <td>9/21/10</td>\n",
       "      <td>Tuesday</td>\n",
       "      <td>25</td>\n",
       "      <td>No Rain</td>\n",
       "      <td>Eastbound</td>\n",
       "      <td>Bike lane just west of Spadina Ave.</td>\n",
       "      <td>4:00:00 AM</td>\n",
       "      <td>4</td>\n",
       "    </tr>\n",
       "    <tr>\n",
       "      <th>290</th>\n",
       "      <td>9/22/10</td>\n",
       "      <td>Wednesday</td>\n",
       "      <td>23</td>\n",
       "      <td>Rain 6mm</td>\n",
       "      <td>Westbound</td>\n",
       "      <td>Bike lane just east of Spadina Ave.</td>\n",
       "      <td>2:00:00 AM</td>\n",
       "      <td>3</td>\n",
       "    </tr>\n",
       "    <tr>\n",
       "      <th>291</th>\n",
       "      <td>9/22/10</td>\n",
       "      <td>Wednesday</td>\n",
       "      <td>23</td>\n",
       "      <td>Rain 6mm</td>\n",
       "      <td>Westbound</td>\n",
       "      <td>Bike lane just east of Spadina Ave.</td>\n",
       "      <td>3:00:00 AM</td>\n",
       "      <td>3</td>\n",
       "    </tr>\n",
       "    <tr>\n",
       "      <th>292</th>\n",
       "      <td>9/22/10</td>\n",
       "      <td>Wednesday</td>\n",
       "      <td>23</td>\n",
       "      <td>Rain 6mm</td>\n",
       "      <td>Westbound</td>\n",
       "      <td>Bike lane just east of Spadina Ave.</td>\n",
       "      <td>4:00:00 AM</td>\n",
       "      <td>0</td>\n",
       "    </tr>\n",
       "    <tr>\n",
       "      <th>293</th>\n",
       "      <td>9/22/10</td>\n",
       "      <td>Wednesday</td>\n",
       "      <td>23</td>\n",
       "      <td>Rain 6mm</td>\n",
       "      <td>Westbound</td>\n",
       "      <td>Bike lane just east of Spadina Ave.</td>\n",
       "      <td>5:00:00 AM</td>\n",
       "      <td>4</td>\n",
       "    </tr>\n",
       "    <tr>\n",
       "      <th>315</th>\n",
       "      <td>9/22/10</td>\n",
       "      <td>Wednesday</td>\n",
       "      <td>23</td>\n",
       "      <td>Rain 6mm</td>\n",
       "      <td>Eastbound</td>\n",
       "      <td>Bike lane just west of Spadina Ave.</td>\n",
       "      <td>3:00:00 AM</td>\n",
       "      <td>4</td>\n",
       "    </tr>\n",
       "    <tr>\n",
       "      <th>316</th>\n",
       "      <td>9/22/10</td>\n",
       "      <td>Wednesday</td>\n",
       "      <td>23</td>\n",
       "      <td>Rain 6mm</td>\n",
       "      <td>Eastbound</td>\n",
       "      <td>Bike lane just west of Spadina Ave.</td>\n",
       "      <td>4:00:00 AM</td>\n",
       "      <td>4</td>\n",
       "    </tr>\n",
       "    <tr>\n",
       "      <th>340</th>\n",
       "      <td>9/23/10</td>\n",
       "      <td>Thursday</td>\n",
       "      <td>19</td>\n",
       "      <td>No Rain</td>\n",
       "      <td>Westbound</td>\n",
       "      <td>Bike lane just east of Spadina Ave.</td>\n",
       "      <td>4:00:00 AM</td>\n",
       "      <td>0</td>\n",
       "    </tr>\n",
       "    <tr>\n",
       "      <th>341</th>\n",
       "      <td>9/23/10</td>\n",
       "      <td>Thursday</td>\n",
       "      <td>19</td>\n",
       "      <td>No Rain</td>\n",
       "      <td>Westbound</td>\n",
       "      <td>Bike lane just east of Spadina Ave.</td>\n",
       "      <td>5:00:00 AM</td>\n",
       "      <td>3</td>\n",
       "    </tr>\n",
       "    <tr>\n",
       "      <th>364</th>\n",
       "      <td>9/23/10</td>\n",
       "      <td>Thursday</td>\n",
       "      <td>19</td>\n",
       "      <td>No Rain</td>\n",
       "      <td>Eastbound</td>\n",
       "      <td>Bike lane just west of Spadina Ave.</td>\n",
       "      <td>4:00:00 AM</td>\n",
       "      <td>4</td>\n",
       "    </tr>\n",
       "    <tr>\n",
       "      <th>387</th>\n",
       "      <td>9/24/10</td>\n",
       "      <td>Friday</td>\n",
       "      <td>30</td>\n",
       "      <td>No Rain</td>\n",
       "      <td>Westbound</td>\n",
       "      <td>Bike lane just east of Spadina Ave.</td>\n",
       "      <td>3:00:00 AM</td>\n",
       "      <td>2</td>\n",
       "    </tr>\n",
       "    <tr>\n",
       "      <th>388</th>\n",
       "      <td>9/24/10</td>\n",
       "      <td>Friday</td>\n",
       "      <td>30</td>\n",
       "      <td>No Rain</td>\n",
       "      <td>Westbound</td>\n",
       "      <td>Bike lane just east of Spadina Ave.</td>\n",
       "      <td>4:00:00 AM</td>\n",
       "      <td>1</td>\n",
       "    </tr>\n",
       "    <tr>\n",
       "      <th>435</th>\n",
       "      <td>2017-09-27</td>\n",
       "      <td>Wednesday</td>\n",
       "      <td>30</td>\n",
       "      <td>No Rain</td>\n",
       "      <td>Eastbound</td>\n",
       "      <td>NaN</td>\n",
       "      <td>3:00 AM</td>\n",
       "      <td>4</td>\n",
       "    </tr>\n",
       "    <tr>\n",
       "      <th>459</th>\n",
       "      <td>2017-09-27</td>\n",
       "      <td>Wednesday</td>\n",
       "      <td>30</td>\n",
       "      <td>No Rain</td>\n",
       "      <td>Westbound</td>\n",
       "      <td>NaN</td>\n",
       "      <td>3:00 AM</td>\n",
       "      <td>2</td>\n",
       "    </tr>\n",
       "    <tr>\n",
       "      <th>483</th>\n",
       "      <td>2017-09-28</td>\n",
       "      <td>Thursday</td>\n",
       "      <td>19</td>\n",
       "      <td>No Rain</td>\n",
       "      <td>Eastbound</td>\n",
       "      <td>NaN</td>\n",
       "      <td>3:00 AM</td>\n",
       "      <td>3</td>\n",
       "    </tr>\n",
       "    <tr>\n",
       "      <th>508</th>\n",
       "      <td>2017-09-28</td>\n",
       "      <td>Thursday</td>\n",
       "      <td>19</td>\n",
       "      <td>No Rain</td>\n",
       "      <td>Westbound</td>\n",
       "      <td>NaN</td>\n",
       "      <td>4:00 AM</td>\n",
       "      <td>4</td>\n",
       "    </tr>\n",
       "    <tr>\n",
       "      <th>509</th>\n",
       "      <td>2017-09-28</td>\n",
       "      <td>Thursday</td>\n",
       "      <td>19</td>\n",
       "      <td>No Rain</td>\n",
       "      <td>Westbound</td>\n",
       "      <td>NaN</td>\n",
       "      <td>5:00 AM</td>\n",
       "      <td>2</td>\n",
       "    </tr>\n",
       "    <tr>\n",
       "      <th>531</th>\n",
       "      <td>2017-09-29</td>\n",
       "      <td>Friday</td>\n",
       "      <td>18</td>\n",
       "      <td>Rain 4mm</td>\n",
       "      <td>Eastbound</td>\n",
       "      <td>NaN</td>\n",
       "      <td>3:00 AM</td>\n",
       "      <td>3</td>\n",
       "    </tr>\n",
       "    <tr>\n",
       "      <th>556</th>\n",
       "      <td>2017-09-29</td>\n",
       "      <td>Friday</td>\n",
       "      <td>18</td>\n",
       "      <td>Rain 4mm</td>\n",
       "      <td>Westbound</td>\n",
       "      <td>NaN</td>\n",
       "      <td>4:00 AM</td>\n",
       "      <td>4</td>\n",
       "    </tr>\n",
       "    <tr>\n",
       "      <th>580</th>\n",
       "      <td>2017-09-30</td>\n",
       "      <td>Saturday</td>\n",
       "      <td>15</td>\n",
       "      <td>No Rain</td>\n",
       "      <td>Eastbound</td>\n",
       "      <td>NaN</td>\n",
       "      <td>4:00 AM</td>\n",
       "      <td>2</td>\n",
       "    </tr>\n",
       "    <tr>\n",
       "      <th>604</th>\n",
       "      <td>2017-09-30</td>\n",
       "      <td>Saturday</td>\n",
       "      <td>15</td>\n",
       "      <td>No Rain</td>\n",
       "      <td>Westbound</td>\n",
       "      <td>NaN</td>\n",
       "      <td>4:00 AM</td>\n",
       "      <td>4</td>\n",
       "    </tr>\n",
       "  </tbody>\n",
       "</table>\n",
       "</div>"
      ],
      "text/plain": [
       "           date day_of_week  temperature    weather  direction  \\\n",
       "5       9/18/10    Saturday           21    No Rain  Westbound   \n",
       "6       9/18/10    Saturday           21    No Rain  Westbound   \n",
       "53      9/25/10    Saturday           18    No Rain  Westbound   \n",
       "54      9/25/10    Saturday           18    No Rain  Westbound   \n",
       "101     9/19/10      Sunday           20    No Rain  Westbound   \n",
       "125     9/19/10      Sunday           20    No Rain  Eastbound   \n",
       "173     9/26/10      Sunday           17    No Rain  Eastbound   \n",
       "191     9/26/10      Sunday           17    No Rain  Eastbound   \n",
       "194     9/20/10      Monday           19    No Rain  Westbound   \n",
       "195     9/20/10      Monday           19    No Rain  Westbound   \n",
       "196     9/20/10      Monday           19    No Rain  Westbound   \n",
       "197     9/20/10      Monday           19    No Rain  Westbound   \n",
       "218     9/20/10      Monday           19    No Rain  Eastbound   \n",
       "219     9/20/10      Monday           19    No Rain  Eastbound   \n",
       "220     9/20/10      Monday           19    No Rain  Eastbound   \n",
       "242     9/21/10     Tuesday           25    No Rain  Westbound   \n",
       "243     9/21/10     Tuesday           25    No Rain  Westbound   \n",
       "244     9/21/10     Tuesday           25    No Rain  Westbound   \n",
       "266     9/21/10     Tuesday           25    No Rain  Eastbound   \n",
       "267     9/21/10     Tuesday           25    No Rain  Eastbound   \n",
       "268     9/21/10     Tuesday           25    No Rain  Eastbound   \n",
       "290     9/22/10   Wednesday           23   Rain 6mm  Westbound   \n",
       "291     9/22/10   Wednesday           23   Rain 6mm  Westbound   \n",
       "292     9/22/10   Wednesday           23   Rain 6mm  Westbound   \n",
       "293     9/22/10   Wednesday           23   Rain 6mm  Westbound   \n",
       "315     9/22/10   Wednesday           23   Rain 6mm  Eastbound   \n",
       "316     9/22/10   Wednesday           23   Rain 6mm  Eastbound   \n",
       "340     9/23/10    Thursday           19    No Rain  Westbound   \n",
       "341     9/23/10    Thursday           19    No Rain  Westbound   \n",
       "364     9/23/10    Thursday           19    No Rain  Eastbound   \n",
       "387     9/24/10      Friday           30    No Rain  Westbound   \n",
       "388     9/24/10      Friday           30    No Rain  Westbound   \n",
       "435  2017-09-27   Wednesday           30    No Rain  Eastbound   \n",
       "459  2017-09-27   Wednesday           30    No Rain  Westbound   \n",
       "483  2017-09-28    Thursday           19    No Rain  Eastbound   \n",
       "508  2017-09-28    Thursday           19    No Rain  Westbound   \n",
       "509  2017-09-28    Thursday           19    No Rain  Westbound   \n",
       "531  2017-09-29      Friday           18   Rain 4mm  Eastbound   \n",
       "556  2017-09-29      Friday           18   Rain 4mm  Westbound   \n",
       "580  2017-09-30    Saturday           15    No Rain  Eastbound   \n",
       "604  2017-09-30    Saturday           15    No Rain  Westbound   \n",
       "\n",
       "                                position         hour  bikes  \n",
       "5    Bike lane just east of Spadina Ave.   5:00:00 AM      3  \n",
       "6    Bike lane just east of Spadina Ave.   6:00:00 AM      3  \n",
       "53   Bike lane just east of Spadina Ave.   5:00:00 AM      3  \n",
       "54   Bike lane just east of Spadina Ave.   6:00:00 AM      3  \n",
       "101  Bike lane just east of Spadina Ave.   5:00:00 AM      4  \n",
       "125  Bike lane just west of Spadina Ave.   5:00:00 AM      3  \n",
       "173  Bike lane just west of Spadina Ave.   5:00:00 AM      2  \n",
       "191  Bike lane just west of Spadina Ave.  11:00:00 PM      4  \n",
       "194  Bike lane just east of Spadina Ave.   2:00:00 AM      3  \n",
       "195  Bike lane just east of Spadina Ave.   3:00:00 AM      2  \n",
       "196  Bike lane just east of Spadina Ave.   4:00:00 AM      3  \n",
       "197  Bike lane just east of Spadina Ave.   5:00:00 AM      4  \n",
       "218  Bike lane just west of Spadina Ave.   2:00:00 AM      1  \n",
       "219  Bike lane just west of Spadina Ave.   3:00:00 AM      3  \n",
       "220  Bike lane just west of Spadina Ave.   4:00:00 AM      4  \n",
       "242  Bike lane just east of Spadina Ave.   2:00:00 AM      3  \n",
       "243  Bike lane just east of Spadina Ave.   3:00:00 AM      2  \n",
       "244  Bike lane just east of Spadina Ave.   4:00:00 AM      0  \n",
       "266  Bike lane just west of Spadina Ave.   2:00:00 AM      3  \n",
       "267  Bike lane just west of Spadina Ave.   3:00:00 AM      2  \n",
       "268  Bike lane just west of Spadina Ave.   4:00:00 AM      4  \n",
       "290  Bike lane just east of Spadina Ave.   2:00:00 AM      3  \n",
       "291  Bike lane just east of Spadina Ave.   3:00:00 AM      3  \n",
       "292  Bike lane just east of Spadina Ave.   4:00:00 AM      0  \n",
       "293  Bike lane just east of Spadina Ave.   5:00:00 AM      4  \n",
       "315  Bike lane just west of Spadina Ave.   3:00:00 AM      4  \n",
       "316  Bike lane just west of Spadina Ave.   4:00:00 AM      4  \n",
       "340  Bike lane just east of Spadina Ave.   4:00:00 AM      0  \n",
       "341  Bike lane just east of Spadina Ave.   5:00:00 AM      3  \n",
       "364  Bike lane just west of Spadina Ave.   4:00:00 AM      4  \n",
       "387  Bike lane just east of Spadina Ave.   3:00:00 AM      2  \n",
       "388  Bike lane just east of Spadina Ave.   4:00:00 AM      1  \n",
       "435                                  NaN      3:00 AM      4  \n",
       "459                                  NaN      3:00 AM      2  \n",
       "483                                  NaN      3:00 AM      3  \n",
       "508                                  NaN      4:00 AM      4  \n",
       "509                                  NaN      5:00 AM      2  \n",
       "531                                  NaN      3:00 AM      3  \n",
       "556                                  NaN      4:00 AM      4  \n",
       "580                                  NaN      4:00 AM      2  \n",
       "604                                  NaN      4:00 AM      4  "
      ]
     },
     "execution_count": 30,
     "metadata": {},
     "output_type": "execute_result"
    }
   ],
   "source": [
    "bike_counts[bike_counts['bikes'] < 5]"
   ]
  },
  {
   "cell_type": "markdown",
   "metadata": {},
   "source": [
    "As before, this can be combined with selection of a particular set of columns."
   ]
  },
  {
   "cell_type": "code",
   "execution_count": 31,
   "metadata": {
    "collapsed": false
   },
   "outputs": [
    {
     "data": {
      "text/html": [
       "<div>\n",
       "<style scoped>\n",
       "    .dataframe tbody tr th:only-of-type {\n",
       "        vertical-align: middle;\n",
       "    }\n",
       "\n",
       "    .dataframe tbody tr th {\n",
       "        vertical-align: top;\n",
       "    }\n",
       "\n",
       "    .dataframe thead th {\n",
       "        text-align: right;\n",
       "    }\n",
       "</style>\n",
       "<table border=\"1\" class=\"dataframe\">\n",
       "  <thead>\n",
       "    <tr style=\"text-align: right;\">\n",
       "      <th></th>\n",
       "      <th>hour</th>\n",
       "      <th>bikes</th>\n",
       "    </tr>\n",
       "  </thead>\n",
       "  <tbody>\n",
       "    <tr>\n",
       "      <th>5</th>\n",
       "      <td>5:00:00 AM</td>\n",
       "      <td>3</td>\n",
       "    </tr>\n",
       "    <tr>\n",
       "      <th>6</th>\n",
       "      <td>6:00:00 AM</td>\n",
       "      <td>3</td>\n",
       "    </tr>\n",
       "    <tr>\n",
       "      <th>53</th>\n",
       "      <td>5:00:00 AM</td>\n",
       "      <td>3</td>\n",
       "    </tr>\n",
       "    <tr>\n",
       "      <th>54</th>\n",
       "      <td>6:00:00 AM</td>\n",
       "      <td>3</td>\n",
       "    </tr>\n",
       "    <tr>\n",
       "      <th>101</th>\n",
       "      <td>5:00:00 AM</td>\n",
       "      <td>4</td>\n",
       "    </tr>\n",
       "    <tr>\n",
       "      <th>125</th>\n",
       "      <td>5:00:00 AM</td>\n",
       "      <td>3</td>\n",
       "    </tr>\n",
       "    <tr>\n",
       "      <th>173</th>\n",
       "      <td>5:00:00 AM</td>\n",
       "      <td>2</td>\n",
       "    </tr>\n",
       "    <tr>\n",
       "      <th>191</th>\n",
       "      <td>11:00:00 PM</td>\n",
       "      <td>4</td>\n",
       "    </tr>\n",
       "    <tr>\n",
       "      <th>194</th>\n",
       "      <td>2:00:00 AM</td>\n",
       "      <td>3</td>\n",
       "    </tr>\n",
       "    <tr>\n",
       "      <th>195</th>\n",
       "      <td>3:00:00 AM</td>\n",
       "      <td>2</td>\n",
       "    </tr>\n",
       "    <tr>\n",
       "      <th>196</th>\n",
       "      <td>4:00:00 AM</td>\n",
       "      <td>3</td>\n",
       "    </tr>\n",
       "    <tr>\n",
       "      <th>197</th>\n",
       "      <td>5:00:00 AM</td>\n",
       "      <td>4</td>\n",
       "    </tr>\n",
       "    <tr>\n",
       "      <th>218</th>\n",
       "      <td>2:00:00 AM</td>\n",
       "      <td>1</td>\n",
       "    </tr>\n",
       "    <tr>\n",
       "      <th>219</th>\n",
       "      <td>3:00:00 AM</td>\n",
       "      <td>3</td>\n",
       "    </tr>\n",
       "    <tr>\n",
       "      <th>220</th>\n",
       "      <td>4:00:00 AM</td>\n",
       "      <td>4</td>\n",
       "    </tr>\n",
       "    <tr>\n",
       "      <th>242</th>\n",
       "      <td>2:00:00 AM</td>\n",
       "      <td>3</td>\n",
       "    </tr>\n",
       "    <tr>\n",
       "      <th>243</th>\n",
       "      <td>3:00:00 AM</td>\n",
       "      <td>2</td>\n",
       "    </tr>\n",
       "    <tr>\n",
       "      <th>244</th>\n",
       "      <td>4:00:00 AM</td>\n",
       "      <td>0</td>\n",
       "    </tr>\n",
       "    <tr>\n",
       "      <th>266</th>\n",
       "      <td>2:00:00 AM</td>\n",
       "      <td>3</td>\n",
       "    </tr>\n",
       "    <tr>\n",
       "      <th>267</th>\n",
       "      <td>3:00:00 AM</td>\n",
       "      <td>2</td>\n",
       "    </tr>\n",
       "    <tr>\n",
       "      <th>268</th>\n",
       "      <td>4:00:00 AM</td>\n",
       "      <td>4</td>\n",
       "    </tr>\n",
       "    <tr>\n",
       "      <th>290</th>\n",
       "      <td>2:00:00 AM</td>\n",
       "      <td>3</td>\n",
       "    </tr>\n",
       "    <tr>\n",
       "      <th>291</th>\n",
       "      <td>3:00:00 AM</td>\n",
       "      <td>3</td>\n",
       "    </tr>\n",
       "    <tr>\n",
       "      <th>292</th>\n",
       "      <td>4:00:00 AM</td>\n",
       "      <td>0</td>\n",
       "    </tr>\n",
       "    <tr>\n",
       "      <th>293</th>\n",
       "      <td>5:00:00 AM</td>\n",
       "      <td>4</td>\n",
       "    </tr>\n",
       "    <tr>\n",
       "      <th>315</th>\n",
       "      <td>3:00:00 AM</td>\n",
       "      <td>4</td>\n",
       "    </tr>\n",
       "    <tr>\n",
       "      <th>316</th>\n",
       "      <td>4:00:00 AM</td>\n",
       "      <td>4</td>\n",
       "    </tr>\n",
       "    <tr>\n",
       "      <th>340</th>\n",
       "      <td>4:00:00 AM</td>\n",
       "      <td>0</td>\n",
       "    </tr>\n",
       "    <tr>\n",
       "      <th>341</th>\n",
       "      <td>5:00:00 AM</td>\n",
       "      <td>3</td>\n",
       "    </tr>\n",
       "    <tr>\n",
       "      <th>364</th>\n",
       "      <td>4:00:00 AM</td>\n",
       "      <td>4</td>\n",
       "    </tr>\n",
       "    <tr>\n",
       "      <th>387</th>\n",
       "      <td>3:00:00 AM</td>\n",
       "      <td>2</td>\n",
       "    </tr>\n",
       "    <tr>\n",
       "      <th>388</th>\n",
       "      <td>4:00:00 AM</td>\n",
       "      <td>1</td>\n",
       "    </tr>\n",
       "    <tr>\n",
       "      <th>435</th>\n",
       "      <td>3:00 AM</td>\n",
       "      <td>4</td>\n",
       "    </tr>\n",
       "    <tr>\n",
       "      <th>459</th>\n",
       "      <td>3:00 AM</td>\n",
       "      <td>2</td>\n",
       "    </tr>\n",
       "    <tr>\n",
       "      <th>483</th>\n",
       "      <td>3:00 AM</td>\n",
       "      <td>3</td>\n",
       "    </tr>\n",
       "    <tr>\n",
       "      <th>508</th>\n",
       "      <td>4:00 AM</td>\n",
       "      <td>4</td>\n",
       "    </tr>\n",
       "    <tr>\n",
       "      <th>509</th>\n",
       "      <td>5:00 AM</td>\n",
       "      <td>2</td>\n",
       "    </tr>\n",
       "    <tr>\n",
       "      <th>531</th>\n",
       "      <td>3:00 AM</td>\n",
       "      <td>3</td>\n",
       "    </tr>\n",
       "    <tr>\n",
       "      <th>556</th>\n",
       "      <td>4:00 AM</td>\n",
       "      <td>4</td>\n",
       "    </tr>\n",
       "    <tr>\n",
       "      <th>580</th>\n",
       "      <td>4:00 AM</td>\n",
       "      <td>2</td>\n",
       "    </tr>\n",
       "    <tr>\n",
       "      <th>604</th>\n",
       "      <td>4:00 AM</td>\n",
       "      <td>4</td>\n",
       "    </tr>\n",
       "  </tbody>\n",
       "</table>\n",
       "</div>"
      ],
      "text/plain": [
       "            hour  bikes\n",
       "5     5:00:00 AM      3\n",
       "6     6:00:00 AM      3\n",
       "53    5:00:00 AM      3\n",
       "54    6:00:00 AM      3\n",
       "101   5:00:00 AM      4\n",
       "125   5:00:00 AM      3\n",
       "173   5:00:00 AM      2\n",
       "191  11:00:00 PM      4\n",
       "194   2:00:00 AM      3\n",
       "195   3:00:00 AM      2\n",
       "196   4:00:00 AM      3\n",
       "197   5:00:00 AM      4\n",
       "218   2:00:00 AM      1\n",
       "219   3:00:00 AM      3\n",
       "220   4:00:00 AM      4\n",
       "242   2:00:00 AM      3\n",
       "243   3:00:00 AM      2\n",
       "244   4:00:00 AM      0\n",
       "266   2:00:00 AM      3\n",
       "267   3:00:00 AM      2\n",
       "268   4:00:00 AM      4\n",
       "290   2:00:00 AM      3\n",
       "291   3:00:00 AM      3\n",
       "292   4:00:00 AM      0\n",
       "293   5:00:00 AM      4\n",
       "315   3:00:00 AM      4\n",
       "316   4:00:00 AM      4\n",
       "340   4:00:00 AM      0\n",
       "341   5:00:00 AM      3\n",
       "364   4:00:00 AM      4\n",
       "387   3:00:00 AM      2\n",
       "388   4:00:00 AM      1\n",
       "435      3:00 AM      4\n",
       "459      3:00 AM      2\n",
       "483      3:00 AM      3\n",
       "508      4:00 AM      4\n",
       "509      5:00 AM      2\n",
       "531      3:00 AM      3\n",
       "556      4:00 AM      4\n",
       "580      4:00 AM      2\n",
       "604      4:00 AM      4"
      ]
     },
     "execution_count": 31,
     "metadata": {},
     "output_type": "execute_result"
    }
   ],
   "source": [
    "bike_counts.loc[bike_counts['bikes'] < 5, ['hour', 'bikes']]"
   ]
  },
  {
   "cell_type": "markdown",
   "metadata": {},
   "source": [
    "All of the bike counts that are less than 5 happened at night, between 11 PM and 6 AM."
   ]
  },
  {
   "cell_type": "markdown",
   "metadata": {},
   "source": [
    "A single expression can also be used to filter for several criteria, either matching *all* criteria (`&`) or *any* criteria (`|`). These special operators are used instead of `and` and `or` to make sure that the comparison occurs for each row in the data frame. Parentheses are added to indicate the priority of the comparisons."
   ]
  },
  {
   "cell_type": "code",
   "execution_count": 32,
   "metadata": {
    "collapsed": false
   },
   "outputs": [
    {
     "data": {
      "text/html": [
       "<div>\n",
       "<style scoped>\n",
       "    .dataframe tbody tr th:only-of-type {\n",
       "        vertical-align: middle;\n",
       "    }\n",
       "\n",
       "    .dataframe tbody tr th {\n",
       "        vertical-align: top;\n",
       "    }\n",
       "\n",
       "    .dataframe thead th {\n",
       "        text-align: right;\n",
       "    }\n",
       "</style>\n",
       "<table border=\"1\" class=\"dataframe\">\n",
       "  <thead>\n",
       "    <tr style=\"text-align: right;\">\n",
       "      <th></th>\n",
       "      <th>day_of_week</th>\n",
       "      <th>direction</th>\n",
       "    </tr>\n",
       "  </thead>\n",
       "  <tbody>\n",
       "    <tr>\n",
       "      <th>24</th>\n",
       "      <td>Saturday</td>\n",
       "      <td>Eastbound</td>\n",
       "    </tr>\n",
       "    <tr>\n",
       "      <th>25</th>\n",
       "      <td>Saturday</td>\n",
       "      <td>Eastbound</td>\n",
       "    </tr>\n",
       "    <tr>\n",
       "      <th>26</th>\n",
       "      <td>Saturday</td>\n",
       "      <td>Eastbound</td>\n",
       "    </tr>\n",
       "    <tr>\n",
       "      <th>27</th>\n",
       "      <td>Saturday</td>\n",
       "      <td>Eastbound</td>\n",
       "    </tr>\n",
       "    <tr>\n",
       "      <th>28</th>\n",
       "      <td>Saturday</td>\n",
       "      <td>Eastbound</td>\n",
       "    </tr>\n",
       "  </tbody>\n",
       "</table>\n",
       "</div>"
      ],
      "text/plain": [
       "   day_of_week  direction\n",
       "24    Saturday  Eastbound\n",
       "25    Saturday  Eastbound\n",
       "26    Saturday  Eastbound\n",
       "27    Saturday  Eastbound\n",
       "28    Saturday  Eastbound"
      ]
     },
     "execution_count": 32,
     "metadata": {},
     "output_type": "execute_result"
    }
   ],
   "source": [
    "# AND = &\n",
    "bike_counts.loc[(bike_counts['day_of_week'] == 'Saturday') & \n",
    "                (bike_counts['direction'] == 'Eastbound'), ['day_of_week', 'direction']].head()"
   ]
  },
  {
   "cell_type": "markdown",
   "metadata": {},
   "source": [
    "To increase readability, these statements can be put on multiple rows. Anything that is within a parameter or bracket in Python can be continued on the next row. When inside a bracket or parenthesis, the indentation is not significant to the Python interpreter, but it is still recommended to include it in order to make the code more readable."
   ]
  },
  {
   "cell_type": "code",
   "execution_count": 33,
   "metadata": {
    "collapsed": false
   },
   "outputs": [
    {
     "data": {
      "text/html": [
       "<div>\n",
       "<style scoped>\n",
       "    .dataframe tbody tr th:only-of-type {\n",
       "        vertical-align: middle;\n",
       "    }\n",
       "\n",
       "    .dataframe tbody tr th {\n",
       "        vertical-align: top;\n",
       "    }\n",
       "\n",
       "    .dataframe thead th {\n",
       "        text-align: right;\n",
       "    }\n",
       "</style>\n",
       "<table border=\"1\" class=\"dataframe\">\n",
       "  <thead>\n",
       "    <tr style=\"text-align: right;\">\n",
       "      <th></th>\n",
       "      <th>day_of_week</th>\n",
       "      <th>direction</th>\n",
       "    </tr>\n",
       "  </thead>\n",
       "  <tbody>\n",
       "    <tr>\n",
       "      <th>24</th>\n",
       "      <td>Saturday</td>\n",
       "      <td>Eastbound</td>\n",
       "    </tr>\n",
       "    <tr>\n",
       "      <th>25</th>\n",
       "      <td>Saturday</td>\n",
       "      <td>Eastbound</td>\n",
       "    </tr>\n",
       "    <tr>\n",
       "      <th>26</th>\n",
       "      <td>Saturday</td>\n",
       "      <td>Eastbound</td>\n",
       "    </tr>\n",
       "    <tr>\n",
       "      <th>27</th>\n",
       "      <td>Saturday</td>\n",
       "      <td>Eastbound</td>\n",
       "    </tr>\n",
       "    <tr>\n",
       "      <th>28</th>\n",
       "      <td>Saturday</td>\n",
       "      <td>Eastbound</td>\n",
       "    </tr>\n",
       "  </tbody>\n",
       "</table>\n",
       "</div>"
      ],
      "text/plain": [
       "   day_of_week  direction\n",
       "24    Saturday  Eastbound\n",
       "25    Saturday  Eastbound\n",
       "26    Saturday  Eastbound\n",
       "27    Saturday  Eastbound\n",
       "28    Saturday  Eastbound"
      ]
     },
     "execution_count": 33,
     "metadata": {},
     "output_type": "execute_result"
    }
   ],
   "source": [
    "bike_counts.loc[(bike_counts['day_of_week'] == 'Saturday') & \n",
    "                (bike_counts['direction'] == 'Eastbound'), \n",
    "                ['day_of_week', 'direction']].head()"
   ]
  },
  {
   "cell_type": "markdown",
   "metadata": {},
   "source": [
    "With the `|` operator, rows matching either of the supplied criteria are returned."
   ]
  },
  {
   "cell_type": "code",
   "execution_count": 34,
   "metadata": {
    "collapsed": false
   },
   "outputs": [
    {
     "data": {
      "text/plain": [
       "0      Saturday\n",
       "1      Saturday\n",
       "2      Saturday\n",
       "3      Saturday\n",
       "4      Saturday\n",
       "5      Saturday\n",
       "6      Saturday\n",
       "7      Saturday\n",
       "8      Saturday\n",
       "9      Saturday\n",
       "10     Saturday\n",
       "11     Saturday\n",
       "12     Saturday\n",
       "13     Saturday\n",
       "14     Saturday\n",
       "15     Saturday\n",
       "16     Saturday\n",
       "17     Saturday\n",
       "18     Saturday\n",
       "19     Saturday\n",
       "20     Saturday\n",
       "21     Saturday\n",
       "22     Saturday\n",
       "23     Saturday\n",
       "24     Saturday\n",
       "25     Saturday\n",
       "26     Saturday\n",
       "27     Saturday\n",
       "28     Saturday\n",
       "29     Saturday\n",
       "         ...   \n",
       "594    Saturday\n",
       "595    Saturday\n",
       "596    Saturday\n",
       "597    Saturday\n",
       "598    Saturday\n",
       "599    Saturday\n",
       "600    Saturday\n",
       "601    Saturday\n",
       "602    Saturday\n",
       "603    Saturday\n",
       "604    Saturday\n",
       "605    Saturday\n",
       "606    Saturday\n",
       "607    Saturday\n",
       "608    Saturday\n",
       "609    Saturday\n",
       "610    Saturday\n",
       "611    Saturday\n",
       "612    Saturday\n",
       "613    Saturday\n",
       "614    Saturday\n",
       "615    Saturday\n",
       "616    Saturday\n",
       "617    Saturday\n",
       "618    Saturday\n",
       "619    Saturday\n",
       "620    Saturday\n",
       "621    Saturday\n",
       "622    Saturday\n",
       "623    Saturday\n",
       "Name: day_of_week, Length: 240, dtype: object"
      ]
     },
     "execution_count": 34,
     "metadata": {},
     "output_type": "execute_result"
    }
   ],
   "source": [
    "# OR = |\n",
    "bike_counts.loc[(bike_counts['day_of_week'] == 'Saturday') |\n",
    "            (bike_counts['day_of_week'] == 'Sunday'),\n",
    "            'day_of_week']"
   ]
  },
  {
   "cell_type": "markdown",
   "metadata": {},
   "source": [
    ">#### Challenge\n",
    ">\n",
    ">Subset the `bike_counts` data to include counts collected only\n",
    ">on weekdays and retain only the columns 'date', 'day_of_week', and 'bikes'."
   ]
  },
  {
   "cell_type": "markdown",
   "metadata": {},
   "source": [
    "### Creating new columns\n",
    "\n",
    "A frequent operation when working with data is to create new columns based on the values in existing columns, for example to do unit conversions or find the ratio of values in two columns. You might have noticed that the `hour` column had two different formats; this happened because the data was entered a bit differently in 2010 and 2017. The same thing happened with the `date` column. To clean this up, let's make new columns for the date and hour that are formatted better."
   ]
  },
  {
   "cell_type": "code",
   "execution_count": 35,
   "metadata": {
    "collapsed": false
   },
   "outputs": [
    {
     "data": {
      "text/html": [
       "<div>\n",
       "<style scoped>\n",
       "    .dataframe tbody tr th:only-of-type {\n",
       "        vertical-align: middle;\n",
       "    }\n",
       "\n",
       "    .dataframe tbody tr th {\n",
       "        vertical-align: top;\n",
       "    }\n",
       "\n",
       "    .dataframe thead th {\n",
       "        text-align: right;\n",
       "    }\n",
       "</style>\n",
       "<table border=\"1\" class=\"dataframe\">\n",
       "  <thead>\n",
       "    <tr style=\"text-align: right;\">\n",
       "      <th></th>\n",
       "      <th>date</th>\n",
       "      <th>hour</th>\n",
       "    </tr>\n",
       "  </thead>\n",
       "  <tbody>\n",
       "    <tr>\n",
       "      <th>0</th>\n",
       "      <td>9/18/10</td>\n",
       "      <td>12:00:00 AM</td>\n",
       "    </tr>\n",
       "    <tr>\n",
       "      <th>1</th>\n",
       "      <td>9/18/10</td>\n",
       "      <td>1:00:00 AM</td>\n",
       "    </tr>\n",
       "    <tr>\n",
       "      <th>2</th>\n",
       "      <td>9/18/10</td>\n",
       "      <td>2:00:00 AM</td>\n",
       "    </tr>\n",
       "    <tr>\n",
       "      <th>3</th>\n",
       "      <td>9/18/10</td>\n",
       "      <td>3:00:00 AM</td>\n",
       "    </tr>\n",
       "    <tr>\n",
       "      <th>4</th>\n",
       "      <td>9/18/10</td>\n",
       "      <td>4:00:00 AM</td>\n",
       "    </tr>\n",
       "  </tbody>\n",
       "</table>\n",
       "</div>"
      ],
      "text/plain": [
       "      date         hour\n",
       "0  9/18/10  12:00:00 AM\n",
       "1  9/18/10   1:00:00 AM\n",
       "2  9/18/10   2:00:00 AM\n",
       "3  9/18/10   3:00:00 AM\n",
       "4  9/18/10   4:00:00 AM"
      ]
     },
     "execution_count": 35,
     "metadata": {},
     "output_type": "execute_result"
    }
   ],
   "source": [
    "bike_counts[['date', 'hour']].head()"
   ]
  },
  {
   "cell_type": "code",
   "execution_count": 36,
   "metadata": {
    "collapsed": false
   },
   "outputs": [
    {
     "data": {
      "text/html": [
       "<div>\n",
       "<style scoped>\n",
       "    .dataframe tbody tr th:only-of-type {\n",
       "        vertical-align: middle;\n",
       "    }\n",
       "\n",
       "    .dataframe tbody tr th {\n",
       "        vertical-align: top;\n",
       "    }\n",
       "\n",
       "    .dataframe thead th {\n",
       "        text-align: right;\n",
       "    }\n",
       "</style>\n",
       "<table border=\"1\" class=\"dataframe\">\n",
       "  <thead>\n",
       "    <tr style=\"text-align: right;\">\n",
       "      <th></th>\n",
       "      <th>date</th>\n",
       "      <th>hour</th>\n",
       "    </tr>\n",
       "  </thead>\n",
       "  <tbody>\n",
       "    <tr>\n",
       "      <th>619</th>\n",
       "      <td>2017-09-30</td>\n",
       "      <td>7:00 PM</td>\n",
       "    </tr>\n",
       "    <tr>\n",
       "      <th>620</th>\n",
       "      <td>2017-09-30</td>\n",
       "      <td>8:00 PM</td>\n",
       "    </tr>\n",
       "    <tr>\n",
       "      <th>621</th>\n",
       "      <td>2017-09-30</td>\n",
       "      <td>9:00 PM</td>\n",
       "    </tr>\n",
       "    <tr>\n",
       "      <th>622</th>\n",
       "      <td>2017-09-30</td>\n",
       "      <td>10:00 PM</td>\n",
       "    </tr>\n",
       "    <tr>\n",
       "      <th>623</th>\n",
       "      <td>2017-09-30</td>\n",
       "      <td>11:00 PM</td>\n",
       "    </tr>\n",
       "  </tbody>\n",
       "</table>\n",
       "</div>"
      ],
      "text/plain": [
       "           date      hour\n",
       "619  2017-09-30   7:00 PM\n",
       "620  2017-09-30   8:00 PM\n",
       "621  2017-09-30   9:00 PM\n",
       "622  2017-09-30  10:00 PM\n",
       "623  2017-09-30  11:00 PM"
      ]
     },
     "execution_count": 36,
     "metadata": {},
     "output_type": "execute_result"
    }
   ],
   "source": [
    "bike_counts[['date', 'hour']].tail()"
   ]
  },
  {
   "cell_type": "markdown",
   "metadata": {},
   "source": [
    "`pandas` has a function called `to_datetime` which takes things that are time-like and creates a very flexible object that stores the date and time. We'll use this on both the 'date' and 'hour' columns to make new columns. \n",
    "\n",
    "First, let's see what `to_datetime` does:"
   ]
  },
  {
   "cell_type": "code",
   "execution_count": 37,
   "metadata": {
    "collapsed": false
   },
   "outputs": [
    {
     "data": {
      "text/plain": [
       "0     2010-09-18\n",
       "1     2010-09-18\n",
       "2     2010-09-18\n",
       "3     2010-09-18\n",
       "4     2010-09-18\n",
       "5     2010-09-18\n",
       "6     2010-09-18\n",
       "7     2010-09-18\n",
       "8     2010-09-18\n",
       "9     2010-09-18\n",
       "10    2010-09-18\n",
       "11    2010-09-18\n",
       "12    2010-09-18\n",
       "13    2010-09-18\n",
       "14    2010-09-18\n",
       "15    2010-09-18\n",
       "16    2010-09-18\n",
       "17    2010-09-18\n",
       "18    2010-09-18\n",
       "19    2010-09-18\n",
       "20    2010-09-18\n",
       "21    2010-09-18\n",
       "22    2010-09-18\n",
       "23    2010-09-18\n",
       "24    2010-09-18\n",
       "25    2010-09-18\n",
       "26    2010-09-18\n",
       "27    2010-09-18\n",
       "28    2010-09-18\n",
       "29    2010-09-18\n",
       "         ...    \n",
       "594   2017-09-30\n",
       "595   2017-09-30\n",
       "596   2017-09-30\n",
       "597   2017-09-30\n",
       "598   2017-09-30\n",
       "599   2017-09-30\n",
       "600   2017-09-30\n",
       "601   2017-09-30\n",
       "602   2017-09-30\n",
       "603   2017-09-30\n",
       "604   2017-09-30\n",
       "605   2017-09-30\n",
       "606   2017-09-30\n",
       "607   2017-09-30\n",
       "608   2017-09-30\n",
       "609   2017-09-30\n",
       "610   2017-09-30\n",
       "611   2017-09-30\n",
       "612   2017-09-30\n",
       "613   2017-09-30\n",
       "614   2017-09-30\n",
       "615   2017-09-30\n",
       "616   2017-09-30\n",
       "617   2017-09-30\n",
       "618   2017-09-30\n",
       "619   2017-09-30\n",
       "620   2017-09-30\n",
       "621   2017-09-30\n",
       "622   2017-09-30\n",
       "623   2017-09-30\n",
       "Name: date, Length: 624, dtype: datetime64[ns]"
      ]
     },
     "execution_count": 37,
     "metadata": {},
     "output_type": "execute_result"
    }
   ],
   "source": [
    "pd.to_datetime(bike_counts['date'])"
   ]
  },
  {
   "cell_type": "markdown",
   "metadata": {},
   "source": [
    "That looks good. Let's save that result in a new column called 'date_dt' for \"date as datetime\"."
   ]
  },
  {
   "cell_type": "code",
   "execution_count": 38,
   "metadata": {
    "collapsed": true
   },
   "outputs": [],
   "source": [
    "bike_counts['date_dt'] = pd.to_datetime(bike_counts['date'])"
   ]
  },
  {
   "cell_type": "code",
   "execution_count": 39,
   "metadata": {
    "collapsed": false
   },
   "outputs": [
    {
     "data": {
      "text/plain": [
       "Index(['date', 'day_of_week', 'temperature', 'weather', 'direction',\n",
       "       'position', 'hour', 'bikes', 'date_dt'],\n",
       "      dtype='object')"
      ]
     },
     "execution_count": 39,
     "metadata": {},
     "output_type": "execute_result"
    }
   ],
   "source": [
    "# check to see that our new column was created\n",
    "bike_counts.columns"
   ]
  },
  {
   "cell_type": "markdown",
   "metadata": {},
   "source": [
    "The really handy thing about `datetime` is it allows you to access certain parts of the date only. Let's say you only want the year:"
   ]
  },
  {
   "cell_type": "code",
   "execution_count": 40,
   "metadata": {
    "collapsed": false
   },
   "outputs": [
    {
     "data": {
      "text/plain": [
       "619    2017\n",
       "620    2017\n",
       "621    2017\n",
       "622    2017\n",
       "623    2017\n",
       "Name: date_dt, dtype: int64"
      ]
     },
     "execution_count": 40,
     "metadata": {},
     "output_type": "execute_result"
    }
   ],
   "source": [
    "bike_counts['date_dt'].dt.year.tail()"
   ]
  },
  {
   "cell_type": "markdown",
   "metadata": {},
   "source": [
    "`.year` is called a `.dt accessor`, and there are [lots](https://pandas.pydata.org/pandas-docs/stable/basics.html#basics-dt-accessors), including `.month`, `.day`, `.hour`, `.minute`, `.second`, etc. Try them out yourself!"
   ]
  },
  {
   "cell_type": "markdown",
   "metadata": {},
   "source": [
    "Next, let's make a column for the hours that just stores the hours as an integer value between 0 and 23. "
   ]
  },
  {
   "cell_type": "code",
   "execution_count": 41,
   "metadata": {
    "collapsed": true
   },
   "outputs": [],
   "source": [
    "bike_counts['hour_dt'] = pd.to_datetime(bike_counts['hour']).dt.hour"
   ]
  },
  {
   "cell_type": "markdown",
   "metadata": {},
   "source": [
    "Here we combined a `.dt accessor` and the `to_datetime` function to go straight to the integer value of the hour."
   ]
  },
  {
   "cell_type": "code",
   "execution_count": 42,
   "metadata": {
    "collapsed": false
   },
   "outputs": [
    {
     "data": {
      "text/html": [
       "<div>\n",
       "<style scoped>\n",
       "    .dataframe tbody tr th:only-of-type {\n",
       "        vertical-align: middle;\n",
       "    }\n",
       "\n",
       "    .dataframe tbody tr th {\n",
       "        vertical-align: top;\n",
       "    }\n",
       "\n",
       "    .dataframe thead th {\n",
       "        text-align: right;\n",
       "    }\n",
       "</style>\n",
       "<table border=\"1\" class=\"dataframe\">\n",
       "  <thead>\n",
       "    <tr style=\"text-align: right;\">\n",
       "      <th></th>\n",
       "      <th>date</th>\n",
       "      <th>day_of_week</th>\n",
       "      <th>temperature</th>\n",
       "      <th>weather</th>\n",
       "      <th>direction</th>\n",
       "      <th>position</th>\n",
       "      <th>hour</th>\n",
       "      <th>bikes</th>\n",
       "      <th>date_dt</th>\n",
       "      <th>hour_dt</th>\n",
       "    </tr>\n",
       "  </thead>\n",
       "  <tbody>\n",
       "    <tr>\n",
       "      <th>0</th>\n",
       "      <td>9/18/10</td>\n",
       "      <td>Saturday</td>\n",
       "      <td>21</td>\n",
       "      <td>No Rain</td>\n",
       "      <td>Westbound</td>\n",
       "      <td>Bike lane just east of Spadina Ave.</td>\n",
       "      <td>12:00:00 AM</td>\n",
       "      <td>70</td>\n",
       "      <td>2010-09-18</td>\n",
       "      <td>0</td>\n",
       "    </tr>\n",
       "    <tr>\n",
       "      <th>1</th>\n",
       "      <td>9/18/10</td>\n",
       "      <td>Saturday</td>\n",
       "      <td>21</td>\n",
       "      <td>No Rain</td>\n",
       "      <td>Westbound</td>\n",
       "      <td>Bike lane just east of Spadina Ave.</td>\n",
       "      <td>1:00:00 AM</td>\n",
       "      <td>27</td>\n",
       "      <td>2010-09-18</td>\n",
       "      <td>1</td>\n",
       "    </tr>\n",
       "    <tr>\n",
       "      <th>2</th>\n",
       "      <td>9/18/10</td>\n",
       "      <td>Saturday</td>\n",
       "      <td>21</td>\n",
       "      <td>No Rain</td>\n",
       "      <td>Westbound</td>\n",
       "      <td>Bike lane just east of Spadina Ave.</td>\n",
       "      <td>2:00:00 AM</td>\n",
       "      <td>23</td>\n",
       "      <td>2010-09-18</td>\n",
       "      <td>2</td>\n",
       "    </tr>\n",
       "    <tr>\n",
       "      <th>3</th>\n",
       "      <td>9/18/10</td>\n",
       "      <td>Saturday</td>\n",
       "      <td>21</td>\n",
       "      <td>No Rain</td>\n",
       "      <td>Westbound</td>\n",
       "      <td>Bike lane just east of Spadina Ave.</td>\n",
       "      <td>3:00:00 AM</td>\n",
       "      <td>8</td>\n",
       "      <td>2010-09-18</td>\n",
       "      <td>3</td>\n",
       "    </tr>\n",
       "    <tr>\n",
       "      <th>4</th>\n",
       "      <td>9/18/10</td>\n",
       "      <td>Saturday</td>\n",
       "      <td>21</td>\n",
       "      <td>No Rain</td>\n",
       "      <td>Westbound</td>\n",
       "      <td>Bike lane just east of Spadina Ave.</td>\n",
       "      <td>4:00:00 AM</td>\n",
       "      <td>10</td>\n",
       "      <td>2010-09-18</td>\n",
       "      <td>4</td>\n",
       "    </tr>\n",
       "  </tbody>\n",
       "</table>\n",
       "</div>"
      ],
      "text/plain": [
       "      date day_of_week  temperature   weather  direction  \\\n",
       "0  9/18/10    Saturday           21   No Rain  Westbound   \n",
       "1  9/18/10    Saturday           21   No Rain  Westbound   \n",
       "2  9/18/10    Saturday           21   No Rain  Westbound   \n",
       "3  9/18/10    Saturday           21   No Rain  Westbound   \n",
       "4  9/18/10    Saturday           21   No Rain  Westbound   \n",
       "\n",
       "                              position         hour  bikes    date_dt  hour_dt  \n",
       "0  Bike lane just east of Spadina Ave.  12:00:00 AM     70 2010-09-18        0  \n",
       "1  Bike lane just east of Spadina Ave.   1:00:00 AM     27 2010-09-18        1  \n",
       "2  Bike lane just east of Spadina Ave.   2:00:00 AM     23 2010-09-18        2  \n",
       "3  Bike lane just east of Spadina Ave.   3:00:00 AM      8 2010-09-18        3  \n",
       "4  Bike lane just east of Spadina Ave.   4:00:00 AM     10 2010-09-18        4  "
      ]
     },
     "execution_count": 42,
     "metadata": {},
     "output_type": "execute_result"
    }
   ],
   "source": [
    "bike_counts.head()"
   ]
  },
  {
   "cell_type": "markdown",
   "metadata": {},
   "source": [
    "`surveys.info()` showed that the 'position' column was missing some values. The function `dropna()` can be used to remove all records with missing data. The missing values occured because the 2017 data didn't have the information."
   ]
  },
  {
   "cell_type": "code",
   "execution_count": 43,
   "metadata": {
    "collapsed": false
   },
   "outputs": [
    {
     "data": {
      "text/html": [
       "<div>\n",
       "<style scoped>\n",
       "    .dataframe tbody tr th:only-of-type {\n",
       "        vertical-align: middle;\n",
       "    }\n",
       "\n",
       "    .dataframe tbody tr th {\n",
       "        vertical-align: top;\n",
       "    }\n",
       "\n",
       "    .dataframe thead th {\n",
       "        text-align: right;\n",
       "    }\n",
       "</style>\n",
       "<table border=\"1\" class=\"dataframe\">\n",
       "  <thead>\n",
       "    <tr style=\"text-align: right;\">\n",
       "      <th></th>\n",
       "      <th>date</th>\n",
       "      <th>day_of_week</th>\n",
       "      <th>temperature</th>\n",
       "      <th>weather</th>\n",
       "      <th>direction</th>\n",
       "      <th>position</th>\n",
       "      <th>hour</th>\n",
       "      <th>bikes</th>\n",
       "      <th>date_dt</th>\n",
       "      <th>hour_dt</th>\n",
       "    </tr>\n",
       "  </thead>\n",
       "  <tbody>\n",
       "    <tr>\n",
       "      <th>614</th>\n",
       "      <td>2017-09-30</td>\n",
       "      <td>Saturday</td>\n",
       "      <td>15</td>\n",
       "      <td>No Rain</td>\n",
       "      <td>Westbound</td>\n",
       "      <td>NaN</td>\n",
       "      <td>2:00 PM</td>\n",
       "      <td>109</td>\n",
       "      <td>2017-09-30</td>\n",
       "      <td>14</td>\n",
       "    </tr>\n",
       "    <tr>\n",
       "      <th>615</th>\n",
       "      <td>2017-09-30</td>\n",
       "      <td>Saturday</td>\n",
       "      <td>15</td>\n",
       "      <td>No Rain</td>\n",
       "      <td>Westbound</td>\n",
       "      <td>NaN</td>\n",
       "      <td>3:00 PM</td>\n",
       "      <td>114</td>\n",
       "      <td>2017-09-30</td>\n",
       "      <td>15</td>\n",
       "    </tr>\n",
       "    <tr>\n",
       "      <th>616</th>\n",
       "      <td>2017-09-30</td>\n",
       "      <td>Saturday</td>\n",
       "      <td>15</td>\n",
       "      <td>No Rain</td>\n",
       "      <td>Westbound</td>\n",
       "      <td>NaN</td>\n",
       "      <td>4:00 PM</td>\n",
       "      <td>132</td>\n",
       "      <td>2017-09-30</td>\n",
       "      <td>16</td>\n",
       "    </tr>\n",
       "    <tr>\n",
       "      <th>617</th>\n",
       "      <td>2017-09-30</td>\n",
       "      <td>Saturday</td>\n",
       "      <td>15</td>\n",
       "      <td>No Rain</td>\n",
       "      <td>Westbound</td>\n",
       "      <td>NaN</td>\n",
       "      <td>5:00 PM</td>\n",
       "      <td>136</td>\n",
       "      <td>2017-09-30</td>\n",
       "      <td>17</td>\n",
       "    </tr>\n",
       "    <tr>\n",
       "      <th>618</th>\n",
       "      <td>2017-09-30</td>\n",
       "      <td>Saturday</td>\n",
       "      <td>15</td>\n",
       "      <td>No Rain</td>\n",
       "      <td>Westbound</td>\n",
       "      <td>NaN</td>\n",
       "      <td>6:00 PM</td>\n",
       "      <td>120</td>\n",
       "      <td>2017-09-30</td>\n",
       "      <td>18</td>\n",
       "    </tr>\n",
       "    <tr>\n",
       "      <th>619</th>\n",
       "      <td>2017-09-30</td>\n",
       "      <td>Saturday</td>\n",
       "      <td>15</td>\n",
       "      <td>No Rain</td>\n",
       "      <td>Westbound</td>\n",
       "      <td>NaN</td>\n",
       "      <td>7:00 PM</td>\n",
       "      <td>98</td>\n",
       "      <td>2017-09-30</td>\n",
       "      <td>19</td>\n",
       "    </tr>\n",
       "    <tr>\n",
       "      <th>620</th>\n",
       "      <td>2017-09-30</td>\n",
       "      <td>Saturday</td>\n",
       "      <td>15</td>\n",
       "      <td>No Rain</td>\n",
       "      <td>Westbound</td>\n",
       "      <td>NaN</td>\n",
       "      <td>8:00 PM</td>\n",
       "      <td>79</td>\n",
       "      <td>2017-09-30</td>\n",
       "      <td>20</td>\n",
       "    </tr>\n",
       "    <tr>\n",
       "      <th>621</th>\n",
       "      <td>2017-09-30</td>\n",
       "      <td>Saturday</td>\n",
       "      <td>15</td>\n",
       "      <td>No Rain</td>\n",
       "      <td>Westbound</td>\n",
       "      <td>NaN</td>\n",
       "      <td>9:00 PM</td>\n",
       "      <td>62</td>\n",
       "      <td>2017-09-30</td>\n",
       "      <td>21</td>\n",
       "    </tr>\n",
       "    <tr>\n",
       "      <th>622</th>\n",
       "      <td>2017-09-30</td>\n",
       "      <td>Saturday</td>\n",
       "      <td>15</td>\n",
       "      <td>No Rain</td>\n",
       "      <td>Westbound</td>\n",
       "      <td>NaN</td>\n",
       "      <td>10:00 PM</td>\n",
       "      <td>80</td>\n",
       "      <td>2017-09-30</td>\n",
       "      <td>22</td>\n",
       "    </tr>\n",
       "    <tr>\n",
       "      <th>623</th>\n",
       "      <td>2017-09-30</td>\n",
       "      <td>Saturday</td>\n",
       "      <td>15</td>\n",
       "      <td>No Rain</td>\n",
       "      <td>Westbound</td>\n",
       "      <td>NaN</td>\n",
       "      <td>11:00 PM</td>\n",
       "      <td>82</td>\n",
       "      <td>2017-09-30</td>\n",
       "      <td>23</td>\n",
       "    </tr>\n",
       "  </tbody>\n",
       "</table>\n",
       "</div>"
      ],
      "text/plain": [
       "           date day_of_week  temperature   weather  direction position  \\\n",
       "614  2017-09-30    Saturday           15   No Rain  Westbound      NaN   \n",
       "615  2017-09-30    Saturday           15   No Rain  Westbound      NaN   \n",
       "616  2017-09-30    Saturday           15   No Rain  Westbound      NaN   \n",
       "617  2017-09-30    Saturday           15   No Rain  Westbound      NaN   \n",
       "618  2017-09-30    Saturday           15   No Rain  Westbound      NaN   \n",
       "619  2017-09-30    Saturday           15   No Rain  Westbound      NaN   \n",
       "620  2017-09-30    Saturday           15   No Rain  Westbound      NaN   \n",
       "621  2017-09-30    Saturday           15   No Rain  Westbound      NaN   \n",
       "622  2017-09-30    Saturday           15   No Rain  Westbound      NaN   \n",
       "623  2017-09-30    Saturday           15   No Rain  Westbound      NaN   \n",
       "\n",
       "         hour  bikes    date_dt  hour_dt  \n",
       "614   2:00 PM    109 2017-09-30       14  \n",
       "615   3:00 PM    114 2017-09-30       15  \n",
       "616   4:00 PM    132 2017-09-30       16  \n",
       "617   5:00 PM    136 2017-09-30       17  \n",
       "618   6:00 PM    120 2017-09-30       18  \n",
       "619   7:00 PM     98 2017-09-30       19  \n",
       "620   8:00 PM     79 2017-09-30       20  \n",
       "621   9:00 PM     62 2017-09-30       21  \n",
       "622  10:00 PM     80 2017-09-30       22  \n",
       "623  11:00 PM     82 2017-09-30       23  "
      ]
     },
     "execution_count": 43,
     "metadata": {},
     "output_type": "execute_result"
    }
   ],
   "source": [
    "bike_counts.tail(10)"
   ]
  },
  {
   "cell_type": "code",
   "execution_count": 44,
   "metadata": {
    "collapsed": false
   },
   "outputs": [
    {
     "data": {
      "text/html": [
       "<div>\n",
       "<style scoped>\n",
       "    .dataframe tbody tr th:only-of-type {\n",
       "        vertical-align: middle;\n",
       "    }\n",
       "\n",
       "    .dataframe tbody tr th {\n",
       "        vertical-align: top;\n",
       "    }\n",
       "\n",
       "    .dataframe thead th {\n",
       "        text-align: right;\n",
       "    }\n",
       "</style>\n",
       "<table border=\"1\" class=\"dataframe\">\n",
       "  <thead>\n",
       "    <tr style=\"text-align: right;\">\n",
       "      <th></th>\n",
       "      <th>date</th>\n",
       "      <th>day_of_week</th>\n",
       "      <th>temperature</th>\n",
       "      <th>weather</th>\n",
       "      <th>direction</th>\n",
       "      <th>position</th>\n",
       "      <th>hour</th>\n",
       "      <th>bikes</th>\n",
       "      <th>date_dt</th>\n",
       "      <th>hour_dt</th>\n",
       "    </tr>\n",
       "  </thead>\n",
       "  <tbody>\n",
       "    <tr>\n",
       "      <th>422</th>\n",
       "      <td>9/24/10</td>\n",
       "      <td>Friday</td>\n",
       "      <td>30</td>\n",
       "      <td>No Rain</td>\n",
       "      <td>Eastbound</td>\n",
       "      <td>Bike lane just west of Spadina Ave.</td>\n",
       "      <td>2:00:00 PM</td>\n",
       "      <td>102</td>\n",
       "      <td>2010-09-24</td>\n",
       "      <td>14</td>\n",
       "    </tr>\n",
       "    <tr>\n",
       "      <th>423</th>\n",
       "      <td>9/24/10</td>\n",
       "      <td>Friday</td>\n",
       "      <td>30</td>\n",
       "      <td>No Rain</td>\n",
       "      <td>Eastbound</td>\n",
       "      <td>Bike lane just west of Spadina Ave.</td>\n",
       "      <td>3:00:00 PM</td>\n",
       "      <td>126</td>\n",
       "      <td>2010-09-24</td>\n",
       "      <td>15</td>\n",
       "    </tr>\n",
       "    <tr>\n",
       "      <th>424</th>\n",
       "      <td>9/24/10</td>\n",
       "      <td>Friday</td>\n",
       "      <td>30</td>\n",
       "      <td>No Rain</td>\n",
       "      <td>Eastbound</td>\n",
       "      <td>Bike lane just west of Spadina Ave.</td>\n",
       "      <td>4:00:00 PM</td>\n",
       "      <td>72</td>\n",
       "      <td>2010-09-24</td>\n",
       "      <td>16</td>\n",
       "    </tr>\n",
       "    <tr>\n",
       "      <th>425</th>\n",
       "      <td>9/24/10</td>\n",
       "      <td>Friday</td>\n",
       "      <td>30</td>\n",
       "      <td>No Rain</td>\n",
       "      <td>Eastbound</td>\n",
       "      <td>Bike lane just west of Spadina Ave.</td>\n",
       "      <td>5:00:00 PM</td>\n",
       "      <td>89</td>\n",
       "      <td>2010-09-24</td>\n",
       "      <td>17</td>\n",
       "    </tr>\n",
       "    <tr>\n",
       "      <th>426</th>\n",
       "      <td>9/24/10</td>\n",
       "      <td>Friday</td>\n",
       "      <td>30</td>\n",
       "      <td>No Rain</td>\n",
       "      <td>Eastbound</td>\n",
       "      <td>Bike lane just west of Spadina Ave.</td>\n",
       "      <td>6:00:00 PM</td>\n",
       "      <td>61</td>\n",
       "      <td>2010-09-24</td>\n",
       "      <td>18</td>\n",
       "    </tr>\n",
       "    <tr>\n",
       "      <th>427</th>\n",
       "      <td>9/24/10</td>\n",
       "      <td>Friday</td>\n",
       "      <td>30</td>\n",
       "      <td>No Rain</td>\n",
       "      <td>Eastbound</td>\n",
       "      <td>Bike lane just west of Spadina Ave.</td>\n",
       "      <td>7:00:00 PM</td>\n",
       "      <td>81</td>\n",
       "      <td>2010-09-24</td>\n",
       "      <td>19</td>\n",
       "    </tr>\n",
       "    <tr>\n",
       "      <th>428</th>\n",
       "      <td>9/24/10</td>\n",
       "      <td>Friday</td>\n",
       "      <td>30</td>\n",
       "      <td>No Rain</td>\n",
       "      <td>Eastbound</td>\n",
       "      <td>Bike lane just west of Spadina Ave.</td>\n",
       "      <td>8:00:00 PM</td>\n",
       "      <td>52</td>\n",
       "      <td>2010-09-24</td>\n",
       "      <td>20</td>\n",
       "    </tr>\n",
       "    <tr>\n",
       "      <th>429</th>\n",
       "      <td>9/24/10</td>\n",
       "      <td>Friday</td>\n",
       "      <td>30</td>\n",
       "      <td>No Rain</td>\n",
       "      <td>Eastbound</td>\n",
       "      <td>Bike lane just west of Spadina Ave.</td>\n",
       "      <td>9:00:00 PM</td>\n",
       "      <td>51</td>\n",
       "      <td>2010-09-24</td>\n",
       "      <td>21</td>\n",
       "    </tr>\n",
       "    <tr>\n",
       "      <th>430</th>\n",
       "      <td>9/24/10</td>\n",
       "      <td>Friday</td>\n",
       "      <td>30</td>\n",
       "      <td>No Rain</td>\n",
       "      <td>Eastbound</td>\n",
       "      <td>Bike lane just west of Spadina Ave.</td>\n",
       "      <td>10:00:00 PM</td>\n",
       "      <td>41</td>\n",
       "      <td>2010-09-24</td>\n",
       "      <td>22</td>\n",
       "    </tr>\n",
       "    <tr>\n",
       "      <th>431</th>\n",
       "      <td>9/24/10</td>\n",
       "      <td>Friday</td>\n",
       "      <td>30</td>\n",
       "      <td>No Rain</td>\n",
       "      <td>Eastbound</td>\n",
       "      <td>Bike lane just west of Spadina Ave.</td>\n",
       "      <td>11:00:00 PM</td>\n",
       "      <td>33</td>\n",
       "      <td>2010-09-24</td>\n",
       "      <td>23</td>\n",
       "    </tr>\n",
       "  </tbody>\n",
       "</table>\n",
       "</div>"
      ],
      "text/plain": [
       "        date day_of_week  temperature   weather  direction  \\\n",
       "422  9/24/10      Friday           30   No Rain  Eastbound   \n",
       "423  9/24/10      Friday           30   No Rain  Eastbound   \n",
       "424  9/24/10      Friday           30   No Rain  Eastbound   \n",
       "425  9/24/10      Friday           30   No Rain  Eastbound   \n",
       "426  9/24/10      Friday           30   No Rain  Eastbound   \n",
       "427  9/24/10      Friday           30   No Rain  Eastbound   \n",
       "428  9/24/10      Friday           30   No Rain  Eastbound   \n",
       "429  9/24/10      Friday           30   No Rain  Eastbound   \n",
       "430  9/24/10      Friday           30   No Rain  Eastbound   \n",
       "431  9/24/10      Friday           30   No Rain  Eastbound   \n",
       "\n",
       "                                position         hour  bikes    date_dt  \\\n",
       "422  Bike lane just west of Spadina Ave.   2:00:00 PM    102 2010-09-24   \n",
       "423  Bike lane just west of Spadina Ave.   3:00:00 PM    126 2010-09-24   \n",
       "424  Bike lane just west of Spadina Ave.   4:00:00 PM     72 2010-09-24   \n",
       "425  Bike lane just west of Spadina Ave.   5:00:00 PM     89 2010-09-24   \n",
       "426  Bike lane just west of Spadina Ave.   6:00:00 PM     61 2010-09-24   \n",
       "427  Bike lane just west of Spadina Ave.   7:00:00 PM     81 2010-09-24   \n",
       "428  Bike lane just west of Spadina Ave.   8:00:00 PM     52 2010-09-24   \n",
       "429  Bike lane just west of Spadina Ave.   9:00:00 PM     51 2010-09-24   \n",
       "430  Bike lane just west of Spadina Ave.  10:00:00 PM     41 2010-09-24   \n",
       "431  Bike lane just west of Spadina Ave.  11:00:00 PM     33 2010-09-24   \n",
       "\n",
       "     hour_dt  \n",
       "422       14  \n",
       "423       15  \n",
       "424       16  \n",
       "425       17  \n",
       "426       18  \n",
       "427       19  \n",
       "428       20  \n",
       "429       21  \n",
       "430       22  \n",
       "431       23  "
      ]
     },
     "execution_count": 44,
     "metadata": {},
     "output_type": "execute_result"
    }
   ],
   "source": [
    "bike_counts.dropna().tail(10)"
   ]
  },
  {
   "cell_type": "markdown",
   "metadata": {
    "slideshow": {
     "slide_type": "-"
    }
   },
   "source": [
    "By default, `.dropna()` removes all rows that has an NA value in any of the columns. There are parameters that controls how the rows are dropped and which columns should be searched for NAs.\n",
    "\n",
    "A common alternative to removing rows containing `NA` values is to fill out the values with e.g. the mean of all observations or the previous non-NA value. This can be done with the `fillna()` method."
   ]
  },
  {
   "cell_type": "code",
   "execution_count": 45,
   "metadata": {
    "collapsed": false
   },
   "outputs": [
    {
     "data": {
      "text/plain": [
       "619    NaN\n",
       "620    NaN\n",
       "621    NaN\n",
       "622    NaN\n",
       "623    NaN\n",
       "Name: position, dtype: object"
      ]
     },
     "execution_count": 45,
     "metadata": {},
     "output_type": "execute_result"
    }
   ],
   "source": [
    "bike_counts['position'].tail()"
   ]
  },
  {
   "cell_type": "code",
   "execution_count": 46,
   "metadata": {
    "collapsed": false
   },
   "outputs": [
    {
     "data": {
      "text/plain": [
       "619    Bike lane\n",
       "620    Bike lane\n",
       "621    Bike lane\n",
       "622    Bike lane\n",
       "623    Bike lane\n",
       "Name: position, dtype: object"
      ]
     },
     "execution_count": 46,
     "metadata": {},
     "output_type": "execute_result"
    }
   ],
   "source": [
    "# Fill a particular value\n",
    "fill_value = \"Bike lane\"\n",
    "bike_counts['position'].fillna(fill_value).tail()"
   ]
  },
  {
   "cell_type": "code",
   "execution_count": 47,
   "metadata": {
    "collapsed": false
   },
   "outputs": [
    {
     "data": {
      "text/plain": [
       "619    Bike lane just west of Spadina Ave.\n",
       "620    Bike lane just west of Spadina Ave.\n",
       "621    Bike lane just west of Spadina Ave.\n",
       "622    Bike lane just west of Spadina Ave.\n",
       "623    Bike lane just west of Spadina Ave.\n",
       "Name: position, dtype: object"
      ]
     },
     "execution_count": 47,
     "metadata": {},
     "output_type": "execute_result"
    }
   ],
   "source": [
    "# Fill with previous non-null value\n",
    "bike_counts['position'].fillna(method='ffill').tail()"
   ]
  },
  {
   "cell_type": "markdown",
   "metadata": {},
   "source": [
    "Note that in both of these examples we haven't changed the data frame permanently. Unless we *reassign* the result to that column, the result is returned instead of being stored. "
   ]
  },
  {
   "cell_type": "markdown",
   "metadata": {},
   "source": [
    "Whether to use `dropna()` or `fillna()` depends on the data set and the purpose of the analysis."
   ]
  },
  {
   "cell_type": "markdown",
   "metadata": {
    "slideshow": {
     "slide_type": "-"
    }
   },
   "source": [
    ">#### Challenge\n",
    ">\n",
    ">1. Create a new data frame from the `bike_counts` data that contains only the `date` and `bikes` columns.\n",
    ">2. Add a column to this new data frame called `year`, which contains just the year from the `date` column. "
   ]
  },
  {
   "cell_type": "markdown",
   "metadata": {},
   "source": [
    "## Split-apply-combine techniques in pandas\n",
    "\n",
    "Many data analysis tasks can be approached using the *split-apply-combine* paradigm: split the data into groups, apply some analysis to each group, and then combine the results.\n",
    "\n",
    "`pandas` facilitates this workflow through the use of `groupby()` to split data, and summary/aggregation functions such as `mean()`, which collapses each group into a single-row summary of that group. The arguments to `groupby()` are the column names that contain the *categorical* variables by which  summary statistics should be calculated. To start, compute the total number of bikes counted, grouped by date.\n",
    "\n",
    "![Image credit Jake VanderPlas](img/split-apply-combine.png)\n",
    "\n",
    "*Image credit Jake VanderPlas*"
   ]
  },
  {
   "cell_type": "markdown",
   "metadata": {},
   "source": [
    "The `.mean()` method can be used to calculate the average of each group. When the mean is computed, the default behavior is to ignore NA values, so they only need to be dropped if they are to be excluded from the visual output."
   ]
  },
  {
   "cell_type": "code",
   "execution_count": 48,
   "metadata": {
    "collapsed": false
   },
   "outputs": [
    {
     "data": {
      "text/plain": [
       "date_dt\n",
       "2010-09-18    2531\n",
       "2010-09-19    2669\n",
       "2010-09-20    4734\n",
       "2010-09-21    4814\n",
       "2010-09-22    3812\n",
       "2010-09-23    4746\n",
       "2010-09-24    4373\n",
       "2010-09-25    2515\n",
       "2010-09-26    2575\n",
       "2017-09-27    5667\n",
       "2017-09-28    5426\n",
       "2017-09-29    3778\n",
       "2017-09-30    2988\n",
       "Name: bikes, dtype: int64"
      ]
     },
     "execution_count": 48,
     "metadata": {},
     "output_type": "execute_result"
    }
   ],
   "source": [
    "bike_counts.groupby(['date_dt'])['bikes'].sum()"
   ]
  },
  {
   "cell_type": "markdown",
   "metadata": {},
   "source": [
    "The output here is a series that is indexed with the grouped variable (the date) and the single column contains the result of the aggregation (the sum of counts)."
   ]
  },
  {
   "cell_type": "markdown",
   "metadata": {},
   "source": [
    "Individual species can be selected from the resulting series using `loc[]`, just as previously."
   ]
  },
  {
   "cell_type": "code",
   "execution_count": 49,
   "metadata": {
    "collapsed": false
   },
   "outputs": [
    {
     "data": {
      "text/plain": [
       "date_dt\n",
       "2010-09-18    2531\n",
       "2010-09-19    2669\n",
       "2010-09-20    4734\n",
       "2010-09-21    4814\n",
       "2010-09-22    3812\n",
       "2010-09-23    4746\n",
       "2010-09-24    4373\n",
       "2010-09-25    2515\n",
       "2010-09-26    2575\n",
       "Name: bikes, dtype: int64"
      ]
     },
     "execution_count": 49,
     "metadata": {},
     "output_type": "execute_result"
    }
   ],
   "source": [
    "bike_counts_summed = bike_counts.groupby(['date_dt'])['bikes'].sum()\n",
    "bike_counts_summed.loc['2010-09-18':'2010-09-26']"
   ]
  },
  {
   "cell_type": "markdown",
   "metadata": {},
   "source": [
    "Groups can also be created from multiple columns, e.g. it could be interesting to see the difference for the same day of the week between years."
   ]
  },
  {
   "cell_type": "code",
   "execution_count": 50,
   "metadata": {
    "collapsed": false
   },
   "outputs": [
    {
     "data": {
      "text/plain": [
       "Index(['date', 'day_of_week', 'temperature', 'weather', 'direction',\n",
       "       'position', 'hour', 'bikes', 'date_dt', 'hour_dt'],\n",
       "      dtype='object')"
      ]
     },
     "execution_count": 50,
     "metadata": {},
     "output_type": "execute_result"
    }
   ],
   "source": [
    "bike_counts.columns"
   ]
  },
  {
   "cell_type": "code",
   "execution_count": 51,
   "metadata": {
    "collapsed": true
   },
   "outputs": [],
   "source": [
    "bike_counts_date_weekday = bike_counts.groupby(['day_of_week', 'date_dt'])['bikes'].sum()"
   ]
  },
  {
   "cell_type": "code",
   "execution_count": 52,
   "metadata": {
    "collapsed": false
   },
   "outputs": [
    {
     "data": {
      "text/plain": [
       "day_of_week  date_dt   \n",
       "Friday       2010-09-24    4373\n",
       "             2017-09-29    3778\n",
       "Monday       2010-09-20    4734\n",
       "Saturday     2010-09-18    2531\n",
       "             2010-09-25    2515\n",
       "             2017-09-30    2988\n",
       "Sunday       2010-09-19    2669\n",
       "             2010-09-26    2575\n",
       "Thursday     2010-09-23    4746\n",
       "             2017-09-28    5426\n",
       "Tuesday      2010-09-21    4814\n",
       "Wednesday    2010-09-22    3812\n",
       "             2017-09-27    5667\n",
       "Name: bikes, dtype: int64"
      ]
     },
     "execution_count": 52,
     "metadata": {},
     "output_type": "execute_result"
    }
   ],
   "source": [
    "bike_counts_date_weekday"
   ]
  },
  {
   "cell_type": "markdown",
   "metadata": {},
   "source": [
    "The returned series has an index that is a combination of the columns `day_of_week` and `date_dt`, and referred to as a `MultiIndex`. The same syntax as previously can be used to select rows on the day-of-week-level."
   ]
  },
  {
   "cell_type": "code",
   "execution_count": 53,
   "metadata": {
    "collapsed": false
   },
   "outputs": [
    {
     "data": {
      "text/plain": [
       "day_of_week  date_dt   \n",
       "Sunday       2010-09-19    2669\n",
       "             2010-09-26    2575\n",
       "Thursday     2010-09-23    4746\n",
       "             2017-09-28    5426\n",
       "Name: bikes, dtype: int64"
      ]
     },
     "execution_count": 53,
     "metadata": {},
     "output_type": "execute_result"
    }
   ],
   "source": [
    "bike_counts_date_weekday.loc[['Sunday', 'Thursday']]"
   ]
  },
  {
   "cell_type": "markdown",
   "metadata": {},
   "source": [
    "To select specific values from both levels of the `MultiIndex`, a tuple or list of tuples can be passed to `loc[]`. Datetime objects are a little finicky and passing a list might not work. "
   ]
  },
  {
   "cell_type": "code",
   "execution_count": 54,
   "metadata": {
    "collapsed": false
   },
   "outputs": [
    {
     "data": {
      "text/plain": [
       "2988"
      ]
     },
     "execution_count": 54,
     "metadata": {},
     "output_type": "execute_result"
    }
   ],
   "source": [
    "bike_counts_date_weekday.loc[('Saturday', '2017-09-30')]"
   ]
  },
  {
   "cell_type": "markdown",
   "metadata": {},
   "source": [
    "The names and values of the index levels can be seen by inspecting the index object."
   ]
  },
  {
   "cell_type": "code",
   "execution_count": 55,
   "metadata": {
    "collapsed": false
   },
   "outputs": [
    {
     "data": {
      "text/plain": [
       "MultiIndex(levels=[['Friday', 'Monday', 'Saturday', 'Sunday', 'Thursday', 'Tuesday', 'Wednesday'], [2010-09-18 00:00:00, 2010-09-19 00:00:00, 2010-09-20 00:00:00, 2010-09-21 00:00:00, 2010-09-22 00:00:00, 2010-09-23 00:00:00, 2010-09-24 00:00:00, 2010-09-25 00:00:00, 2010-09-26 00:00:00, 2017-09-27 00:00:00, 2017-09-28 00:00:00, 2017-09-29 00:00:00, 2017-09-30 00:00:00]],\n",
       "           labels=[[0, 0, 1, 2, 2, 2, 3, 3, 4, 4, 5, 6, 6], [6, 11, 2, 0, 7, 12, 1, 8, 5, 10, 3, 4, 9]],\n",
       "           names=['day_of_week', 'date_dt'])"
      ]
     },
     "execution_count": 55,
     "metadata": {},
     "output_type": "execute_result"
    }
   ],
   "source": [
    "bike_counts_date_weekday.index"
   ]
  },
  {
   "cell_type": "markdown",
   "metadata": {},
   "source": [
    "Although MultiIndexes offer succinct and fast ways to access data, they also requires memorization of additional syntax and are strictly speaking not essential unless speed is of particular concern. It can therefore be easier to reset the index, so that all values are stored in columns."
   ]
  },
  {
   "cell_type": "code",
   "execution_count": 56,
   "metadata": {
    "collapsed": false
   },
   "outputs": [
    {
     "data": {
      "text/html": [
       "<div>\n",
       "<style scoped>\n",
       "    .dataframe tbody tr th:only-of-type {\n",
       "        vertical-align: middle;\n",
       "    }\n",
       "\n",
       "    .dataframe tbody tr th {\n",
       "        vertical-align: top;\n",
       "    }\n",
       "\n",
       "    .dataframe thead th {\n",
       "        text-align: right;\n",
       "    }\n",
       "</style>\n",
       "<table border=\"1\" class=\"dataframe\">\n",
       "  <thead>\n",
       "    <tr style=\"text-align: right;\">\n",
       "      <th></th>\n",
       "      <th>day_of_week</th>\n",
       "      <th>date_dt</th>\n",
       "      <th>bikes</th>\n",
       "    </tr>\n",
       "  </thead>\n",
       "  <tbody>\n",
       "    <tr>\n",
       "      <th>0</th>\n",
       "      <td>Friday</td>\n",
       "      <td>2010-09-24</td>\n",
       "      <td>4373</td>\n",
       "    </tr>\n",
       "    <tr>\n",
       "      <th>1</th>\n",
       "      <td>Friday</td>\n",
       "      <td>2017-09-29</td>\n",
       "      <td>3778</td>\n",
       "    </tr>\n",
       "    <tr>\n",
       "      <th>2</th>\n",
       "      <td>Monday</td>\n",
       "      <td>2010-09-20</td>\n",
       "      <td>4734</td>\n",
       "    </tr>\n",
       "    <tr>\n",
       "      <th>3</th>\n",
       "      <td>Saturday</td>\n",
       "      <td>2010-09-18</td>\n",
       "      <td>2531</td>\n",
       "    </tr>\n",
       "    <tr>\n",
       "      <th>4</th>\n",
       "      <td>Saturday</td>\n",
       "      <td>2010-09-25</td>\n",
       "      <td>2515</td>\n",
       "    </tr>\n",
       "    <tr>\n",
       "      <th>5</th>\n",
       "      <td>Saturday</td>\n",
       "      <td>2017-09-30</td>\n",
       "      <td>2988</td>\n",
       "    </tr>\n",
       "    <tr>\n",
       "      <th>6</th>\n",
       "      <td>Sunday</td>\n",
       "      <td>2010-09-19</td>\n",
       "      <td>2669</td>\n",
       "    </tr>\n",
       "    <tr>\n",
       "      <th>7</th>\n",
       "      <td>Sunday</td>\n",
       "      <td>2010-09-26</td>\n",
       "      <td>2575</td>\n",
       "    </tr>\n",
       "    <tr>\n",
       "      <th>8</th>\n",
       "      <td>Thursday</td>\n",
       "      <td>2010-09-23</td>\n",
       "      <td>4746</td>\n",
       "    </tr>\n",
       "    <tr>\n",
       "      <th>9</th>\n",
       "      <td>Thursday</td>\n",
       "      <td>2017-09-28</td>\n",
       "      <td>5426</td>\n",
       "    </tr>\n",
       "    <tr>\n",
       "      <th>10</th>\n",
       "      <td>Tuesday</td>\n",
       "      <td>2010-09-21</td>\n",
       "      <td>4814</td>\n",
       "    </tr>\n",
       "    <tr>\n",
       "      <th>11</th>\n",
       "      <td>Wednesday</td>\n",
       "      <td>2010-09-22</td>\n",
       "      <td>3812</td>\n",
       "    </tr>\n",
       "    <tr>\n",
       "      <th>12</th>\n",
       "      <td>Wednesday</td>\n",
       "      <td>2017-09-27</td>\n",
       "      <td>5667</td>\n",
       "    </tr>\n",
       "  </tbody>\n",
       "</table>\n",
       "</div>"
      ],
      "text/plain": [
       "   day_of_week    date_dt  bikes\n",
       "0       Friday 2010-09-24   4373\n",
       "1       Friday 2017-09-29   3778\n",
       "2       Monday 2010-09-20   4734\n",
       "3     Saturday 2010-09-18   2531\n",
       "4     Saturday 2010-09-25   2515\n",
       "5     Saturday 2017-09-30   2988\n",
       "6       Sunday 2010-09-19   2669\n",
       "7       Sunday 2010-09-26   2575\n",
       "8     Thursday 2010-09-23   4746\n",
       "9     Thursday 2017-09-28   5426\n",
       "10     Tuesday 2010-09-21   4814\n",
       "11   Wednesday 2010-09-22   3812\n",
       "12   Wednesday 2017-09-27   5667"
      ]
     },
     "execution_count": 56,
     "metadata": {},
     "output_type": "execute_result"
    }
   ],
   "source": [
    "bike_counts_date_weekday_res = bike_counts_date_weekday.reset_index()\n",
    "bike_counts_date_weekday_res"
   ]
  },
  {
   "cell_type": "markdown",
   "metadata": {},
   "source": [
    "After resetting the index, the same comparison syntax introduced earlier can be used instead of passing lists of tuples to `loc[]`."
   ]
  },
  {
   "cell_type": "code",
   "execution_count": 57,
   "metadata": {
    "collapsed": false
   },
   "outputs": [
    {
     "data": {
      "text/html": [
       "<div>\n",
       "<style scoped>\n",
       "    .dataframe tbody tr th:only-of-type {\n",
       "        vertical-align: middle;\n",
       "    }\n",
       "\n",
       "    .dataframe tbody tr th {\n",
       "        vertical-align: top;\n",
       "    }\n",
       "\n",
       "    .dataframe thead th {\n",
       "        text-align: right;\n",
       "    }\n",
       "</style>\n",
       "<table border=\"1\" class=\"dataframe\">\n",
       "  <thead>\n",
       "    <tr style=\"text-align: right;\">\n",
       "      <th></th>\n",
       "      <th>day_of_week</th>\n",
       "      <th>date_dt</th>\n",
       "      <th>bikes</th>\n",
       "    </tr>\n",
       "  </thead>\n",
       "  <tbody>\n",
       "    <tr>\n",
       "      <th>3</th>\n",
       "      <td>Saturday</td>\n",
       "      <td>2010-09-18</td>\n",
       "      <td>2531</td>\n",
       "    </tr>\n",
       "    <tr>\n",
       "      <th>4</th>\n",
       "      <td>Saturday</td>\n",
       "      <td>2010-09-25</td>\n",
       "      <td>2515</td>\n",
       "    </tr>\n",
       "    <tr>\n",
       "      <th>5</th>\n",
       "      <td>Saturday</td>\n",
       "      <td>2017-09-30</td>\n",
       "      <td>2988</td>\n",
       "    </tr>\n",
       "  </tbody>\n",
       "</table>\n",
       "</div>"
      ],
      "text/plain": [
       "  day_of_week    date_dt  bikes\n",
       "3    Saturday 2010-09-18   2531\n",
       "4    Saturday 2010-09-25   2515\n",
       "5    Saturday 2017-09-30   2988"
      ]
     },
     "execution_count": 57,
     "metadata": {},
     "output_type": "execute_result"
    }
   ],
   "source": [
    "saturday_counts = bike_counts_date_weekday_res.loc[bike_counts_date_weekday_res['day_of_week'] == 'Saturday']\n",
    "saturday_counts"
   ]
  },
  {
   "cell_type": "markdown",
   "metadata": {},
   "source": [
    "`reset_index()` grants the freedom of not having to work with indexes, but it is still worth keeping in mind that selecting on an index level can be orders of magnitude faster than using boolean comparisons (on large data frames).\n",
    "\n",
    "The opposite operation (to create an index) can be performed with `set_index()` on any column (or combination of columns) that creates an index with unique values."
   ]
  },
  {
   "cell_type": "code",
   "execution_count": 58,
   "metadata": {
    "collapsed": false
   },
   "outputs": [
    {
     "data": {
      "text/html": [
       "<div>\n",
       "<style scoped>\n",
       "    .dataframe tbody tr th:only-of-type {\n",
       "        vertical-align: middle;\n",
       "    }\n",
       "\n",
       "    .dataframe tbody tr th {\n",
       "        vertical-align: top;\n",
       "    }\n",
       "\n",
       "    .dataframe thead th {\n",
       "        text-align: right;\n",
       "    }\n",
       "</style>\n",
       "<table border=\"1\" class=\"dataframe\">\n",
       "  <thead>\n",
       "    <tr style=\"text-align: right;\">\n",
       "      <th></th>\n",
       "      <th></th>\n",
       "      <th>bikes</th>\n",
       "    </tr>\n",
       "    <tr>\n",
       "      <th>day_of_week</th>\n",
       "      <th>date_dt</th>\n",
       "      <th></th>\n",
       "    </tr>\n",
       "  </thead>\n",
       "  <tbody>\n",
       "    <tr>\n",
       "      <th rowspan=\"3\" valign=\"top\">Saturday</th>\n",
       "      <th>2010-09-18</th>\n",
       "      <td>2531</td>\n",
       "    </tr>\n",
       "    <tr>\n",
       "      <th>2010-09-25</th>\n",
       "      <td>2515</td>\n",
       "    </tr>\n",
       "    <tr>\n",
       "      <th>2017-09-30</th>\n",
       "      <td>2988</td>\n",
       "    </tr>\n",
       "  </tbody>\n",
       "</table>\n",
       "</div>"
      ],
      "text/plain": [
       "                        bikes\n",
       "day_of_week date_dt          \n",
       "Saturday    2010-09-18   2531\n",
       "            2010-09-25   2515\n",
       "            2017-09-30   2988"
      ]
     },
     "execution_count": 58,
     "metadata": {},
     "output_type": "execute_result"
    }
   ],
   "source": [
    "saturday_counts.set_index(['day_of_week', 'date_dt'])"
   ]
  },
  {
   "cell_type": "markdown",
   "metadata": {},
   "source": [
    "# Multiple aggregations on grouped data"
   ]
  },
  {
   "cell_type": "markdown",
   "metadata": {},
   "source": [
    "Since the bike counts are split into two directions, let's create a new dataframe with the total summed across eastbound and westbound. "
   ]
  },
  {
   "cell_type": "code",
   "execution_count": 59,
   "metadata": {
    "collapsed": false
   },
   "outputs": [
    {
     "data": {
      "text/html": [
       "<div>\n",
       "<style scoped>\n",
       "    .dataframe tbody tr th:only-of-type {\n",
       "        vertical-align: middle;\n",
       "    }\n",
       "\n",
       "    .dataframe tbody tr th {\n",
       "        vertical-align: top;\n",
       "    }\n",
       "\n",
       "    .dataframe thead th {\n",
       "        text-align: right;\n",
       "    }\n",
       "</style>\n",
       "<table border=\"1\" class=\"dataframe\">\n",
       "  <thead>\n",
       "    <tr style=\"text-align: right;\">\n",
       "      <th></th>\n",
       "      <th>date_dt</th>\n",
       "      <th>day_of_week</th>\n",
       "      <th>temperature</th>\n",
       "      <th>weather</th>\n",
       "      <th>hour_dt</th>\n",
       "      <th>bikes</th>\n",
       "    </tr>\n",
       "  </thead>\n",
       "  <tbody>\n",
       "    <tr>\n",
       "      <th>0</th>\n",
       "      <td>2010-09-18</td>\n",
       "      <td>Saturday</td>\n",
       "      <td>21</td>\n",
       "      <td>No Rain</td>\n",
       "      <td>0</td>\n",
       "      <td>104</td>\n",
       "    </tr>\n",
       "    <tr>\n",
       "      <th>1</th>\n",
       "      <td>2010-09-18</td>\n",
       "      <td>Saturday</td>\n",
       "      <td>21</td>\n",
       "      <td>No Rain</td>\n",
       "      <td>1</td>\n",
       "      <td>65</td>\n",
       "    </tr>\n",
       "    <tr>\n",
       "      <th>2</th>\n",
       "      <td>2010-09-18</td>\n",
       "      <td>Saturday</td>\n",
       "      <td>21</td>\n",
       "      <td>No Rain</td>\n",
       "      <td>2</td>\n",
       "      <td>39</td>\n",
       "    </tr>\n",
       "    <tr>\n",
       "      <th>3</th>\n",
       "      <td>2010-09-18</td>\n",
       "      <td>Saturday</td>\n",
       "      <td>21</td>\n",
       "      <td>No Rain</td>\n",
       "      <td>3</td>\n",
       "      <td>27</td>\n",
       "    </tr>\n",
       "    <tr>\n",
       "      <th>4</th>\n",
       "      <td>2010-09-18</td>\n",
       "      <td>Saturday</td>\n",
       "      <td>21</td>\n",
       "      <td>No Rain</td>\n",
       "      <td>4</td>\n",
       "      <td>17</td>\n",
       "    </tr>\n",
       "    <tr>\n",
       "      <th>5</th>\n",
       "      <td>2010-09-18</td>\n",
       "      <td>Saturday</td>\n",
       "      <td>21</td>\n",
       "      <td>No Rain</td>\n",
       "      <td>5</td>\n",
       "      <td>9</td>\n",
       "    </tr>\n",
       "    <tr>\n",
       "      <th>6</th>\n",
       "      <td>2010-09-18</td>\n",
       "      <td>Saturday</td>\n",
       "      <td>21</td>\n",
       "      <td>No Rain</td>\n",
       "      <td>6</td>\n",
       "      <td>14</td>\n",
       "    </tr>\n",
       "    <tr>\n",
       "      <th>7</th>\n",
       "      <td>2010-09-18</td>\n",
       "      <td>Saturday</td>\n",
       "      <td>21</td>\n",
       "      <td>No Rain</td>\n",
       "      <td>7</td>\n",
       "      <td>46</td>\n",
       "    </tr>\n",
       "    <tr>\n",
       "      <th>8</th>\n",
       "      <td>2010-09-18</td>\n",
       "      <td>Saturday</td>\n",
       "      <td>21</td>\n",
       "      <td>No Rain</td>\n",
       "      <td>8</td>\n",
       "      <td>68</td>\n",
       "    </tr>\n",
       "    <tr>\n",
       "      <th>9</th>\n",
       "      <td>2010-09-18</td>\n",
       "      <td>Saturday</td>\n",
       "      <td>21</td>\n",
       "      <td>No Rain</td>\n",
       "      <td>9</td>\n",
       "      <td>85</td>\n",
       "    </tr>\n",
       "    <tr>\n",
       "      <th>10</th>\n",
       "      <td>2010-09-18</td>\n",
       "      <td>Saturday</td>\n",
       "      <td>21</td>\n",
       "      <td>No Rain</td>\n",
       "      <td>10</td>\n",
       "      <td>114</td>\n",
       "    </tr>\n",
       "    <tr>\n",
       "      <th>11</th>\n",
       "      <td>2010-09-18</td>\n",
       "      <td>Saturday</td>\n",
       "      <td>21</td>\n",
       "      <td>No Rain</td>\n",
       "      <td>11</td>\n",
       "      <td>171</td>\n",
       "    </tr>\n",
       "    <tr>\n",
       "      <th>12</th>\n",
       "      <td>2010-09-18</td>\n",
       "      <td>Saturday</td>\n",
       "      <td>21</td>\n",
       "      <td>No Rain</td>\n",
       "      <td>12</td>\n",
       "      <td>163</td>\n",
       "    </tr>\n",
       "    <tr>\n",
       "      <th>13</th>\n",
       "      <td>2010-09-18</td>\n",
       "      <td>Saturday</td>\n",
       "      <td>21</td>\n",
       "      <td>No Rain</td>\n",
       "      <td>13</td>\n",
       "      <td>190</td>\n",
       "    </tr>\n",
       "    <tr>\n",
       "      <th>14</th>\n",
       "      <td>2010-09-18</td>\n",
       "      <td>Saturday</td>\n",
       "      <td>21</td>\n",
       "      <td>No Rain</td>\n",
       "      <td>14</td>\n",
       "      <td>198</td>\n",
       "    </tr>\n",
       "    <tr>\n",
       "      <th>15</th>\n",
       "      <td>2010-09-18</td>\n",
       "      <td>Saturday</td>\n",
       "      <td>21</td>\n",
       "      <td>No Rain</td>\n",
       "      <td>15</td>\n",
       "      <td>149</td>\n",
       "    </tr>\n",
       "    <tr>\n",
       "      <th>16</th>\n",
       "      <td>2010-09-18</td>\n",
       "      <td>Saturday</td>\n",
       "      <td>21</td>\n",
       "      <td>No Rain</td>\n",
       "      <td>16</td>\n",
       "      <td>211</td>\n",
       "    </tr>\n",
       "    <tr>\n",
       "      <th>17</th>\n",
       "      <td>2010-09-18</td>\n",
       "      <td>Saturday</td>\n",
       "      <td>21</td>\n",
       "      <td>No Rain</td>\n",
       "      <td>17</td>\n",
       "      <td>206</td>\n",
       "    </tr>\n",
       "    <tr>\n",
       "      <th>18</th>\n",
       "      <td>2010-09-18</td>\n",
       "      <td>Saturday</td>\n",
       "      <td>21</td>\n",
       "      <td>No Rain</td>\n",
       "      <td>18</td>\n",
       "      <td>170</td>\n",
       "    </tr>\n",
       "    <tr>\n",
       "      <th>19</th>\n",
       "      <td>2010-09-18</td>\n",
       "      <td>Saturday</td>\n",
       "      <td>21</td>\n",
       "      <td>No Rain</td>\n",
       "      <td>19</td>\n",
       "      <td>125</td>\n",
       "    </tr>\n",
       "    <tr>\n",
       "      <th>20</th>\n",
       "      <td>2010-09-18</td>\n",
       "      <td>Saturday</td>\n",
       "      <td>21</td>\n",
       "      <td>No Rain</td>\n",
       "      <td>20</td>\n",
       "      <td>132</td>\n",
       "    </tr>\n",
       "    <tr>\n",
       "      <th>21</th>\n",
       "      <td>2010-09-18</td>\n",
       "      <td>Saturday</td>\n",
       "      <td>21</td>\n",
       "      <td>No Rain</td>\n",
       "      <td>21</td>\n",
       "      <td>68</td>\n",
       "    </tr>\n",
       "    <tr>\n",
       "      <th>22</th>\n",
       "      <td>2010-09-18</td>\n",
       "      <td>Saturday</td>\n",
       "      <td>21</td>\n",
       "      <td>No Rain</td>\n",
       "      <td>22</td>\n",
       "      <td>70</td>\n",
       "    </tr>\n",
       "    <tr>\n",
       "      <th>23</th>\n",
       "      <td>2010-09-18</td>\n",
       "      <td>Saturday</td>\n",
       "      <td>21</td>\n",
       "      <td>No Rain</td>\n",
       "      <td>23</td>\n",
       "      <td>90</td>\n",
       "    </tr>\n",
       "    <tr>\n",
       "      <th>24</th>\n",
       "      <td>2010-09-19</td>\n",
       "      <td>Sunday</td>\n",
       "      <td>20</td>\n",
       "      <td>No Rain</td>\n",
       "      <td>0</td>\n",
       "      <td>73</td>\n",
       "    </tr>\n",
       "    <tr>\n",
       "      <th>25</th>\n",
       "      <td>2010-09-19</td>\n",
       "      <td>Sunday</td>\n",
       "      <td>20</td>\n",
       "      <td>No Rain</td>\n",
       "      <td>1</td>\n",
       "      <td>42</td>\n",
       "    </tr>\n",
       "    <tr>\n",
       "      <th>26</th>\n",
       "      <td>2010-09-19</td>\n",
       "      <td>Sunday</td>\n",
       "      <td>20</td>\n",
       "      <td>No Rain</td>\n",
       "      <td>2</td>\n",
       "      <td>25</td>\n",
       "    </tr>\n",
       "    <tr>\n",
       "      <th>27</th>\n",
       "      <td>2010-09-19</td>\n",
       "      <td>Sunday</td>\n",
       "      <td>20</td>\n",
       "      <td>No Rain</td>\n",
       "      <td>3</td>\n",
       "      <td>24</td>\n",
       "    </tr>\n",
       "    <tr>\n",
       "      <th>28</th>\n",
       "      <td>2010-09-19</td>\n",
       "      <td>Sunday</td>\n",
       "      <td>20</td>\n",
       "      <td>No Rain</td>\n",
       "      <td>4</td>\n",
       "      <td>13</td>\n",
       "    </tr>\n",
       "    <tr>\n",
       "      <th>29</th>\n",
       "      <td>2010-09-19</td>\n",
       "      <td>Sunday</td>\n",
       "      <td>20</td>\n",
       "      <td>No Rain</td>\n",
       "      <td>5</td>\n",
       "      <td>7</td>\n",
       "    </tr>\n",
       "    <tr>\n",
       "      <th>...</th>\n",
       "      <td>...</td>\n",
       "      <td>...</td>\n",
       "      <td>...</td>\n",
       "      <td>...</td>\n",
       "      <td>...</td>\n",
       "      <td>...</td>\n",
       "    </tr>\n",
       "    <tr>\n",
       "      <th>282</th>\n",
       "      <td>2017-09-29</td>\n",
       "      <td>Friday</td>\n",
       "      <td>18</td>\n",
       "      <td>Rain 4mm</td>\n",
       "      <td>18</td>\n",
       "      <td>322</td>\n",
       "    </tr>\n",
       "    <tr>\n",
       "      <th>283</th>\n",
       "      <td>2017-09-29</td>\n",
       "      <td>Friday</td>\n",
       "      <td>18</td>\n",
       "      <td>Rain 4mm</td>\n",
       "      <td>19</td>\n",
       "      <td>197</td>\n",
       "    </tr>\n",
       "    <tr>\n",
       "      <th>284</th>\n",
       "      <td>2017-09-29</td>\n",
       "      <td>Friday</td>\n",
       "      <td>18</td>\n",
       "      <td>Rain 4mm</td>\n",
       "      <td>20</td>\n",
       "      <td>131</td>\n",
       "    </tr>\n",
       "    <tr>\n",
       "      <th>285</th>\n",
       "      <td>2017-09-29</td>\n",
       "      <td>Friday</td>\n",
       "      <td>18</td>\n",
       "      <td>Rain 4mm</td>\n",
       "      <td>21</td>\n",
       "      <td>104</td>\n",
       "    </tr>\n",
       "    <tr>\n",
       "      <th>286</th>\n",
       "      <td>2017-09-29</td>\n",
       "      <td>Friday</td>\n",
       "      <td>18</td>\n",
       "      <td>Rain 4mm</td>\n",
       "      <td>22</td>\n",
       "      <td>72</td>\n",
       "    </tr>\n",
       "    <tr>\n",
       "      <th>287</th>\n",
       "      <td>2017-09-29</td>\n",
       "      <td>Friday</td>\n",
       "      <td>18</td>\n",
       "      <td>Rain 4mm</td>\n",
       "      <td>23</td>\n",
       "      <td>63</td>\n",
       "    </tr>\n",
       "    <tr>\n",
       "      <th>288</th>\n",
       "      <td>2017-09-30</td>\n",
       "      <td>Saturday</td>\n",
       "      <td>15</td>\n",
       "      <td>No Rain</td>\n",
       "      <td>0</td>\n",
       "      <td>63</td>\n",
       "    </tr>\n",
       "    <tr>\n",
       "      <th>289</th>\n",
       "      <td>2017-09-30</td>\n",
       "      <td>Saturday</td>\n",
       "      <td>15</td>\n",
       "      <td>No Rain</td>\n",
       "      <td>1</td>\n",
       "      <td>31</td>\n",
       "    </tr>\n",
       "    <tr>\n",
       "      <th>290</th>\n",
       "      <td>2017-09-30</td>\n",
       "      <td>Saturday</td>\n",
       "      <td>15</td>\n",
       "      <td>No Rain</td>\n",
       "      <td>2</td>\n",
       "      <td>16</td>\n",
       "    </tr>\n",
       "    <tr>\n",
       "      <th>291</th>\n",
       "      <td>2017-09-30</td>\n",
       "      <td>Saturday</td>\n",
       "      <td>15</td>\n",
       "      <td>No Rain</td>\n",
       "      <td>3</td>\n",
       "      <td>15</td>\n",
       "    </tr>\n",
       "    <tr>\n",
       "      <th>292</th>\n",
       "      <td>2017-09-30</td>\n",
       "      <td>Saturday</td>\n",
       "      <td>15</td>\n",
       "      <td>No Rain</td>\n",
       "      <td>4</td>\n",
       "      <td>6</td>\n",
       "    </tr>\n",
       "    <tr>\n",
       "      <th>293</th>\n",
       "      <td>2017-09-30</td>\n",
       "      <td>Saturday</td>\n",
       "      <td>15</td>\n",
       "      <td>No Rain</td>\n",
       "      <td>5</td>\n",
       "      <td>14</td>\n",
       "    </tr>\n",
       "    <tr>\n",
       "      <th>294</th>\n",
       "      <td>2017-09-30</td>\n",
       "      <td>Saturday</td>\n",
       "      <td>15</td>\n",
       "      <td>No Rain</td>\n",
       "      <td>6</td>\n",
       "      <td>25</td>\n",
       "    </tr>\n",
       "    <tr>\n",
       "      <th>295</th>\n",
       "      <td>2017-09-30</td>\n",
       "      <td>Saturday</td>\n",
       "      <td>15</td>\n",
       "      <td>No Rain</td>\n",
       "      <td>7</td>\n",
       "      <td>35</td>\n",
       "    </tr>\n",
       "    <tr>\n",
       "      <th>296</th>\n",
       "      <td>2017-09-30</td>\n",
       "      <td>Saturday</td>\n",
       "      <td>15</td>\n",
       "      <td>No Rain</td>\n",
       "      <td>8</td>\n",
       "      <td>81</td>\n",
       "    </tr>\n",
       "    <tr>\n",
       "      <th>297</th>\n",
       "      <td>2017-09-30</td>\n",
       "      <td>Saturday</td>\n",
       "      <td>15</td>\n",
       "      <td>No Rain</td>\n",
       "      <td>9</td>\n",
       "      <td>102</td>\n",
       "    </tr>\n",
       "    <tr>\n",
       "      <th>298</th>\n",
       "      <td>2017-09-30</td>\n",
       "      <td>Saturday</td>\n",
       "      <td>15</td>\n",
       "      <td>No Rain</td>\n",
       "      <td>10</td>\n",
       "      <td>108</td>\n",
       "    </tr>\n",
       "    <tr>\n",
       "      <th>299</th>\n",
       "      <td>2017-09-30</td>\n",
       "      <td>Saturday</td>\n",
       "      <td>15</td>\n",
       "      <td>No Rain</td>\n",
       "      <td>11</td>\n",
       "      <td>177</td>\n",
       "    </tr>\n",
       "    <tr>\n",
       "      <th>300</th>\n",
       "      <td>2017-09-30</td>\n",
       "      <td>Saturday</td>\n",
       "      <td>15</td>\n",
       "      <td>No Rain</td>\n",
       "      <td>12</td>\n",
       "      <td>202</td>\n",
       "    </tr>\n",
       "    <tr>\n",
       "      <th>301</th>\n",
       "      <td>2017-09-30</td>\n",
       "      <td>Saturday</td>\n",
       "      <td>15</td>\n",
       "      <td>No Rain</td>\n",
       "      <td>13</td>\n",
       "      <td>200</td>\n",
       "    </tr>\n",
       "    <tr>\n",
       "      <th>302</th>\n",
       "      <td>2017-09-30</td>\n",
       "      <td>Saturday</td>\n",
       "      <td>15</td>\n",
       "      <td>No Rain</td>\n",
       "      <td>14</td>\n",
       "      <td>209</td>\n",
       "    </tr>\n",
       "    <tr>\n",
       "      <th>303</th>\n",
       "      <td>2017-09-30</td>\n",
       "      <td>Saturday</td>\n",
       "      <td>15</td>\n",
       "      <td>No Rain</td>\n",
       "      <td>15</td>\n",
       "      <td>229</td>\n",
       "    </tr>\n",
       "    <tr>\n",
       "      <th>304</th>\n",
       "      <td>2017-09-30</td>\n",
       "      <td>Saturday</td>\n",
       "      <td>15</td>\n",
       "      <td>No Rain</td>\n",
       "      <td>16</td>\n",
       "      <td>233</td>\n",
       "    </tr>\n",
       "    <tr>\n",
       "      <th>305</th>\n",
       "      <td>2017-09-30</td>\n",
       "      <td>Saturday</td>\n",
       "      <td>15</td>\n",
       "      <td>No Rain</td>\n",
       "      <td>17</td>\n",
       "      <td>242</td>\n",
       "    </tr>\n",
       "    <tr>\n",
       "      <th>306</th>\n",
       "      <td>2017-09-30</td>\n",
       "      <td>Saturday</td>\n",
       "      <td>15</td>\n",
       "      <td>No Rain</td>\n",
       "      <td>18</td>\n",
       "      <td>210</td>\n",
       "    </tr>\n",
       "    <tr>\n",
       "      <th>307</th>\n",
       "      <td>2017-09-30</td>\n",
       "      <td>Saturday</td>\n",
       "      <td>15</td>\n",
       "      <td>No Rain</td>\n",
       "      <td>19</td>\n",
       "      <td>188</td>\n",
       "    </tr>\n",
       "    <tr>\n",
       "      <th>308</th>\n",
       "      <td>2017-09-30</td>\n",
       "      <td>Saturday</td>\n",
       "      <td>15</td>\n",
       "      <td>No Rain</td>\n",
       "      <td>20</td>\n",
       "      <td>156</td>\n",
       "    </tr>\n",
       "    <tr>\n",
       "      <th>309</th>\n",
       "      <td>2017-09-30</td>\n",
       "      <td>Saturday</td>\n",
       "      <td>15</td>\n",
       "      <td>No Rain</td>\n",
       "      <td>21</td>\n",
       "      <td>141</td>\n",
       "    </tr>\n",
       "    <tr>\n",
       "      <th>310</th>\n",
       "      <td>2017-09-30</td>\n",
       "      <td>Saturday</td>\n",
       "      <td>15</td>\n",
       "      <td>No Rain</td>\n",
       "      <td>22</td>\n",
       "      <td>165</td>\n",
       "    </tr>\n",
       "    <tr>\n",
       "      <th>311</th>\n",
       "      <td>2017-09-30</td>\n",
       "      <td>Saturday</td>\n",
       "      <td>15</td>\n",
       "      <td>No Rain</td>\n",
       "      <td>23</td>\n",
       "      <td>140</td>\n",
       "    </tr>\n",
       "  </tbody>\n",
       "</table>\n",
       "<p>312 rows × 6 columns</p>\n",
       "</div>"
      ],
      "text/plain": [
       "       date_dt day_of_week  temperature   weather  hour_dt  bikes\n",
       "0   2010-09-18    Saturday           21   No Rain        0    104\n",
       "1   2010-09-18    Saturday           21   No Rain        1     65\n",
       "2   2010-09-18    Saturday           21   No Rain        2     39\n",
       "3   2010-09-18    Saturday           21   No Rain        3     27\n",
       "4   2010-09-18    Saturday           21   No Rain        4     17\n",
       "5   2010-09-18    Saturday           21   No Rain        5      9\n",
       "6   2010-09-18    Saturday           21   No Rain        6     14\n",
       "7   2010-09-18    Saturday           21   No Rain        7     46\n",
       "8   2010-09-18    Saturday           21   No Rain        8     68\n",
       "9   2010-09-18    Saturday           21   No Rain        9     85\n",
       "10  2010-09-18    Saturday           21   No Rain       10    114\n",
       "11  2010-09-18    Saturday           21   No Rain       11    171\n",
       "12  2010-09-18    Saturday           21   No Rain       12    163\n",
       "13  2010-09-18    Saturday           21   No Rain       13    190\n",
       "14  2010-09-18    Saturday           21   No Rain       14    198\n",
       "15  2010-09-18    Saturday           21   No Rain       15    149\n",
       "16  2010-09-18    Saturday           21   No Rain       16    211\n",
       "17  2010-09-18    Saturday           21   No Rain       17    206\n",
       "18  2010-09-18    Saturday           21   No Rain       18    170\n",
       "19  2010-09-18    Saturday           21   No Rain       19    125\n",
       "20  2010-09-18    Saturday           21   No Rain       20    132\n",
       "21  2010-09-18    Saturday           21   No Rain       21     68\n",
       "22  2010-09-18    Saturday           21   No Rain       22     70\n",
       "23  2010-09-18    Saturday           21   No Rain       23     90\n",
       "24  2010-09-19      Sunday           20   No Rain        0     73\n",
       "25  2010-09-19      Sunday           20   No Rain        1     42\n",
       "26  2010-09-19      Sunday           20   No Rain        2     25\n",
       "27  2010-09-19      Sunday           20   No Rain        3     24\n",
       "28  2010-09-19      Sunday           20   No Rain        4     13\n",
       "29  2010-09-19      Sunday           20   No Rain        5      7\n",
       "..         ...         ...          ...       ...      ...    ...\n",
       "282 2017-09-29      Friday           18  Rain 4mm       18    322\n",
       "283 2017-09-29      Friday           18  Rain 4mm       19    197\n",
       "284 2017-09-29      Friday           18  Rain 4mm       20    131\n",
       "285 2017-09-29      Friday           18  Rain 4mm       21    104\n",
       "286 2017-09-29      Friday           18  Rain 4mm       22     72\n",
       "287 2017-09-29      Friday           18  Rain 4mm       23     63\n",
       "288 2017-09-30    Saturday           15   No Rain        0     63\n",
       "289 2017-09-30    Saturday           15   No Rain        1     31\n",
       "290 2017-09-30    Saturday           15   No Rain        2     16\n",
       "291 2017-09-30    Saturday           15   No Rain        3     15\n",
       "292 2017-09-30    Saturday           15   No Rain        4      6\n",
       "293 2017-09-30    Saturday           15   No Rain        5     14\n",
       "294 2017-09-30    Saturday           15   No Rain        6     25\n",
       "295 2017-09-30    Saturday           15   No Rain        7     35\n",
       "296 2017-09-30    Saturday           15   No Rain        8     81\n",
       "297 2017-09-30    Saturday           15   No Rain        9    102\n",
       "298 2017-09-30    Saturday           15   No Rain       10    108\n",
       "299 2017-09-30    Saturday           15   No Rain       11    177\n",
       "300 2017-09-30    Saturday           15   No Rain       12    202\n",
       "301 2017-09-30    Saturday           15   No Rain       13    200\n",
       "302 2017-09-30    Saturday           15   No Rain       14    209\n",
       "303 2017-09-30    Saturday           15   No Rain       15    229\n",
       "304 2017-09-30    Saturday           15   No Rain       16    233\n",
       "305 2017-09-30    Saturday           15   No Rain       17    242\n",
       "306 2017-09-30    Saturday           15   No Rain       18    210\n",
       "307 2017-09-30    Saturday           15   No Rain       19    188\n",
       "308 2017-09-30    Saturday           15   No Rain       20    156\n",
       "309 2017-09-30    Saturday           15   No Rain       21    141\n",
       "310 2017-09-30    Saturday           15   No Rain       22    165\n",
       "311 2017-09-30    Saturday           15   No Rain       23    140\n",
       "\n",
       "[312 rows x 6 columns]"
      ]
     },
     "execution_count": 59,
     "metadata": {},
     "output_type": "execute_result"
    }
   ],
   "source": [
    "bike_counts_total =(bike_counts.groupby(['date_dt', 'day_of_week', 'temperature', 'weather', 'hour_dt'])['bikes']\n",
    "                    .sum()\n",
    "                    .reset_index())\n",
    "bike_counts_total"
   ]
  },
  {
   "cell_type": "markdown",
   "metadata": {},
   "source": [
    "Since the same grouped data frame will be used in multiple code chunks below, this can be assigned to a new variable instead of typing out the grouping expression each time."
   ]
  },
  {
   "cell_type": "code",
   "execution_count": 60,
   "metadata": {
    "collapsed": false
   },
   "outputs": [
    {
     "data": {
      "text/plain": [
       "date_dt     day_of_week  weather  \n",
       "2010-09-18  Saturday      No Rain     2531\n",
       "2010-09-19  Sunday        No Rain     2669\n",
       "2010-09-20  Monday        No Rain     4734\n",
       "2010-09-21  Tuesday       No Rain     4814\n",
       "2010-09-22  Wednesday     Rain 6mm    3812\n",
       "2010-09-23  Thursday      No Rain     4746\n",
       "2010-09-24  Friday        No Rain     4373\n",
       "2010-09-25  Saturday      No Rain     2515\n",
       "2010-09-26  Sunday        No Rain     2575\n",
       "2017-09-27  Wednesday     No Rain     5667\n",
       "2017-09-28  Thursday      No Rain     5426\n",
       "2017-09-29  Friday       Rain 4mm     3778\n",
       "2017-09-30  Saturday      No Rain     2988\n",
       "Name: bikes, dtype: int64"
      ]
     },
     "execution_count": 60,
     "metadata": {},
     "output_type": "execute_result"
    }
   ],
   "source": [
    "grouped_bike_counts = bike_counts_total.groupby(['date_dt', 'day_of_week', 'weather'])\n",
    "grouped_bike_counts['bikes'].sum()"
   ]
  },
  {
   "cell_type": "markdown",
   "metadata": {},
   "source": [
    "Other aggregation methods, such as the standard deviation, are called with the same syntax."
   ]
  },
  {
   "cell_type": "code",
   "execution_count": 61,
   "metadata": {
    "collapsed": false
   },
   "outputs": [
    {
     "data": {
      "text/plain": [
       "date_dt     day_of_week  weather  \n",
       "2010-09-18  Saturday      No Rain      65.191343\n",
       "2010-09-19  Sunday        No Rain      79.652495\n",
       "2010-09-20  Monday        No Rain     159.863597\n",
       "2010-09-21  Tuesday       No Rain     149.924885\n",
       "2010-09-22  Wednesday     Rain 6mm    110.727895\n",
       "2010-09-23  Thursday      No Rain     143.297274\n",
       "2010-09-24  Friday        No Rain     122.429387\n",
       "2010-09-25  Saturday      No Rain      58.832836\n",
       "2010-09-26  Sunday        No Rain      77.870282\n",
       "2017-09-27  Wednesday     No Rain     182.103724\n",
       "2017-09-28  Thursday      No Rain     170.290523\n",
       "2017-09-29  Friday       Rain 4mm     137.304459\n",
       "2017-09-30  Saturday      No Rain      82.280010\n",
       "Name: bikes, dtype: float64"
      ]
     },
     "execution_count": 61,
     "metadata": {},
     "output_type": "execute_result"
    }
   ],
   "source": [
    "grouped_bike_counts['bikes'].std()"
   ]
  },
  {
   "cell_type": "markdown",
   "metadata": {},
   "source": [
    "Instead of using the `sum()` method, the more general `agg()` method could be called to aggregate (or summarize) by *any* existing aggregation functions. The equivalent to the `sum()` method would be to call `agg()` and specify `'sum'`."
   ]
  },
  {
   "cell_type": "code",
   "execution_count": 62,
   "metadata": {
    "collapsed": false
   },
   "outputs": [
    {
     "data": {
      "text/plain": [
       "date_dt     day_of_week  weather  \n",
       "2010-09-18  Saturday      No Rain     2531\n",
       "2010-09-19  Sunday        No Rain     2669\n",
       "2010-09-20  Monday        No Rain     4734\n",
       "2010-09-21  Tuesday       No Rain     4814\n",
       "2010-09-22  Wednesday     Rain 6mm    3812\n",
       "2010-09-23  Thursday      No Rain     4746\n",
       "2010-09-24  Friday        No Rain     4373\n",
       "2010-09-25  Saturday      No Rain     2515\n",
       "2010-09-26  Sunday        No Rain     2575\n",
       "2017-09-27  Wednesday     No Rain     5667\n",
       "2017-09-28  Thursday      No Rain     5426\n",
       "2017-09-29  Friday       Rain 4mm     3778\n",
       "2017-09-30  Saturday      No Rain     2988\n",
       "Name: bikes, dtype: int64"
      ]
     },
     "execution_count": 62,
     "metadata": {},
     "output_type": "execute_result"
    }
   ],
   "source": [
    "grouped_bike_counts['bikes'].agg('sum')"
   ]
  },
  {
   "cell_type": "markdown",
   "metadata": {},
   "source": [
    "This general approach is more flexible and powerful since multiple aggregation functions can be applied in the same line of code by passing them as a list to `agg()`. For instance, the standard deviation and mean could be computed in the same call by passing them in a list."
   ]
  },
  {
   "cell_type": "code",
   "execution_count": 63,
   "metadata": {
    "collapsed": false
   },
   "outputs": [
    {
     "data": {
      "text/html": [
       "<div>\n",
       "<style scoped>\n",
       "    .dataframe tbody tr th:only-of-type {\n",
       "        vertical-align: middle;\n",
       "    }\n",
       "\n",
       "    .dataframe tbody tr th {\n",
       "        vertical-align: top;\n",
       "    }\n",
       "\n",
       "    .dataframe thead th {\n",
       "        text-align: right;\n",
       "    }\n",
       "</style>\n",
       "<table border=\"1\" class=\"dataframe\">\n",
       "  <thead>\n",
       "    <tr style=\"text-align: right;\">\n",
       "      <th></th>\n",
       "      <th></th>\n",
       "      <th></th>\n",
       "      <th>max</th>\n",
       "      <th>sum</th>\n",
       "    </tr>\n",
       "    <tr>\n",
       "      <th>date_dt</th>\n",
       "      <th>day_of_week</th>\n",
       "      <th>weather</th>\n",
       "      <th></th>\n",
       "      <th></th>\n",
       "    </tr>\n",
       "  </thead>\n",
       "  <tbody>\n",
       "    <tr>\n",
       "      <th>2010-09-18</th>\n",
       "      <th>Saturday</th>\n",
       "      <th>No Rain</th>\n",
       "      <td>211</td>\n",
       "      <td>2531</td>\n",
       "    </tr>\n",
       "    <tr>\n",
       "      <th>2010-09-19</th>\n",
       "      <th>Sunday</th>\n",
       "      <th>No Rain</th>\n",
       "      <td>235</td>\n",
       "      <td>2669</td>\n",
       "    </tr>\n",
       "    <tr>\n",
       "      <th>2010-09-20</th>\n",
       "      <th>Monday</th>\n",
       "      <th>No Rain</th>\n",
       "      <td>518</td>\n",
       "      <td>4734</td>\n",
       "    </tr>\n",
       "    <tr>\n",
       "      <th>2010-09-21</th>\n",
       "      <th>Tuesday</th>\n",
       "      <th>No Rain</th>\n",
       "      <td>525</td>\n",
       "      <td>4814</td>\n",
       "    </tr>\n",
       "    <tr>\n",
       "      <th>2010-09-22</th>\n",
       "      <th>Wednesday</th>\n",
       "      <th>Rain 6mm</th>\n",
       "      <td>383</td>\n",
       "      <td>3812</td>\n",
       "    </tr>\n",
       "    <tr>\n",
       "      <th>2010-09-23</th>\n",
       "      <th>Thursday</th>\n",
       "      <th>No Rain</th>\n",
       "      <td>493</td>\n",
       "      <td>4746</td>\n",
       "    </tr>\n",
       "    <tr>\n",
       "      <th>2010-09-24</th>\n",
       "      <th>Friday</th>\n",
       "      <th>No Rain</th>\n",
       "      <td>379</td>\n",
       "      <td>4373</td>\n",
       "    </tr>\n",
       "    <tr>\n",
       "      <th>2010-09-25</th>\n",
       "      <th>Saturday</th>\n",
       "      <th>No Rain</th>\n",
       "      <td>186</td>\n",
       "      <td>2515</td>\n",
       "    </tr>\n",
       "    <tr>\n",
       "      <th>2010-09-26</th>\n",
       "      <th>Sunday</th>\n",
       "      <th>No Rain</th>\n",
       "      <td>236</td>\n",
       "      <td>2575</td>\n",
       "    </tr>\n",
       "    <tr>\n",
       "      <th>2017-09-27</th>\n",
       "      <th>Wednesday</th>\n",
       "      <th>No Rain</th>\n",
       "      <td>611</td>\n",
       "      <td>5667</td>\n",
       "    </tr>\n",
       "    <tr>\n",
       "      <th>2017-09-28</th>\n",
       "      <th>Thursday</th>\n",
       "      <th>No Rain</th>\n",
       "      <td>562</td>\n",
       "      <td>5426</td>\n",
       "    </tr>\n",
       "    <tr>\n",
       "      <th>2017-09-29</th>\n",
       "      <th>Friday</th>\n",
       "      <th>Rain 4mm</th>\n",
       "      <td>466</td>\n",
       "      <td>3778</td>\n",
       "    </tr>\n",
       "    <tr>\n",
       "      <th>2017-09-30</th>\n",
       "      <th>Saturday</th>\n",
       "      <th>No Rain</th>\n",
       "      <td>242</td>\n",
       "      <td>2988</td>\n",
       "    </tr>\n",
       "  </tbody>\n",
       "</table>\n",
       "</div>"
      ],
      "text/plain": [
       "                                  max   sum\n",
       "date_dt    day_of_week weather             \n",
       "2010-09-18 Saturday     No Rain   211  2531\n",
       "2010-09-19 Sunday       No Rain   235  2669\n",
       "2010-09-20 Monday       No Rain   518  4734\n",
       "2010-09-21 Tuesday      No Rain   525  4814\n",
       "2010-09-22 Wednesday    Rain 6mm  383  3812\n",
       "2010-09-23 Thursday     No Rain   493  4746\n",
       "2010-09-24 Friday       No Rain   379  4373\n",
       "2010-09-25 Saturday     No Rain   186  2515\n",
       "2010-09-26 Sunday       No Rain   236  2575\n",
       "2017-09-27 Wednesday    No Rain   611  5667\n",
       "2017-09-28 Thursday     No Rain   562  5426\n",
       "2017-09-29 Friday      Rain 4mm   466  3778\n",
       "2017-09-30 Saturday     No Rain   242  2988"
      ]
     },
     "execution_count": 63,
     "metadata": {},
     "output_type": "execute_result"
    }
   ],
   "source": [
    "grouped_bike_counts['bikes'].agg(['max', 'sum'])"
   ]
  },
  {
   "cell_type": "markdown",
   "metadata": {},
   "source": [
    "The returned output is in this case a data frame and the `MultiIndex` is indicated in bold font.\n",
    "\n",
    "By passing a dictionary to `.agg()` it is possible to apply different aggregations to the different columns. Long code statements can be broken down into multiple lines if they are enclosed by parentheses, brackets or braces, something that will be described in detail later."
   ]
  },
  {
   "cell_type": "code",
   "execution_count": 64,
   "metadata": {
    "collapsed": false
   },
   "outputs": [
    {
     "data": {
      "text/html": [
       "<div>\n",
       "<style scoped>\n",
       "    .dataframe tbody tr th:only-of-type {\n",
       "        vertical-align: middle;\n",
       "    }\n",
       "\n",
       "    .dataframe tbody tr th {\n",
       "        vertical-align: top;\n",
       "    }\n",
       "\n",
       "    .dataframe thead tr th {\n",
       "        text-align: left;\n",
       "    }\n",
       "\n",
       "    .dataframe thead tr:last-of-type th {\n",
       "        text-align: right;\n",
       "    }\n",
       "</style>\n",
       "<table border=\"1\" class=\"dataframe\">\n",
       "  <thead>\n",
       "    <tr>\n",
       "      <th></th>\n",
       "      <th></th>\n",
       "      <th></th>\n",
       "      <th>temperature</th>\n",
       "      <th colspan=\"3\" halign=\"left\">bikes</th>\n",
       "    </tr>\n",
       "    <tr>\n",
       "      <th></th>\n",
       "      <th></th>\n",
       "      <th></th>\n",
       "      <th>mean</th>\n",
       "      <th>min</th>\n",
       "      <th>max</th>\n",
       "      <th>sum</th>\n",
       "    </tr>\n",
       "    <tr>\n",
       "      <th>date_dt</th>\n",
       "      <th>day_of_week</th>\n",
       "      <th>weather</th>\n",
       "      <th></th>\n",
       "      <th></th>\n",
       "      <th></th>\n",
       "      <th></th>\n",
       "    </tr>\n",
       "  </thead>\n",
       "  <tbody>\n",
       "    <tr>\n",
       "      <th>2010-09-18</th>\n",
       "      <th>Saturday</th>\n",
       "      <th>No Rain</th>\n",
       "      <td>21</td>\n",
       "      <td>9</td>\n",
       "      <td>211</td>\n",
       "      <td>2531</td>\n",
       "    </tr>\n",
       "    <tr>\n",
       "      <th>2010-09-19</th>\n",
       "      <th>Sunday</th>\n",
       "      <th>No Rain</th>\n",
       "      <td>20</td>\n",
       "      <td>7</td>\n",
       "      <td>235</td>\n",
       "      <td>2669</td>\n",
       "    </tr>\n",
       "    <tr>\n",
       "      <th>2010-09-20</th>\n",
       "      <th>Monday</th>\n",
       "      <th>No Rain</th>\n",
       "      <td>19</td>\n",
       "      <td>4</td>\n",
       "      <td>518</td>\n",
       "      <td>4734</td>\n",
       "    </tr>\n",
       "    <tr>\n",
       "      <th>2010-09-21</th>\n",
       "      <th>Tuesday</th>\n",
       "      <th>No Rain</th>\n",
       "      <td>25</td>\n",
       "      <td>4</td>\n",
       "      <td>525</td>\n",
       "      <td>4814</td>\n",
       "    </tr>\n",
       "    <tr>\n",
       "      <th>2010-09-22</th>\n",
       "      <th>Wednesday</th>\n",
       "      <th>Rain 6mm</th>\n",
       "      <td>23</td>\n",
       "      <td>4</td>\n",
       "      <td>383</td>\n",
       "      <td>3812</td>\n",
       "    </tr>\n",
       "    <tr>\n",
       "      <th>2010-09-23</th>\n",
       "      <th>Thursday</th>\n",
       "      <th>No Rain</th>\n",
       "      <td>19</td>\n",
       "      <td>4</td>\n",
       "      <td>493</td>\n",
       "      <td>4746</td>\n",
       "    </tr>\n",
       "    <tr>\n",
       "      <th>2010-09-24</th>\n",
       "      <th>Friday</th>\n",
       "      <th>No Rain</th>\n",
       "      <td>30</td>\n",
       "      <td>6</td>\n",
       "      <td>379</td>\n",
       "      <td>4373</td>\n",
       "    </tr>\n",
       "    <tr>\n",
       "      <th>2010-09-25</th>\n",
       "      <th>Saturday</th>\n",
       "      <th>No Rain</th>\n",
       "      <td>18</td>\n",
       "      <td>11</td>\n",
       "      <td>186</td>\n",
       "      <td>2515</td>\n",
       "    </tr>\n",
       "    <tr>\n",
       "      <th>2010-09-26</th>\n",
       "      <th>Sunday</th>\n",
       "      <th>No Rain</th>\n",
       "      <td>17</td>\n",
       "      <td>9</td>\n",
       "      <td>236</td>\n",
       "      <td>2575</td>\n",
       "    </tr>\n",
       "    <tr>\n",
       "      <th>2017-09-27</th>\n",
       "      <th>Wednesday</th>\n",
       "      <th>No Rain</th>\n",
       "      <td>30</td>\n",
       "      <td>6</td>\n",
       "      <td>611</td>\n",
       "      <td>5667</td>\n",
       "    </tr>\n",
       "    <tr>\n",
       "      <th>2017-09-28</th>\n",
       "      <th>Thursday</th>\n",
       "      <th>No Rain</th>\n",
       "      <td>19</td>\n",
       "      <td>11</td>\n",
       "      <td>562</td>\n",
       "      <td>5426</td>\n",
       "    </tr>\n",
       "    <tr>\n",
       "      <th>2017-09-29</th>\n",
       "      <th>Friday</th>\n",
       "      <th>Rain 4mm</th>\n",
       "      <td>18</td>\n",
       "      <td>8</td>\n",
       "      <td>466</td>\n",
       "      <td>3778</td>\n",
       "    </tr>\n",
       "    <tr>\n",
       "      <th>2017-09-30</th>\n",
       "      <th>Saturday</th>\n",
       "      <th>No Rain</th>\n",
       "      <td>15</td>\n",
       "      <td>6</td>\n",
       "      <td>242</td>\n",
       "      <td>2988</td>\n",
       "    </tr>\n",
       "  </tbody>\n",
       "</table>\n",
       "</div>"
      ],
      "text/plain": [
       "                                 temperature bikes           \n",
       "                                        mean   min  max   sum\n",
       "date_dt    day_of_week weather                               \n",
       "2010-09-18 Saturday     No Rain           21     9  211  2531\n",
       "2010-09-19 Sunday       No Rain           20     7  235  2669\n",
       "2010-09-20 Monday       No Rain           19     4  518  4734\n",
       "2010-09-21 Tuesday      No Rain           25     4  525  4814\n",
       "2010-09-22 Wednesday    Rain 6mm          23     4  383  3812\n",
       "2010-09-23 Thursday     No Rain           19     4  493  4746\n",
       "2010-09-24 Friday       No Rain           30     6  379  4373\n",
       "2010-09-25 Saturday     No Rain           18    11  186  2515\n",
       "2010-09-26 Sunday       No Rain           17     9  236  2575\n",
       "2017-09-27 Wednesday    No Rain           30     6  611  5667\n",
       "2017-09-28 Thursday     No Rain           19    11  562  5426\n",
       "2017-09-29 Friday      Rain 4mm           18     8  466  3778\n",
       "2017-09-30 Saturday     No Rain           15     6  242  2988"
      ]
     },
     "execution_count": 64,
     "metadata": {},
     "output_type": "execute_result"
    }
   ],
   "source": [
    "grouped_bike_counts[['temperature', 'bikes']].agg(\n",
    "    {'temperature': 'mean',\n",
    "     'bikes': ['min', 'max', 'sum']\n",
    "    }\n",
    ")"
   ]
  },
  {
   "cell_type": "markdown",
   "metadata": {},
   "source": [
    "There are plenty of aggregation methods available in pandas (e.g. `sem`, `mad`, `sum`, all of which can be found using tab-complete on the grouped data frame."
   ]
  },
  {
   "cell_type": "code",
   "execution_count": 65,
   "metadata": {
    "collapsed": true
   },
   "outputs": [],
   "source": [
    "# Tab completion might only work like this:\n",
    "# find_agg_methods = grouped_bike_counts['temperature']\n",
    "# find_agg_methods.<tab>"
   ]
  },
  {
   "cell_type": "markdown",
   "metadata": {},
   "source": [
    "Even if a function is not part of the `pandas` library, it can be passed to `agg()`."
   ]
  },
  {
   "cell_type": "code",
   "execution_count": 66,
   "metadata": {
    "collapsed": false
   },
   "outputs": [
    {
     "data": {
      "text/plain": [
       "date_dt     day_of_week  weather  \n",
       "2010-09-18  Saturday      No Rain     21\n",
       "2010-09-19  Sunday        No Rain     20\n",
       "2010-09-20  Monday        No Rain     19\n",
       "2010-09-21  Tuesday       No Rain     25\n",
       "2010-09-22  Wednesday     Rain 6mm    23\n",
       "2010-09-23  Thursday      No Rain     19\n",
       "2010-09-24  Friday        No Rain     30\n",
       "2010-09-25  Saturday      No Rain     18\n",
       "2010-09-26  Sunday        No Rain     17\n",
       "2017-09-27  Wednesday     No Rain     30\n",
       "2017-09-28  Thursday      No Rain     19\n",
       "2017-09-29  Friday       Rain 4mm     18\n",
       "2017-09-30  Saturday      No Rain     15\n",
       "Name: temperature, dtype: int64"
      ]
     },
     "execution_count": 66,
     "metadata": {},
     "output_type": "execute_result"
    }
   ],
   "source": [
    "import numpy as np\n",
    "\n",
    "grouped_bike_counts['temperature'].agg(np.mean)"
   ]
  },
  {
   "cell_type": "markdown",
   "metadata": {},
   "source": [
    "Any function can be passed like this, including user-created functions. "
   ]
  },
  {
   "cell_type": "markdown",
   "metadata": {},
   "source": [
    "> #### Challenge\n",
    "> \n",
    "> 1. Use `groupby()` and `agg()` with the `bike_counts_total` data frame\n",
    "> to find the mean, min, and max bike counts\n",
    "> per hourly time interval (across all days).\n",
    "> \n",
    "> 2. What was the largst bike count for each day? Return the columns `date_dt`,\n",
    "> `day_of_week`, `hour_dt`, `weather`, and `bikes`. *Hint* Look into the `idxmax()` method."
   ]
  },
  {
   "cell_type": "markdown",
   "metadata": {},
   "source": [
    "<!--\n",
    "1.  bike_counts_total.groupby('hour_dt')['bikes'].agg(['mean', 'min', 'max'])\n",
    "2.  bike_counts_total.loc[bike_counts_total.groupby('date_dt')['bikes'].idxmax(), ['date_dt',\n",
    "    'day_of_week', 'hour_dt', 'weather', 'bikes']]\n",
    "-->"
   ]
  },
  {
   "cell_type": "markdown",
   "metadata": {},
   "source": [
    "### Using `size()` to summarize categorical data \n",
    "\n",
    "When working with data, it is common to want to know the number of observations present for each categorical variable. For this, `pandas` provides the `size()` method. For example, to group by 'weather' and find the number of observations for each 'weather':"
   ]
  },
  {
   "cell_type": "code",
   "execution_count": 67,
   "metadata": {
    "collapsed": false
   },
   "outputs": [
    {
     "data": {
      "text/plain": [
       "weather\n",
       " No Rain     264\n",
       " Rain 6mm     24\n",
       "Rain 4mm      24\n",
       "dtype: int64"
      ]
     },
     "execution_count": 67,
     "metadata": {},
     "output_type": "execute_result"
    }
   ],
   "source": [
    "bike_counts_total.groupby('weather').size()"
   ]
  },
  {
   "cell_type": "markdown",
   "metadata": {},
   "source": [
    "`size()` can also be used when grouping on multiple variables."
   ]
  },
  {
   "cell_type": "code",
   "execution_count": 68,
   "metadata": {
    "collapsed": false
   },
   "outputs": [
    {
     "data": {
      "text/plain": [
       "temperature  weather  \n",
       "15            No Rain      48\n",
       "17            No Rain      48\n",
       "18            No Rain      48\n",
       "             Rain 4mm      48\n",
       "19            No Rain     144\n",
       "20            No Rain      48\n",
       "21            No Rain      48\n",
       "23            Rain 6mm     48\n",
       "25            No Rain      48\n",
       "30            No Rain      96\n",
       "dtype: int64"
      ]
     },
     "execution_count": 68,
     "metadata": {},
     "output_type": "execute_result"
    }
   ],
   "source": [
    "bike_counts.groupby(['temperature', 'weather']).size()"
   ]
  },
  {
   "cell_type": "markdown",
   "metadata": {},
   "source": [
    "If there are many groups, `size()` is not that useful on its own. For example, it is difficult to quickly find the most commonly observed temperature among the observations."
   ]
  },
  {
   "cell_type": "code",
   "execution_count": 69,
   "metadata": {
    "collapsed": false
   },
   "outputs": [
    {
     "data": {
      "text/plain": [
       "temperature\n",
       "15    24\n",
       "17    24\n",
       "18    48\n",
       "19    72\n",
       "20    24\n",
       "21    24\n",
       "23    24\n",
       "25    24\n",
       "30    48\n",
       "dtype: int64"
      ]
     },
     "execution_count": 69,
     "metadata": {},
     "output_type": "execute_result"
    }
   ],
   "source": [
    "bike_counts_total.groupby('temperature').size()"
   ]
  },
  {
   "cell_type": "markdown",
   "metadata": {},
   "source": [
    "It would be beneficial to sort the table values and display the most commonly observed temperature first. This is easy to do with the `sort_values()` method."
   ]
  },
  {
   "cell_type": "code",
   "execution_count": 70,
   "metadata": {
    "collapsed": false
   },
   "outputs": [
    {
     "data": {
      "text/plain": [
       "temperature\n",
       "15    24\n",
       "17    24\n",
       "20    24\n",
       "21    24\n",
       "23    24\n",
       "25    24\n",
       "18    48\n",
       "30    48\n",
       "19    72\n",
       "dtype: int64"
      ]
     },
     "execution_count": 70,
     "metadata": {},
     "output_type": "execute_result"
    }
   ],
   "source": [
    "bike_counts_total.groupby('temperature').size().sort_values()"
   ]
  },
  {
   "cell_type": "markdown",
   "metadata": {},
   "source": [
    "That's better, but it could be helpful to display the most common temperature at the top of the list. In other words, the output should be arranged in descending order."
   ]
  },
  {
   "cell_type": "code",
   "execution_count": 71,
   "metadata": {
    "collapsed": false
   },
   "outputs": [
    {
     "data": {
      "text/plain": [
       "temperature\n",
       "19    72\n",
       "30    48\n",
       "18    48\n",
       "25    24\n",
       "23    24\n",
       "dtype: int64"
      ]
     },
     "execution_count": 71,
     "metadata": {},
     "output_type": "execute_result"
    }
   ],
   "source": [
    "bike_counts_total.groupby('temperature').size().sort_values(ascending=False).head(5)"
   ]
  },
  {
   "cell_type": "markdown",
   "metadata": {},
   "source": [
    "Looks good! By now, the code statement has grown quite long because many methods have been *chained* together. It can be tricky to keep track of what is going on in long method chains. To make the code more readable, it can be broken up multiple lines by adding a surrounding parenthesis."
   ]
  },
  {
   "cell_type": "code",
   "execution_count": 72,
   "metadata": {
    "collapsed": false
   },
   "outputs": [
    {
     "data": {
      "text/plain": [
       "temperature\n",
       "19    72\n",
       "30    48\n",
       "18    48\n",
       "25    24\n",
       "23    24\n",
       "dtype: int64"
      ]
     },
     "execution_count": 72,
     "metadata": {},
     "output_type": "execute_result"
    }
   ],
   "source": [
    "(bike_counts_total\n",
    "     .groupby('temperature')\n",
    "     .size()\n",
    "     .sort_values(ascending=False)\n",
    "     .head(5)\n",
    ")"
   ]
  },
  {
   "cell_type": "markdown",
   "metadata": {},
   "source": [
    "This looks neater and makes long method chains easier to reads. There is no absolute rule for when to break code into multiple line, but always try to write code that is easy for collaborators (your most common collaborator is a future version of yourself!) to understand.\n",
    "\n",
    "`pandas` actually has a convenience function for returning the top five results, so the values don't need to be sorted explicitly."
   ]
  },
  {
   "cell_type": "code",
   "execution_count": 73,
   "metadata": {
    "collapsed": false
   },
   "outputs": [
    {
     "data": {
      "text/plain": [
       "temperature\n",
       "19    72\n",
       "18    48\n",
       "30    48\n",
       "15    24\n",
       "17    24\n",
       "dtype: int64"
      ]
     },
     "execution_count": 73,
     "metadata": {},
     "output_type": "execute_result"
    }
   ],
   "source": [
    "(bike_counts_total\n",
    "     .groupby('temperature')\n",
    "     .size()\n",
    "     .nlargest() # the default is 5\n",
    ")"
   ]
  },
  {
   "cell_type": "markdown",
   "metadata": {},
   "source": [
    "To include more attributes about these temperature observations, add columns to `groupby()`."
   ]
  },
  {
   "cell_type": "code",
   "execution_count": 82,
   "metadata": {
    "collapsed": false
   },
   "outputs": [
    {
     "data": {
      "text/plain": [
       "day_of_week  weather   temperature\n",
       "Thursday      No Rain  19             48\n",
       "Friday        No Rain  30             24\n",
       "             Rain 4mm  18             24\n",
       "Monday        No Rain  19             24\n",
       "Saturday      No Rain  15             24\n",
       "dtype: int64"
      ]
     },
     "execution_count": 82,
     "metadata": {},
     "output_type": "execute_result"
    }
   ],
   "source": [
    "(bike_counts_total\n",
    "     .groupby(['day_of_week', 'weather', 'temperature'])\n",
    "     .size()\n",
    "     .nlargest()\n",
    ") "
   ]
  },
  {
   "cell_type": "markdown",
   "metadata": {},
   "source": [
    "### Using `nunique()` to count number of unique observations"
   ]
  },
  {
   "cell_type": "markdown",
   "metadata": {},
   "source": [
    "The command `.size()` gives the number of observations for each unique value a particular column or set of columns. The command `nunique()` is similar, but it counts just the number of unique entries. It can be used on an entire dataframe, or a subset of columns."
   ]
  },
  {
   "cell_type": "code",
   "execution_count": 105,
   "metadata": {
    "collapsed": false
   },
   "outputs": [
    {
     "data": {
      "text/plain": [
       "date_dt         13\n",
       "day_of_week      7\n",
       "temperature      9\n",
       "weather          3\n",
       "hour_dt         24\n",
       "bikes          212\n",
       "dtype: int64"
      ]
     },
     "execution_count": 105,
     "metadata": {},
     "output_type": "execute_result"
    }
   ],
   "source": [
    "bike_counts_total.nunique()"
   ]
  },
  {
   "cell_type": "markdown",
   "metadata": {},
   "source": [
    ">#### Challenge\n",
    ">\n",
    ">1. How many different count days are in the `bike_counts_total` dataset?\n",
    ">\n",
    ">2. Create a new dataframe called `weather_df` by grouping by `date_dt` and `weather` and calculating the size. Use the new dataframe to calculate how many of the count days had no rain.\n",
    ">\n",
    ">Optional challenge: Which day of the week was counted on the most separate occasions? Hint: modify `weather_df` to include the `day_of_week` column.\n",
    "\n",
    "<!--\n",
    "1. There are many ways you could answer this. A concise one:\n",
    "bike_counts_total['date_dt'].nunique()\n",
    "len(bike_counts_total['date_dt'].unique())\n",
    "len(bike_counts_total.groupby('date_dt').size())\n",
    "len(bike_counts_total['date_dt'].value_counts())\n",
    "2. The trick is that it's hard to count total numbers when each day has 24 different observations. By grouping by date and creating a new dataframe, you only keep one row per date and then can count up stuff related to date. You could also divide all the previous numbers by 24 for a quick estimate.\n",
    "The .size() step is sort of unnecessary, we only need to do some calculation to get an actual dataframe back.\n",
    "weather_df = bike_counts_total.groupby(['date_dt', 'weather']).size().reset_index()\n",
    "weather_df.groupby('weather').size()\n",
    "Optional: weather_df = bike_counts_total.groupby(['date_dt', 'weather', 'day_of_week']).size().reset_index()\n",
    "weather_df.groupby('day_of_week').size().nlargest()\n",
    "-->"
   ]
  },
  {
   "cell_type": "markdown",
   "metadata": {},
   "source": [
    "## Plotting"
   ]
  },
  {
   "cell_type": "code",
   "execution_count": 77,
   "metadata": {
    "collapsed": true
   },
   "outputs": [],
   "source": [
    "import seaborn as sns"
   ]
  },
  {
   "cell_type": "code",
   "execution_count": 78,
   "metadata": {
    "collapsed": true
   },
   "outputs": [],
   "source": [
    "%matplotlib inline"
   ]
  },
  {
   "cell_type": "markdown",
   "metadata": {},
   "source": [
    "Make a dataframe with just weekday counts:"
   ]
  },
  {
   "cell_type": "code",
   "execution_count": 79,
   "metadata": {
    "collapsed": true
   },
   "outputs": [],
   "source": [
    "bike_counts_weekdays = bike_counts.loc[(bike_counts['day_of_week'] != \"Saturday\") & (bike_counts['day_of_week'] != \"Sunday\")]"
   ]
  },
  {
   "cell_type": "markdown",
   "metadata": {},
   "source": [
    "Make a boxplot showing distribution of counts across hours in the day"
   ]
  },
  {
   "cell_type": "code",
   "execution_count": 118,
   "metadata": {
    "collapsed": false
   },
   "outputs": [
    {
     "data": {
      "text/plain": [
       "<matplotlib.axes._subplots.AxesSubplot at 0x2404b930cf8>"
      ]
     },
     "execution_count": 118,
     "metadata": {},
     "output_type": "execute_result"
    },
    {
     "data": {
      "image/png": "[encoded data removed]",
      "text/plain": [
       "<Figure size 432x288 with 1 Axes>"
      ]
     },
     "metadata": {},
     "output_type": "display_data"
    }
   ],
   "source": [
    "sns.boxplot(x='hour_dt', y='bikes', data=bike_counts_weekdays)"
   ]
  },
  {
   "cell_type": "markdown",
   "metadata": {},
   "source": [
    "Why would the distribution be so broad around 7-9 am and 4-6 pm? Let's colour this plot using a different variable."
   ]
  },
  {
   "cell_type": "code",
   "execution_count": 123,
   "metadata": {
    "collapsed": false
   },
   "outputs": [
    {
     "data": {
      "text/plain": [
       "<matplotlib.axes._subplots.AxesSubplot at 0x2404d7d76a0>"
      ]
     },
     "execution_count": 123,
     "metadata": {},
     "output_type": "execute_result"
    },
    {
     "data": {
      "image/png": "[encoded data removed]",
      "text/plain": [
       "<Figure size 432x288 with 1 Axes>"
      ]
     },
     "metadata": {},
     "output_type": "display_data"
    }
   ],
   "source": [
    "sns.boxplot(x='hour_dt', y='bikes', data=bike_counts_weekdays, hue = 'direction')"
   ]
  },
  {
   "cell_type": "markdown",
   "metadata": {},
   "source": [
    "By splitting the data to colour it by the direction of travel, we can see that "
   ]
  },
  {
   "cell_type": "code",
   "execution_count": 127,
   "metadata": {
    "collapsed": false
   },
   "outputs": [
    {
     "data": {
      "text/plain": [
       "<matplotlib.axes._subplots.AxesSubplot at 0x2404dd586d8>"
      ]
     },
     "execution_count": 127,
     "metadata": {},
     "output_type": "execute_result"
    },
    {
     "data": {
      "image/png": "[encoded data removed]",
      "text/plain": [
       "<Figure size 432x288 with 1 Axes>"
      ]
     },
     "metadata": {},
     "output_type": "display_data"
    }
   ],
   "source": [
    "sns.violinplot(x='hour_dt', y='bikes', data=bike_counts_weekdays[(bike_counts_weekdays['hour_dt'] > 5) & (bike_counts_weekdays['hour_dt'] < 20)])"
   ]
  },
  {
   "cell_type": "code",
   "execution_count": 117,
   "metadata": {
    "collapsed": false
   },
   "outputs": [
    {
     "data": {
      "text/plain": [
       "<matplotlib.axes._subplots.AxesSubplot at 0x2404b940cf8>"
      ]
     },
     "execution_count": 117,
     "metadata": {},
     "output_type": "execute_result"
    },
    {
     "data": {
      "image/png": "[encoded data removed]",
      "text/plain": [
       "<Figure size 432x288 with 1 Axes>"
      ]
     },
     "metadata": {},
     "output_type": "display_data"
    }
   ],
   "source": [
    "sns.boxplot(x='hour_dt', y='bikes', data=bike_counts_weekdays[bike_counts_weekdays['direction'] == 'Westbound'])"
   ]
  },
  {
   "cell_type": "code",
   "execution_count": 81,
   "metadata": {
    "collapsed": false
   },
   "outputs": [
    {
     "ename": "KeyError",
     "evalue": "'year'",
     "output_type": "error",
     "traceback": [
      "\u001b[1;31m---------------------------------------------------------------------------\u001b[0m",
      "\u001b[1;31mKeyError\u001b[0m                                  Traceback (most recent call last)",
      "\u001b[1;32m<ipython-input-81-594fd681600f>\u001b[0m in \u001b[0;36m<module>\u001b[1;34m()\u001b[0m\n\u001b[1;32m----> 1\u001b[1;33m \u001b[0mbike_counts_weekdays\u001b[0m\u001b[1;33m.\u001b[0m\u001b[0mgroupby\u001b[0m\u001b[1;33m(\u001b[0m\u001b[1;33m[\u001b[0m\u001b[1;34m'year'\u001b[0m\u001b[1;33m,\u001b[0m\u001b[1;34m'day_of_week'\u001b[0m\u001b[1;33m]\u001b[0m\u001b[1;33m)\u001b[0m\u001b[1;33m\u001b[0m\u001b[0m\n\u001b[0m",
      "\u001b[1;32m~\\AppData\\Local\\conda\\conda\\envs\\python3\\lib\\site-packages\\pandas\\core\\generic.py\u001b[0m in \u001b[0;36mgroupby\u001b[1;34m(self, by, axis, level, as_index, sort, group_keys, squeeze, **kwargs)\u001b[0m\n\u001b[0;32m   5160\u001b[0m         return groupby(self, by=by, axis=axis, level=level, as_index=as_index,\n\u001b[0;32m   5161\u001b[0m                        \u001b[0msort\u001b[0m\u001b[1;33m=\u001b[0m\u001b[0msort\u001b[0m\u001b[1;33m,\u001b[0m \u001b[0mgroup_keys\u001b[0m\u001b[1;33m=\u001b[0m\u001b[0mgroup_keys\u001b[0m\u001b[1;33m,\u001b[0m \u001b[0msqueeze\u001b[0m\u001b[1;33m=\u001b[0m\u001b[0msqueeze\u001b[0m\u001b[1;33m,\u001b[0m\u001b[1;33m\u001b[0m\u001b[0m\n\u001b[1;32m-> 5162\u001b[1;33m                        **kwargs)\n\u001b[0m\u001b[0;32m   5163\u001b[0m \u001b[1;33m\u001b[0m\u001b[0m\n\u001b[0;32m   5164\u001b[0m     def asfreq(self, freq, method=None, how=None, normalize=False,\n",
      "\u001b[1;32m~\\AppData\\Local\\conda\\conda\\envs\\python3\\lib\\site-packages\\pandas\\core\\groupby.py\u001b[0m in \u001b[0;36mgroupby\u001b[1;34m(obj, by, **kwds)\u001b[0m\n\u001b[0;32m   1846\u001b[0m         \u001b[1;32mraise\u001b[0m \u001b[0mTypeError\u001b[0m\u001b[1;33m(\u001b[0m\u001b[1;34m'invalid type: %s'\u001b[0m \u001b[1;33m%\u001b[0m \u001b[0mtype\u001b[0m\u001b[1;33m(\u001b[0m\u001b[0mobj\u001b[0m\u001b[1;33m)\u001b[0m\u001b[1;33m)\u001b[0m\u001b[1;33m\u001b[0m\u001b[0m\n\u001b[0;32m   1847\u001b[0m \u001b[1;33m\u001b[0m\u001b[0m\n\u001b[1;32m-> 1848\u001b[1;33m     \u001b[1;32mreturn\u001b[0m \u001b[0mklass\u001b[0m\u001b[1;33m(\u001b[0m\u001b[0mobj\u001b[0m\u001b[1;33m,\u001b[0m \u001b[0mby\u001b[0m\u001b[1;33m,\u001b[0m \u001b[1;33m**\u001b[0m\u001b[0mkwds\u001b[0m\u001b[1;33m)\u001b[0m\u001b[1;33m\u001b[0m\u001b[0m\n\u001b[0m\u001b[0;32m   1849\u001b[0m \u001b[1;33m\u001b[0m\u001b[0m\n\u001b[0;32m   1850\u001b[0m \u001b[1;33m\u001b[0m\u001b[0m\n",
      "\u001b[1;32m~\\AppData\\Local\\conda\\conda\\envs\\python3\\lib\\site-packages\\pandas\\core\\groupby.py\u001b[0m in \u001b[0;36m__init__\u001b[1;34m(self, obj, keys, axis, level, grouper, exclusions, selection, as_index, sort, group_keys, squeeze, **kwargs)\u001b[0m\n\u001b[0;32m    514\u001b[0m                                                     \u001b[0mlevel\u001b[0m\u001b[1;33m=\u001b[0m\u001b[0mlevel\u001b[0m\u001b[1;33m,\u001b[0m\u001b[1;33m\u001b[0m\u001b[0m\n\u001b[0;32m    515\u001b[0m                                                     \u001b[0msort\u001b[0m\u001b[1;33m=\u001b[0m\u001b[0msort\u001b[0m\u001b[1;33m,\u001b[0m\u001b[1;33m\u001b[0m\u001b[0m\n\u001b[1;32m--> 516\u001b[1;33m                                                     mutated=self.mutated)\n\u001b[0m\u001b[0;32m    517\u001b[0m \u001b[1;33m\u001b[0m\u001b[0m\n\u001b[0;32m    518\u001b[0m         \u001b[0mself\u001b[0m\u001b[1;33m.\u001b[0m\u001b[0mobj\u001b[0m \u001b[1;33m=\u001b[0m \u001b[0mobj\u001b[0m\u001b[1;33m\u001b[0m\u001b[0m\n",
      "\u001b[1;32m~\\AppData\\Local\\conda\\conda\\envs\\python3\\lib\\site-packages\\pandas\\core\\groupby.py\u001b[0m in \u001b[0;36m_get_grouper\u001b[1;34m(obj, key, axis, level, sort, mutated, validate)\u001b[0m\n\u001b[0;32m   2932\u001b[0m                 \u001b[0min_axis\u001b[0m\u001b[1;33m,\u001b[0m \u001b[0mname\u001b[0m\u001b[1;33m,\u001b[0m \u001b[0mlevel\u001b[0m\u001b[1;33m,\u001b[0m \u001b[0mgpr\u001b[0m \u001b[1;33m=\u001b[0m \u001b[1;32mFalse\u001b[0m\u001b[1;33m,\u001b[0m \u001b[1;32mNone\u001b[0m\u001b[1;33m,\u001b[0m \u001b[0mgpr\u001b[0m\u001b[1;33m,\u001b[0m \u001b[1;32mNone\u001b[0m\u001b[1;33m\u001b[0m\u001b[0m\n\u001b[0;32m   2933\u001b[0m             \u001b[1;32melse\u001b[0m\u001b[1;33m:\u001b[0m\u001b[1;33m\u001b[0m\u001b[0m\n\u001b[1;32m-> 2934\u001b[1;33m                 \u001b[1;32mraise\u001b[0m \u001b[0mKeyError\u001b[0m\u001b[1;33m(\u001b[0m\u001b[0mgpr\u001b[0m\u001b[1;33m)\u001b[0m\u001b[1;33m\u001b[0m\u001b[0m\n\u001b[0m\u001b[0;32m   2935\u001b[0m         \u001b[1;32melif\u001b[0m \u001b[0misinstance\u001b[0m\u001b[1;33m(\u001b[0m\u001b[0mgpr\u001b[0m\u001b[1;33m,\u001b[0m \u001b[0mGrouper\u001b[0m\u001b[1;33m)\u001b[0m \u001b[1;32mand\u001b[0m \u001b[0mgpr\u001b[0m\u001b[1;33m.\u001b[0m\u001b[0mkey\u001b[0m \u001b[1;32mis\u001b[0m \u001b[1;32mnot\u001b[0m \u001b[1;32mNone\u001b[0m\u001b[1;33m:\u001b[0m\u001b[1;33m\u001b[0m\u001b[0m\n\u001b[0;32m   2936\u001b[0m             \u001b[1;31m# Add key to exclusions\u001b[0m\u001b[1;33m\u001b[0m\u001b[1;33m\u001b[0m\u001b[0m\n",
      "\u001b[1;31mKeyError\u001b[0m: 'year'"
     ]
    }
   ],
   "source": [
    "bike_counts_weekdays.groupby(['year','day_of_week'])"
   ]
  },
  {
   "cell_type": "code",
   "execution_count": null,
   "metadata": {
    "collapsed": false
   },
   "outputs": [],
   "source": [
    "sns.violinplot(x = 'day_of_week', y = 'bikes', data = bike_counts_weekdays)"
   ]
  },
  {
   "cell_type": "code",
   "execution_count": null,
   "metadata": {
    "collapsed": false
   },
   "outputs": [],
   "source": [
    "sns.lmplot(x = 'hour_dt', y = 'bikes', data = bike_counts_weekdays, fit_reg = False)"
   ]
  },
  {
   "cell_type": "code",
   "execution_count": null,
   "metadata": {
    "collapsed": true
   },
   "outputs": [],
   "source": [
    "bike_counts['year'] = bike_counts['date_dt'].dt.year"
   ]
  },
  {
   "cell_type": "code",
   "execution_count": null,
   "metadata": {
    "collapsed": false
   },
   "outputs": [],
   "source": [
    "sns.factorplot(x = 'hour_dt', y = 'bikes', col = 'day_of_week', hue = 'year', col_wrap = 4, data = bike_counts, kind = \"point\")"
   ]
  },
  {
   "cell_type": "markdown",
   "metadata": {},
   "source": [
    "Ideas:\n",
    "- check if there was an increase from 2010 to 2017, use only weekdays, then remove days with rain\n",
    "- Plot counts vs hour, facet on day of the week, colour by year\n",
    "- create a new column with just the year\n",
    "- what should a violin plot be of? \n",
    "- look at difference in hourly rates between eastbound and westbound - find the mean direction of travel, see bumps for each commute"
   ]
  },
  {
   "cell_type": "code",
   "execution_count": null,
   "metadata": {
    "collapsed": true
   },
   "outputs": [],
   "source": []
  },
  {
   "cell_type": "code",
   "execution_count": null,
   "metadata": {
    "collapsed": true
   },
   "outputs": [],
   "source": []
  },
  {
   "cell_type": "code",
   "execution_count": null,
   "metadata": {
    "collapsed": true
   },
   "outputs": [],
   "source": []
  }
 ],
 "metadata": {
  "kernelspec": {
   "display_name": "Python 3",
   "language": "python",
   "name": "python3"
  },
  "language_info": {
   "codemirror_mode": {
    "name": "ipython",
    "version": 3
   },
   "file_extension": ".py",
   "mimetype": "text/x-python",
   "name": "python",
   "nbconvert_exporter": "python",
   "pygments_lexer": "ipython3",
   "version": "3.6.0"
  }
 },
 "nbformat": 4,
 "nbformat_minor": 2
}
